{
 "cells": [
  {
   "cell_type": "code",
   "execution_count": 3,
   "metadata": {
    "collapsed": true
   },
   "outputs": [],
   "source": [
    "%matplotlib inline"
   ]
  },
  {
   "cell_type": "code",
   "execution_count": 4,
   "metadata": {
    "collapsed": true
   },
   "outputs": [],
   "source": [
    "import requests\n",
    "import re\n",
    "from fastai.text import *\n",
    "import torch"
   ]
  },
  {
   "cell_type": "code",
   "execution_count": 5,
   "metadata": {
    "collapsed": true
   },
   "outputs": [],
   "source": [
    "book = requests.get('https://www.gutenberg.org/files/36/36-0.txt').text"
   ]
  },
  {
   "cell_type": "code",
   "execution_count": 6,
   "metadata": {
    "collapsed": true
   },
   "outputs": [],
   "source": [
    "start_iter = re.finditer('BOOK ONE', book)"
   ]
  },
  {
   "cell_type": "code",
   "execution_count": 7,
   "metadata": {},
   "outputs": [
    {
     "data": {
      "text/plain": [
       "<_sre.SRE_Match object; span=(1067, 1075), match='BOOK ONE'>"
      ]
     },
     "execution_count": 7,
     "metadata": {},
     "output_type": "execute_result"
    }
   ],
   "source": [
    "next(start_iter)"
   ]
  },
  {
   "cell_type": "markdown",
   "metadata": {},
   "source": [
    "Commenting out some print lines here to shrink the notebook -- I did some exploration to figure out where the actual story began and ended (excluding table of contents, acknowledgements, etc.)"
   ]
  },
  {
   "cell_type": "code",
   "execution_count": 8,
   "metadata": {},
   "outputs": [],
   "source": [
    "# book[1067:]"
   ]
  },
  {
   "cell_type": "code",
   "execution_count": 9,
   "metadata": {},
   "outputs": [
    {
     "data": {
      "text/plain": [
       "<_sre.SRE_Match object; span=(1920, 1928), match='BOOK ONE'>"
      ]
     },
     "execution_count": 9,
     "metadata": {},
     "output_type": "execute_result"
    }
   ],
   "source": [
    "next(start_iter)"
   ]
  },
  {
   "cell_type": "code",
   "execution_count": 10,
   "metadata": {},
   "outputs": [],
   "source": [
    "# book[1920:]"
   ]
  },
  {
   "cell_type": "code",
   "execution_count": 11,
   "metadata": {
    "collapsed": true
   },
   "outputs": [],
   "source": [
    "book = book[1920:]"
   ]
  },
  {
   "cell_type": "code",
   "execution_count": 12,
   "metadata": {
    "collapsed": true
   },
   "outputs": [],
   "source": [
    "end_iter = re.finditer(\"among the dead.\", book)"
   ]
  },
  {
   "cell_type": "code",
   "execution_count": 13,
   "metadata": {},
   "outputs": [
    {
     "data": {
      "text/plain": [
       "<_sre.SRE_Match object; span=(64109, 64124), match='among the dead '>"
      ]
     },
     "execution_count": 13,
     "metadata": {},
     "output_type": "execute_result"
    }
   ],
   "source": [
    "next(end_iter)"
   ]
  },
  {
   "cell_type": "code",
   "execution_count": 14,
   "metadata": {},
   "outputs": [],
   "source": [
    "# book[:64125]"
   ]
  },
  {
   "cell_type": "code",
   "execution_count": 15,
   "metadata": {},
   "outputs": [
    {
     "data": {
      "text/plain": [
       "<_sre.SRE_Match object; span=(345594, 345609), match='among the dead.'>"
      ]
     },
     "execution_count": 15,
     "metadata": {},
     "output_type": "execute_result"
    }
   ],
   "source": [
    "next(end_iter)"
   ]
  },
  {
   "cell_type": "code",
   "execution_count": 16,
   "metadata": {},
   "outputs": [],
   "source": [
    "# book[:345609]"
   ]
  },
  {
   "cell_type": "code",
   "execution_count": 17,
   "metadata": {
    "collapsed": true
   },
   "outputs": [],
   "source": [
    "book = book[:345609]"
   ]
  },
  {
   "cell_type": "code",
   "execution_count": 18,
   "metadata": {
    "collapsed": true
   },
   "outputs": [],
   "source": [
    "book = re.sub(r'[\\r\\n]+', ' ', str(book))"
   ]
  },
  {
   "cell_type": "code",
   "execution_count": 19,
   "metadata": {},
   "outputs": [],
   "source": [
    "# book"
   ]
  },
  {
   "cell_type": "code",
   "execution_count": 20,
   "metadata": {
    "collapsed": true
   },
   "outputs": [],
   "source": [
    "tokens = [i.replace(',', '') for i in book.split('.')]"
   ]
  },
  {
   "cell_type": "code",
   "execution_count": 22,
   "metadata": {},
   "outputs": [],
   "source": [
    "# tokens"
   ]
  },
  {
   "cell_type": "code",
   "execution_count": 23,
   "metadata": {},
   "outputs": [
    {
     "data": {
      "text/plain": [
       "['BOOK ONE THE COMING OF THE MARTIANS I',\n",
       " ' THE EVE OF THE WAR',\n",
       " ' No one would have believed in the last years of the nineteenth century that this world was being watched keenly and closely by intelligences greater than manâ\\x80\\x99s and yet as mortal as his own; that as men busied themselves about their various concerns they were scrutinised and studied perhaps almost as narrowly as a man with a microscope might scrutinise the transient creatures that swarm and multiply in a drop of water',\n",
       " ' With infinite complacency men went to and fro over this globe about their little affairs serene in their assurance of their empire over matter',\n",
       " ' It is possible that the infusoria under the microscope do the same',\n",
       " ' No one gave a thought to the older worlds of space as sources of human danger or thought of them only to dismiss the idea of life upon them as impossible or improbable',\n",
       " ' It is curious to recall some of the mental habits of those departed days',\n",
       " ' At most terrestrial men fancied there might be other men upon Mars perhaps inferior to themselves and ready to welcome a missionary enterprise',\n",
       " ' Yet across the gulf of space minds that are to our minds as ours are to those of the beasts that perish intellects vast and cool and unsympathetic regarded this earth with envious eyes and slowly and surely drew their plans against us',\n",
       " ' And early in the twentieth century came the great disillusionment']"
      ]
     },
     "execution_count": 23,
     "metadata": {},
     "output_type": "execute_result"
    }
   ],
   "source": [
    "tokens[:10]"
   ]
  },
  {
   "cell_type": "code",
   "execution_count": 24,
   "metadata": {
    "collapsed": true
   },
   "outputs": [],
   "source": [
    "! rm book_text.csv"
   ]
  },
  {
   "cell_type": "code",
   "execution_count": 25,
   "metadata": {
    "collapsed": true
   },
   "outputs": [],
   "source": [
    "with open('book_text.csv', 'a+') as file:\n",
    "    for sentence in tokens:\n",
    "        file.write(sentence + '\\n')"
   ]
  },
  {
   "cell_type": "code",
   "execution_count": 26,
   "metadata": {},
   "outputs": [
    {
     "name": "stdout",
     "output_type": "stream",
     "text": [
      "BOOK ONE THE COMING OF THE MARTIANS I\n",
      "\n",
      " THE EVE OF THE WAR\n",
      "\n",
      " No one would have believed in the last years of the nineteenth century that this world was being watched keenly and closely by intelligences greater than manâs and yet as mortal as his own; that as men busied themselves about their various concerns they were scrutinised and studied perhaps almost as narrowly as a man with a microscope might scrutinise the transient creatures that swarm and multiply in a drop of water\n",
      "\n"
     ]
    }
   ],
   "source": [
    "with open('book_text.csv') as file:\n",
    "    lines = file.readlines()[:5]\n",
    "print(lines[0])\n",
    "print(lines[1])\n",
    "print(lines[2])"
   ]
  },
  {
   "cell_type": "code",
   "execution_count": 27,
   "metadata": {},
   "outputs": [],
   "source": [
    "data = TextLMDataBunch.from_csv('.', 'book_text.csv', text_cols=0, max_vocab=1000, min_freq=2)"
   ]
  },
  {
   "cell_type": "code",
   "execution_count": 28,
   "metadata": {},
   "outputs": [
    {
     "data": {
      "text/plain": [
       "TextLMDataBunch;\n",
       "\n",
       "Train: LabelList (2434 items)\n",
       "x: LMTextList\n",
       "xxbos i thought at once that it would xxunk my xxunk from the xxunk of the blow i had xxunk him,xxbos xxmaj the xxunk of xxunk xxunk xxunk is so xxunk xxunk in the xxmaj xxunk mind and xxunk intelligence so much a matter of course in the papers that they could read without any xxunk xxunk : xxunk xxunk oâclock last night the xxmaj martians came out of the cylinder and moving about under an xxunk of metallic xxunk have xxunk xxunk xxmaj woking station with the xxunk houses and xxunk an xxunk xxunk of the xxmaj xxunk xxmaj xxunk,xxbos xxmaj among these were a couple of xxunk a xxunk xxunk i xxunk xxunk a xxunk carrying a xxunk xxmaj xxunk the xxunk and his little boy and two or three xxunk and xxunk xxunk who were xxunk to xxunk about the railway station,xxbos xxmaj in the xxunk of bright xxunk sunlight i saw the xxmaj martian in its xxmaj xxunk of a handling - machine xxunk the xxunk head,xxbos xxmaj it may be in my time xxunk men\n",
       "y: LMLabelList\n",
       ",,,,\n",
       "Path: .;\n",
       "\n",
       "Valid: LabelList (609 items)\n",
       "x: LMTextList\n",
       "xxbos âwe have xxunk said the slender woman and xxunk,xxbos xxmaj he stopped behind to tell the xxunk,xxbos xxmaj the xxunk it certainly was that xxunk my attention first,xxbos i take no xxunk to myself for an xxunk but the fact is so,xxbos xxmaj he left it by the xxunk and xxunk through the village\n",
       "y: LMLabelList\n",
       ",,,,\n",
       "Path: .;\n",
       "\n",
       "Test: None"
      ]
     },
     "execution_count": 28,
     "metadata": {},
     "output_type": "execute_result"
    }
   ],
   "source": [
    "data"
   ]
  },
  {
   "cell_type": "code",
   "execution_count": 29,
   "metadata": {
    "collapsed": true
   },
   "outputs": [],
   "source": [
    "data.bptt = 3"
   ]
  },
  {
   "cell_type": "code",
   "execution_count": 30,
   "metadata": {},
   "outputs": [
    {
     "data": {
      "text/plain": [
       "(Text xxbos i thought at once that it would xxunk my xxunk from the xxunk of the blow i had xxunk him,\n",
       " EmptyLabel )"
      ]
     },
     "execution_count": 30,
     "metadata": {},
     "output_type": "execute_result"
    }
   ],
   "source": [
    "data.train_ds[0]"
   ]
  },
  {
   "cell_type": "code",
   "execution_count": 31,
   "metadata": {},
   "outputs": [
    {
     "data": {
      "text/plain": [
       "array([2, 5, 9, 0, ..., 5, 0, 5, 0])"
      ]
     },
     "execution_count": 31,
     "metadata": {},
     "output_type": "execute_result"
    }
   ],
   "source": [
    "data.train_ds[1][0].data"
   ]
  },
  {
   "cell_type": "code",
   "execution_count": 32,
   "metadata": {},
   "outputs": [
    {
     "data": {
      "text/plain": [
       "array([  2,   5,  24, 253, 171,  14, 378,   9,   0])"
      ]
     },
     "execution_count": 32,
     "metadata": {},
     "output_type": "execute_result"
    }
   ],
   "source": [
    "data.valid_ds[1][0].data"
   ]
  },
  {
   "cell_type": "code",
   "execution_count": 33,
   "metadata": {},
   "outputs": [
    {
     "data": {
      "text/plain": [
       "torch.Size([64, 70])"
      ]
     },
     "execution_count": 33,
     "metadata": {},
     "output_type": "execute_result"
    }
   ],
   "source": [
    "data.one_batch()[0].shape"
   ]
  },
  {
   "cell_type": "code",
   "execution_count": 34,
   "metadata": {
    "collapsed": true
   },
   "outputs": [],
   "source": [
    "x, y = data.one_batch()"
   ]
  },
  {
   "cell_type": "code",
   "execution_count": 35,
   "metadata": {},
   "outputs": [
    {
     "data": {
      "text/plain": [
       "(torch.Size([64, 70]), torch.Size([64, 70]))"
      ]
     },
     "execution_count": 35,
     "metadata": {},
     "output_type": "execute_result"
    }
   ],
   "source": [
    "x.shape, y.shape"
   ]
  },
  {
   "cell_type": "code",
   "execution_count": 36,
   "metadata": {},
   "outputs": [
    {
     "data": {
      "text/plain": [
       "(tensor([  0,  14,   0,  50,   9, 284, 193,   2,   5,  15,   9,   0,  11, 475,\n",
       "           0, 685,  13,  71,   9,   5, 103,  15,  58,   5,   0,  11,  12, 395,\n",
       "          29, 165,   0,   9,   0, 285,   2,   5,  18, 194,  62,  15,  21,  72,\n",
       "           0,  78,   2,   5,  10,  51,  12, 166, 195, 762,   2,   5, 240,  52,\n",
       "          15,   5,   0,   5, 622,  10,   5,   0, 133,  42, 119,   9, 864,  11]),\n",
       " tensor([ 14,   0,  50,   9, 284, 193,   2,   5,  15,   9,   0,  11, 475,   0,\n",
       "         685,  13,  71,   9,   5, 103,  15,  58,   5,   0,  11,  12, 395,  29,\n",
       "         165,   0,   9,   0, 285,   2,   5,  18, 194,  62,  15,  21,  72,   0,\n",
       "          78,   2,   5,  10,  51,  12, 166, 195, 762,   2,   5, 240,  52,  15,\n",
       "           5,   0,   5, 622,  10,   5,   0, 133,  42, 119,   9, 864,  11,  18]))"
      ]
     },
     "execution_count": 36,
     "metadata": {},
     "output_type": "execute_result"
    }
   ],
   "source": [
    "x[0], y[0]"
   ]
  },
  {
   "cell_type": "code",
   "execution_count": 37,
   "metadata": {},
   "outputs": [
    {
     "data": {
      "text/plain": [
       "1006"
      ]
     },
     "execution_count": 37,
     "metadata": {},
     "output_type": "execute_result"
    }
   ],
   "source": [
    "len(data.vocab.itos)"
   ]
  },
  {
   "cell_type": "code",
   "execution_count": 38,
   "metadata": {
    "collapsed": true
   },
   "outputs": [],
   "source": [
    "nv = len(data.vocab.itos)"
   ]
  },
  {
   "cell_type": "code",
   "execution_count": 39,
   "metadata": {
    "collapsed": true
   },
   "outputs": [],
   "source": [
    "nh = 64"
   ]
  },
  {
   "cell_type": "code",
   "execution_count": 40,
   "metadata": {
    "collapsed": true
   },
   "outputs": [],
   "source": [
    "bs = 64"
   ]
  },
  {
   "cell_type": "code",
   "execution_count": 41,
   "metadata": {
    "collapsed": true
   },
   "outputs": [],
   "source": [
    "class BasicLanguageModel(nn.Module):\n",
    "     \n",
    "    def __init__(self):\n",
    "        super().__init__()\n",
    "        self.i_h = nn.Embedding(nv, nh)\n",
    "        self.h_h = nn.Linear(nh, nh)\n",
    "        self.h_o = nn.Linear(nh, nv)\n",
    "        self.bn = nn.BatchNorm1d(nh)\n",
    "        self.h = torch.zeros(bs, nh).cuda()\n",
    "        \n",
    "    def forward(self, x):\n",
    "        res = []\n",
    "        h = self.h\n",
    "        for i in range(x.shape[1]):\n",
    "            h = h + self.i_h(x[:,i]) \n",
    "            h = F.relu(self.h_h(h))\n",
    "            res.append(self.bn(h))\n",
    "        self.h = h.detach()\n",
    "        res = torch.stack(res, dim=1)\n",
    "        res = self.h_o(res)\n",
    "        return res"
   ]
  },
  {
   "cell_type": "code",
   "execution_count": 42,
   "metadata": {},
   "outputs": [
    {
     "data": {
      "text/plain": [
       "LabelLists;\n",
       "\n",
       "Train: LabelList (2434 items)\n",
       "x: LMTextList\n",
       "xxbos i thought at once that it would xxunk my xxunk from the xxunk of the blow i had xxunk him,xxbos xxmaj the xxunk of xxunk xxunk xxunk is so xxunk xxunk in the xxmaj xxunk mind and xxunk intelligence so much a matter of course in the papers that they could read without any xxunk xxunk : xxunk xxunk oâclock last night the xxmaj martians came out of the cylinder and moving about under an xxunk of metallic xxunk have xxunk xxunk xxmaj woking station with the xxunk houses and xxunk an xxunk xxunk of the xxmaj xxunk xxmaj xxunk,xxbos xxmaj among these were a couple of xxunk a xxunk xxunk i xxunk xxunk a xxunk carrying a xxunk xxmaj xxunk the xxunk and his little boy and two or three xxunk and xxunk xxunk who were xxunk to xxunk about the railway station,xxbos xxmaj in the xxunk of bright xxunk sunlight i saw the xxmaj martian in its xxmaj xxunk of a handling - machine xxunk the xxunk head,xxbos xxmaj it may be in my time xxunk men\n",
       "y: LMLabelList\n",
       ",,,,\n",
       "Path: .;\n",
       "\n",
       "Valid: LabelList (609 items)\n",
       "x: LMTextList\n",
       "xxbos âwe have xxunk said the slender woman and xxunk,xxbos xxmaj he stopped behind to tell the xxunk,xxbos xxmaj the xxunk it certainly was that xxunk my attention first,xxbos i take no xxunk to myself for an xxunk but the fact is so,xxbos xxmaj he left it by the xxunk and xxunk through the village\n",
       "y: LMLabelList\n",
       ",,,,\n",
       "Path: .;\n",
       "\n",
       "Test: None"
      ]
     },
     "execution_count": 42,
     "metadata": {},
     "output_type": "execute_result"
    }
   ],
   "source": [
    "data.label_list"
   ]
  },
  {
   "cell_type": "code",
   "execution_count": 43,
   "metadata": {
    "collapsed": true
   },
   "outputs": [],
   "source": [
    "data.bptt = 20\n",
    "data.batch_size = bs"
   ]
  },
  {
   "cell_type": "code",
   "execution_count": 44,
   "metadata": {
    "collapsed": true
   },
   "outputs": [],
   "source": [
    "learn = Learner(data, BasicLanguageModel(), metrics=accuracy)"
   ]
  },
  {
   "cell_type": "code",
   "execution_count": 45,
   "metadata": {},
   "outputs": [
    {
     "data": {
      "text/html": [
       "Total time: 00:11 <p><table style='width:375px; margin-bottom:10px'>\n",
       "  <tr>\n",
       "    <th>epoch</th>\n",
       "    <th>train_loss</th>\n",
       "    <th>valid_loss</th>\n",
       "    <th>accuracy</th>\n",
       "    <th>time</th>\n",
       "  </tr>\n",
       "  <tr>\n",
       "    <th>0</th>\n",
       "    <th>6.831203</th>\n",
       "    <th>6.661967</th>\n",
       "    <th>0.102734</th>\n",
       "    <th>00:00</th>\n",
       "  </tr>\n",
       "  <tr>\n",
       "    <th>1</th>\n",
       "    <th>6.572461</th>\n",
       "    <th>5.902810</th>\n",
       "    <th>0.190960</th>\n",
       "    <th>00:00</th>\n",
       "  </tr>\n",
       "  <tr>\n",
       "    <th>2</th>\n",
       "    <th>5.965570</th>\n",
       "    <th>4.373462</th>\n",
       "    <th>0.227846</th>\n",
       "    <th>00:00</th>\n",
       "  </tr>\n",
       "  <tr>\n",
       "    <th>3</th>\n",
       "    <th>5.339042</th>\n",
       "    <th>4.045414</th>\n",
       "    <th>0.254743</th>\n",
       "    <th>00:00</th>\n",
       "  </tr>\n",
       "  <tr>\n",
       "    <th>4</th>\n",
       "    <th>4.893654</th>\n",
       "    <th>3.925138</th>\n",
       "    <th>0.271875</th>\n",
       "    <th>00:00</th>\n",
       "  </tr>\n",
       "  <tr>\n",
       "    <th>5</th>\n",
       "    <th>4.564156</th>\n",
       "    <th>3.883368</th>\n",
       "    <th>0.273382</th>\n",
       "    <th>00:00</th>\n",
       "  </tr>\n",
       "  <tr>\n",
       "    <th>6</th>\n",
       "    <th>4.311296</th>\n",
       "    <th>3.885398</th>\n",
       "    <th>0.278125</th>\n",
       "    <th>00:00</th>\n",
       "  </tr>\n",
       "  <tr>\n",
       "    <th>7</th>\n",
       "    <th>4.112661</th>\n",
       "    <th>3.891879</th>\n",
       "    <th>0.274386</th>\n",
       "    <th>00:00</th>\n",
       "  </tr>\n",
       "  <tr>\n",
       "    <th>8</th>\n",
       "    <th>3.947726</th>\n",
       "    <th>3.917398</th>\n",
       "    <th>0.280301</th>\n",
       "    <th>00:00</th>\n",
       "  </tr>\n",
       "  <tr>\n",
       "    <th>9</th>\n",
       "    <th>3.807902</th>\n",
       "    <th>3.918825</th>\n",
       "    <th>0.280078</th>\n",
       "    <th>00:00</th>\n",
       "  </tr>\n",
       "  <tr>\n",
       "    <th>10</th>\n",
       "    <th>3.686713</th>\n",
       "    <th>3.981009</th>\n",
       "    <th>0.275056</th>\n",
       "    <th>00:00</th>\n",
       "  </tr>\n",
       "  <tr>\n",
       "    <th>11</th>\n",
       "    <th>3.580311</th>\n",
       "    <th>4.024502</th>\n",
       "    <th>0.273605</th>\n",
       "    <th>00:00</th>\n",
       "  </tr>\n",
       "  <tr>\n",
       "    <th>12</th>\n",
       "    <th>3.483623</th>\n",
       "    <th>4.053931</th>\n",
       "    <th>0.271484</th>\n",
       "    <th>00:00</th>\n",
       "  </tr>\n",
       "  <tr>\n",
       "    <th>13</th>\n",
       "    <th>3.394219</th>\n",
       "    <th>4.089019</th>\n",
       "    <th>0.274498</th>\n",
       "    <th>00:00</th>\n",
       "  </tr>\n",
       "  <tr>\n",
       "    <th>14</th>\n",
       "    <th>3.314114</th>\n",
       "    <th>4.091827</th>\n",
       "    <th>0.275725</th>\n",
       "    <th>00:00</th>\n",
       "  </tr>\n",
       "  <tr>\n",
       "    <th>15</th>\n",
       "    <th>3.241698</th>\n",
       "    <th>4.124610</th>\n",
       "    <th>0.271931</th>\n",
       "    <th>00:00</th>\n",
       "  </tr>\n",
       "  <tr>\n",
       "    <th>16</th>\n",
       "    <th>3.177045</th>\n",
       "    <th>4.167451</th>\n",
       "    <th>0.270480</th>\n",
       "    <th>00:00</th>\n",
       "  </tr>\n",
       "  <tr>\n",
       "    <th>17</th>\n",
       "    <th>3.123015</th>\n",
       "    <th>4.158352</th>\n",
       "    <th>0.269699</th>\n",
       "    <th>00:00</th>\n",
       "  </tr>\n",
       "  <tr>\n",
       "    <th>18</th>\n",
       "    <th>3.076442</th>\n",
       "    <th>4.169345</th>\n",
       "    <th>0.271261</th>\n",
       "    <th>00:00</th>\n",
       "  </tr>\n",
       "  <tr>\n",
       "    <th>19</th>\n",
       "    <th>3.041019</th>\n",
       "    <th>4.168654</th>\n",
       "    <th>0.271540</th>\n",
       "    <th>00:00</th>\n",
       "  </tr>\n",
       "</table>\n"
      ],
      "text/plain": [
       "<IPython.core.display.HTML object>"
      ]
     },
     "metadata": {},
     "output_type": "display_data"
    }
   ],
   "source": [
    "learn.fit_one_cycle(20, max_lr=3e-2)"
   ]
  },
  {
   "cell_type": "markdown",
   "metadata": {},
   "source": [
    "# TODO: try a GRU/LSTM"
   ]
  },
  {
   "cell_type": "code",
   "execution_count": null,
   "metadata": {
    "collapsed": true
   },
   "outputs": [],
   "source": []
  }
 ],
 "metadata": {
  "kernelspec": {
   "display_name": "Python 3",
   "language": "python",
   "name": "python3"
  },
  "language_info": {
   "codemirror_mode": {
    "name": "ipython",
    "version": 3
   },
   "file_extension": ".py",
   "mimetype": "text/x-python",
   "name": "python",
   "nbconvert_exporter": "python",
   "pygments_lexer": "ipython3",
   "version": "3.6.8"
  }
 },
 "nbformat": 4,
 "nbformat_minor": 2
}
