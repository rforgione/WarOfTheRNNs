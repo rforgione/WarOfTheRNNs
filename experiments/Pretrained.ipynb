{
 "cells": [
  {
   "cell_type": "code",
   "execution_count": 1,
   "metadata": {
    "collapsed": true
   },
   "outputs": [],
   "source": [
    "%matplotlib inline\n",
    "%load_ext autoreload\n",
    "%autoreload 2"
   ]
  },
  {
   "cell_type": "code",
   "execution_count": 2,
   "metadata": {
    "collapsed": true
   },
   "outputs": [],
   "source": [
    "import requests\n",
    "import re\n",
    "from fastai.text import *\n",
    "import torch"
   ]
  },
  {
   "cell_type": "code",
   "execution_count": 82,
   "metadata": {},
   "outputs": [],
   "source": [
    "with open(\"/home/paperspace/WarOfTheRNNs/data/book_raw.txt\") as f:\n",
    "    book = f.read()"
   ]
  },
  {
   "cell_type": "code",
   "execution_count": 85,
   "metadata": {},
   "outputs": [],
   "source": [
    "! rm /home/paperspace/WarOfTheRNNs/data/book_text.csv"
   ]
  },
  {
   "cell_type": "code",
   "execution_count": 116,
   "metadata": {},
   "outputs": [],
   "source": [
    "book_clean = book.replace('. ', ' . |').replace('? ', ' ? |').replace('! ', ' ! |').replace('\\n', ' ').split(\"|\")\n",
    "book_clean = [i.strip() for i in book_clean if len(i.strip()) > 1]"
   ]
  },
  {
   "cell_type": "code",
   "execution_count": 117,
   "metadata": {
    "collapsed": true
   },
   "outputs": [],
   "source": [
    "with open('/home/paperspace/WarOfTheRNNs/data/book_text.csv', 'a+') as file:\n",
    "    for sentence in book_clean:\n",
    "        file.write(sentence + '\\n')"
   ]
  },
  {
   "cell_type": "code",
   "execution_count": 118,
   "metadata": {},
   "outputs": [
    {
     "name": "stdout",
     "output_type": "stream",
     "text": [
      "BOC No one would have believed in the last years of the nineteenth century that this world was being watched keenly and closely by intelligences greater than man’s and yet as mortal as his own; that as men busied themselves about their various concerns they were scrutinised and studied, perhaps almost as narrowly as a man with a microscope might scrutinise the transient creatures that swarm and multiply in a drop of water . \n",
      "\n",
      "With infinite complacency men went to and fro over this globe about their little affairs, serene in their assurance of their empire over matter . \n",
      "\n",
      "It is possible that the infusoria under the microscope do the same . \n",
      "\n"
     ]
    }
   ],
   "source": [
    "with open('/home/paperspace/WarOfTheRNNs/data/book_text.csv') as file:\n",
    "    lines = file.readlines()[:5]\n",
    "print(lines[0])\n",
    "print(lines[1])\n",
    "print(lines[2])"
   ]
  },
  {
   "cell_type": "code",
   "execution_count": 119,
   "metadata": {},
   "outputs": [
    {
     "data": {
      "text/html": [
       "<div>\n",
       "<style scoped>\n",
       "    .dataframe tbody tr th:only-of-type {\n",
       "        vertical-align: middle;\n",
       "    }\n",
       "\n",
       "    .dataframe tbody tr th {\n",
       "        vertical-align: top;\n",
       "    }\n",
       "\n",
       "    .dataframe thead th {\n",
       "        text-align: right;\n",
       "    }\n",
       "</style>\n",
       "<table border=\"1\" class=\"dataframe\">\n",
       "  <thead>\n",
       "    <tr style=\"text-align: right;\">\n",
       "      <th></th>\n",
       "      <th>0</th>\n",
       "    </tr>\n",
       "  </thead>\n",
       "  <tbody>\n",
       "    <tr>\n",
       "      <th>0</th>\n",
       "      <td>BOC No one would have believed in the last yea...</td>\n",
       "    </tr>\n",
       "    <tr>\n",
       "      <th>1</th>\n",
       "      <td>With infinite complacency men went to and fro ...</td>\n",
       "    </tr>\n",
       "    <tr>\n",
       "      <th>2</th>\n",
       "      <td>It is possible that the infusoria under the mi...</td>\n",
       "    </tr>\n",
       "    <tr>\n",
       "      <th>3</th>\n",
       "      <td>No one gave a thought to the older worlds of s...</td>\n",
       "    </tr>\n",
       "    <tr>\n",
       "      <th>4</th>\n",
       "      <td>It is curious to recall some of the mental hab...</td>\n",
       "    </tr>\n",
       "    <tr>\n",
       "      <th>5</th>\n",
       "      <td>At most terrestrial men fancied there might be...</td>\n",
       "    </tr>\n",
       "    <tr>\n",
       "      <th>6</th>\n",
       "      <td>Yet across the gulf of space, minds that are t...</td>\n",
       "    </tr>\n",
       "    <tr>\n",
       "      <th>7</th>\n",
       "      <td>And early in the twentieth century came the gr...</td>\n",
       "    </tr>\n",
       "    <tr>\n",
       "      <th>8</th>\n",
       "      <td>It must be, if the nebular hypothesis has any ...</td>\n",
       "    </tr>\n",
       "    <tr>\n",
       "      <th>9</th>\n",
       "      <td>The fact that it is scarcely one seventh of th...</td>\n",
       "    </tr>\n",
       "    <tr>\n",
       "      <th>10</th>\n",
       "      <td>It has air and water and all that is necessary...</td>\n",
       "    </tr>\n",
       "    <tr>\n",
       "      <th>11</th>\n",
       "      <td>Nor was it generally understood that since Mar...</td>\n",
       "    </tr>\n",
       "    <tr>\n",
       "      <th>12</th>\n",
       "      <td>Its physical condition is still largely a myst...</td>\n",
       "    </tr>\n",
       "    <tr>\n",
       "      <th>13</th>\n",
       "      <td>Its air is much more attenuated than ours, its...</td>\n",
       "    </tr>\n",
       "    <tr>\n",
       "      <th>14</th>\n",
       "      <td>That last stage of exhaustion, which to us is ...</td>\n",
       "    </tr>\n",
       "    <tr>\n",
       "      <th>15</th>\n",
       "      <td>The immediate pressure of necessity has bright...</td>\n",
       "    </tr>\n",
       "    <tr>\n",
       "      <th>16</th>\n",
       "      <td>And looking across space with instruments, and...</td>\n",
       "    </tr>\n",
       "    <tr>\n",
       "      <th>17</th>\n",
       "      <td>The intellectual side of man already admits th...</td>\n",
       "    </tr>\n",
       "    <tr>\n",
       "      <th>18</th>\n",
       "      <td>Their world is far gone in its cooling and thi...</td>\n",
       "    </tr>\n",
       "    <tr>\n",
       "      <th>19</th>\n",
       "      <td>To carry warfare sunward is, indeed, their onl...</td>\n",
       "    </tr>\n",
       "    <tr>\n",
       "      <th>20</th>\n",
       "      <td>The Tasmanians, in spite of their human likene...</td>\n",
       "    </tr>\n",
       "    <tr>\n",
       "      <th>21</th>\n",
       "      <td>Are we such apostles of mercy as to complain i...</td>\n",
       "    </tr>\n",
       "    <tr>\n",
       "      <th>22</th>\n",
       "      <td>Had our instruments permitted it, we might hav...</td>\n",
       "    </tr>\n",
       "    <tr>\n",
       "      <th>23</th>\n",
       "      <td>Men like Schiaparelli watched the red planet—i...</td>\n",
       "    </tr>\n",
       "    <tr>\n",
       "      <th>24</th>\n",
       "      <td>All that time the Martians must have been gett...</td>\n",
       "    </tr>\n",
       "    <tr>\n",
       "      <th>25</th>\n",
       "      <td>English readers heard of it first in the issue...</td>\n",
       "    </tr>\n",
       "    <tr>\n",
       "      <th>26</th>\n",
       "      <td>I am inclined to think that this blaze may hav...</td>\n",
       "    </tr>\n",
       "    <tr>\n",
       "      <th>27</th>\n",
       "      <td>Peculiar markings, as yet unexplained, were se...</td>\n",
       "    </tr>\n",
       "    <tr>\n",
       "      <th>28</th>\n",
       "      <td>As Mars approached opposition, Lavelle of Java...</td>\n",
       "    </tr>\n",
       "    <tr>\n",
       "      <th>29</th>\n",
       "      <td>It had occurred towards midnight of the twelft...</td>\n",
       "    </tr>\n",
       "    <tr>\n",
       "      <th>...</th>\n",
       "      <td>...</td>\n",
       "    </tr>\n",
       "    <tr>\n",
       "      <th>6975</th>\n",
       "      <td>The terrible disasters at the Ealing and South...</td>\n",
       "    </tr>\n",
       "    <tr>\n",
       "      <th>6976</th>\n",
       "      <td>Spectrum analysis of the black powder points u...</td>\n",
       "    </tr>\n",
       "    <tr>\n",
       "      <th>6977</th>\n",
       "      <td>But such unproven speculations will scarcely b...</td>\n",
       "    </tr>\n",
       "    <tr>\n",
       "      <th>6978</th>\n",
       "      <td>None of the brown scum that drifted down the T...</td>\n",
       "    </tr>\n",
       "    <tr>\n",
       "      <th>6979</th>\n",
       "      <td>But everyone is familiar with the magnificent ...</td>\n",
       "    </tr>\n",
       "    <tr>\n",
       "      <th>6980</th>\n",
       "      <td>I do not think that nearly enough attention is...</td>\n",
       "    </tr>\n",
       "    <tr>\n",
       "      <th>6981</th>\n",
       "      <td>At present the planet Mars is in conjunction, ...</td>\n",
       "    </tr>\n",
       "    <tr>\n",
       "      <th>6982</th>\n",
       "      <td>In any case, we should be prepared .</td>\n",
       "    </tr>\n",
       "    <tr>\n",
       "      <th>6983</th>\n",
       "      <td>It seems to me that it should be possible to d...</td>\n",
       "    </tr>\n",
       "    <tr>\n",
       "      <th>6984</th>\n",
       "      <td>It seems to me that they have lost a vast adva...</td>\n",
       "    </tr>\n",
       "    <tr>\n",
       "      <th>6985</th>\n",
       "      <td>Possibly they see it in the same light. Lessin...</td>\n",
       "    </tr>\n",
       "    <tr>\n",
       "      <th>6986</th>\n",
       "      <td>Seven months ago now, Venus and Mars were in a...</td>\n",
       "    </tr>\n",
       "    <tr>\n",
       "      <th>6987</th>\n",
       "      <td>Subsequently a peculiar luminous and sinuous m...</td>\n",
       "    </tr>\n",
       "    <tr>\n",
       "      <th>6988</th>\n",
       "      <td>One needs to see the drawings of these appeara...</td>\n",
       "    </tr>\n",
       "    <tr>\n",
       "      <th>6989</th>\n",
       "      <td>We have learned now that we cannot regard this...</td>\n",
       "    </tr>\n",
       "    <tr>\n",
       "      <th>6990</th>\n",
       "      <td>It may be that in the larger design of the uni...</td>\n",
       "    </tr>\n",
       "    <tr>\n",
       "      <th>6991</th>\n",
       "      <td>It may be that across the immensity of space t...</td>\n",
       "    </tr>\n",
       "    <tr>\n",
       "      <th>6992</th>\n",
       "      <td>Be that as it may, for many years yet there wi...</td>\n",
       "    </tr>\n",
       "    <tr>\n",
       "      <th>6993</th>\n",
       "      <td>Before the cylinder fell there was a general p...</td>\n",
       "    </tr>\n",
       "    <tr>\n",
       "      <th>6994</th>\n",
       "      <td>Now we see further .</td>\n",
       "    </tr>\n",
       "    <tr>\n",
       "      <th>6995</th>\n",
       "      <td>If the Martians can reach Venus, there is no r...</td>\n",
       "    </tr>\n",
       "    <tr>\n",
       "      <th>6996</th>\n",
       "      <td>But that is a remote dream .</td>\n",
       "    </tr>\n",
       "    <tr>\n",
       "      <th>6997</th>\n",
       "      <td>It may be, on the other hand, that the destruc...</td>\n",
       "    </tr>\n",
       "    <tr>\n",
       "      <th>6998</th>\n",
       "      <td>To them, and not to us, perhaps, is the future...</td>\n",
       "    </tr>\n",
       "    <tr>\n",
       "      <th>6999</th>\n",
       "      <td>I sit in my study writing by lamplight, and su...</td>\n",
       "    </tr>\n",
       "    <tr>\n",
       "      <th>7000</th>\n",
       "      <td>I go out into the Byfleet Road, and vehicles p...</td>\n",
       "    </tr>\n",
       "    <tr>\n",
       "      <th>7001</th>\n",
       "      <td>Of a night I see the black powder darkening th...</td>\n",
       "    </tr>\n",
       "    <tr>\n",
       "      <th>7002</th>\n",
       "      <td>They gibber and grow fiercer, paler, uglier, m...</td>\n",
       "    </tr>\n",
       "    <tr>\n",
       "      <th>7003</th>\n",
       "      <td>And strange, too, it is to stand on Primrose H...</td>\n",
       "    </tr>\n",
       "    <tr>\n",
       "      <th>7004</th>\n",
       "      <td>. And strangest of all is it to hold my wife’s...</td>\n",
       "    </tr>\n",
       "  </tbody>\n",
       "</table>\n",
       "<p>7005 rows × 1 columns</p>\n",
       "</div>"
      ],
      "text/plain": [
       "                                                      0\n",
       "0     BOC No one would have believed in the last yea...\n",
       "1     With infinite complacency men went to and fro ...\n",
       "2     It is possible that the infusoria under the mi...\n",
       "3     No one gave a thought to the older worlds of s...\n",
       "4     It is curious to recall some of the mental hab...\n",
       "5     At most terrestrial men fancied there might be...\n",
       "6     Yet across the gulf of space, minds that are t...\n",
       "7     And early in the twentieth century came the gr...\n",
       "8     It must be, if the nebular hypothesis has any ...\n",
       "9     The fact that it is scarcely one seventh of th...\n",
       "10    It has air and water and all that is necessary...\n",
       "11    Nor was it generally understood that since Mar...\n",
       "12    Its physical condition is still largely a myst...\n",
       "13    Its air is much more attenuated than ours, its...\n",
       "14    That last stage of exhaustion, which to us is ...\n",
       "15    The immediate pressure of necessity has bright...\n",
       "16    And looking across space with instruments, and...\n",
       "17    The intellectual side of man already admits th...\n",
       "18    Their world is far gone in its cooling and thi...\n",
       "19    To carry warfare sunward is, indeed, their onl...\n",
       "20    The Tasmanians, in spite of their human likene...\n",
       "21    Are we such apostles of mercy as to complain i...\n",
       "22    Had our instruments permitted it, we might hav...\n",
       "23    Men like Schiaparelli watched the red planet—i...\n",
       "24    All that time the Martians must have been gett...\n",
       "25    English readers heard of it first in the issue...\n",
       "26    I am inclined to think that this blaze may hav...\n",
       "27    Peculiar markings, as yet unexplained, were se...\n",
       "28    As Mars approached opposition, Lavelle of Java...\n",
       "29    It had occurred towards midnight of the twelft...\n",
       "...                                                 ...\n",
       "6975  The terrible disasters at the Ealing and South...\n",
       "6976  Spectrum analysis of the black powder points u...\n",
       "6977  But such unproven speculations will scarcely b...\n",
       "6978  None of the brown scum that drifted down the T...\n",
       "6979  But everyone is familiar with the magnificent ...\n",
       "6980  I do not think that nearly enough attention is...\n",
       "6981  At present the planet Mars is in conjunction, ...\n",
       "6982               In any case, we should be prepared .\n",
       "6983  It seems to me that it should be possible to d...\n",
       "6984  It seems to me that they have lost a vast adva...\n",
       "6985  Possibly they see it in the same light. Lessin...\n",
       "6986  Seven months ago now, Venus and Mars were in a...\n",
       "6987  Subsequently a peculiar luminous and sinuous m...\n",
       "6988  One needs to see the drawings of these appeara...\n",
       "6989  We have learned now that we cannot regard this...\n",
       "6990  It may be that in the larger design of the uni...\n",
       "6991  It may be that across the immensity of space t...\n",
       "6992  Be that as it may, for many years yet there wi...\n",
       "6993  Before the cylinder fell there was a general p...\n",
       "6994                               Now we see further .\n",
       "6995  If the Martians can reach Venus, there is no r...\n",
       "6996                       But that is a remote dream .\n",
       "6997  It may be, on the other hand, that the destruc...\n",
       "6998  To them, and not to us, perhaps, is the future...\n",
       "6999  I sit in my study writing by lamplight, and su...\n",
       "7000  I go out into the Byfleet Road, and vehicles p...\n",
       "7001  Of a night I see the black powder darkening th...\n",
       "7002  They gibber and grow fiercer, paler, uglier, m...\n",
       "7003  And strange, too, it is to stand on Primrose H...\n",
       "7004  . And strangest of all is it to hold my wife’s...\n",
       "\n",
       "[7005 rows x 1 columns]"
      ]
     },
     "execution_count": 119,
     "metadata": {},
     "output_type": "execute_result"
    }
   ],
   "source": [
    "pd.read_csv('/home/paperspace/WarOfTheRNNs/data/book_text.csv', delimiter=\"|\", header=None)"
   ]
  },
  {
   "cell_type": "code",
   "execution_count": 123,
   "metadata": {},
   "outputs": [],
   "source": [
    "data = TextLMDataBunch.from_csv('.', '/home/paperspace/WarOfTheRNNs/data/book_text.csv', text_cols=0, delimiter=\"|\")"
   ]
  },
  {
   "cell_type": "code",
   "execution_count": 124,
   "metadata": {},
   "outputs": [
    {
     "data": {
      "text/plain": [
       "TextLMDataBunch;\n",
       "\n",
       "Train: LabelList (5603 items)\n",
       "x: LMTextList\n",
       "xxbos i saw people struggling shorewards , and heard their screaming and shouting faintly above the seething and roar of the xxmaj martian ’s collapse . xxmaj for a moment i heeded nothing of the heat , forgot the patent need of self - preservation .,xxbos xxmaj apparently they had learned something of my story from me during the days of my lapse . xxmaj very gently , when my mind was assured again , did they break to me what they had learned of the fate of xxmaj leatherhead .,xxbos xxmaj and it ’s the man that keeps on thinking comes through .,xxbos “ xxmaj death is coming !,xxbos xxmaj probably this is due to the relative strength of the earth ’s gravitational energy . ” xxmaj on that last text their leader - writer expanded very comfortingly . xxmaj of course all the students in the crammer ’s biology class , to which my brother went that day , were intensely interested , but there were no signs of any unusual excitement in the streets .\n",
       "y: LMLabelList\n",
       ",,,,\n",
       "Path: .;\n",
       "\n",
       "Valid: LabelList (1401 items)\n",
       "x: LMTextList\n",
       "xxbos xxmaj and the night before last”—he stopped and spoke impressively—“it was just a matter of lights , but it was something up in the air .,xxbos xxmaj he would neither desist from his xxunk on the food nor from his noisy xxunk to himself .,xxbos xxmaj whatever destruction was done , the hand of the xxunk was stayed .,xxbos xxmaj then abruptly she turned and went in , leaving my cousins side by side wishing me good hap . i was a little depressed at first with the contagion of my wife ’s fears , but very soon my thoughts reverted to the xxmaj martians .,xxbos xxmaj wherever there was a possibility of guns being laid for them unseen , a fresh canister of the black vapour was discharged , and where the guns were openly displayed the xxmaj heat - xxmaj ray was brought to bear . xxmaj by midnight the blazing trees along the slopes of xxmaj richmond xxmaj park and the glare of xxmaj kingston xxmaj hill threw their light upon a network of black smoke , blotting out the whole valley of the xxmaj thames and extending as far as the eye could reach .\n",
       "y: LMLabelList\n",
       ",,,,\n",
       "Path: .;\n",
       "\n",
       "Test: None"
      ]
     },
     "execution_count": 124,
     "metadata": {},
     "output_type": "execute_result"
    }
   ],
   "source": [
    "data"
   ]
  },
  {
   "cell_type": "code",
   "execution_count": 125,
   "metadata": {},
   "outputs": [
    {
     "data": {
      "text/plain": [
       "(Text xxbos i saw people struggling shorewards , and heard their screaming and shouting faintly above the seething and roar of the xxmaj martian ’s collapse . xxmaj for a moment i heeded nothing of the heat , forgot the patent need of self - preservation .,\n",
       " EmptyLabel )"
      ]
     },
     "execution_count": 125,
     "metadata": {},
     "output_type": "execute_result"
    }
   ],
   "source": [
    "data.train_ds[0]"
   ]
  },
  {
   "cell_type": "code",
   "execution_count": 126,
   "metadata": {},
   "outputs": [
    {
     "data": {
      "text/plain": [
       "array([   2,    5,  594,   31,   21,  489,  211,   13,   22,  430,   33,   37,  595,    9,  251,   13,   22, 3408,\n",
       "         11,    5,  111, 1846,   10,  115,   22,  212,   18, 1847,   85,   10,  100,   31, 1240,   16,   37,   83,\n",
       "         31,   21,  489,   13,    9, 1005,   13,    5,  393,   11])"
      ]
     },
     "execution_count": 126,
     "metadata": {},
     "output_type": "execute_result"
    }
   ],
   "source": [
    "data.train_ds[1][0].data"
   ]
  },
  {
   "cell_type": "code",
   "execution_count": 127,
   "metadata": {},
   "outputs": [
    {
     "data": {
      "text/plain": [
       "array([   2,    5,   25,   92,  739, 3152,   33,   41,    0,   30,    9,  250,  597,   33,   41, 1377,    0,   16,\n",
       "        638,   11])"
      ]
     },
     "execution_count": 127,
     "metadata": {},
     "output_type": "execute_result"
    }
   ],
   "source": [
    "data.valid_ds[1][0].data"
   ]
  },
  {
   "cell_type": "code",
   "execution_count": 128,
   "metadata": {},
   "outputs": [
    {
     "data": {
      "text/plain": [
       "torch.Size([64, 70])"
      ]
     },
     "execution_count": 128,
     "metadata": {},
     "output_type": "execute_result"
    }
   ],
   "source": [
    "data.one_batch()[0].shape"
   ]
  },
  {
   "cell_type": "code",
   "execution_count": 129,
   "metadata": {
    "collapsed": true
   },
   "outputs": [],
   "source": [
    "x, y = data.one_batch()"
   ]
  },
  {
   "cell_type": "code",
   "execution_count": 130,
   "metadata": {},
   "outputs": [
    {
     "data": {
      "text/plain": [
       "(torch.Size([64, 70]), torch.Size([64, 70]))"
      ]
     },
     "execution_count": 130,
     "metadata": {},
     "output_type": "execute_result"
    }
   ],
   "source": [
    "x.shape, y.shape"
   ]
  },
  {
   "cell_type": "code",
   "execution_count": 131,
   "metadata": {},
   "outputs": [
    {
     "data": {
      "text/plain": [
       "(tensor([3413,  111, 3414,   11,    5,   13,  596,   48,    9, 2229,   17,    9,\n",
       "         3415,   47, 3416, 3417,   10,   16,   97,   22,   90,   91,   19,  116,\n",
       "           10,   29, 1415, 2230,   10,   35,   36,   29,   56, 1536,   13,  141,\n",
       "         1416,  912,   17,    9,  291,   11,    2,    5,   40,  797,   14,    5,\n",
       "          108,   21,   59,  133,   26,    5, 3418,   10,   12,   14,  611,   13,\n",
       "          194, 1848,   77,  353,  354,  122,    9,    5,  368,   12]),\n",
       " tensor([ 111, 3414,   11,    5,   13,  596,   48,    9, 2229,   17,    9, 3415,\n",
       "           47, 3416, 3417,   10,   16,   97,   22,   90,   91,   19,  116,   10,\n",
       "           29, 1415, 2230,   10,   35,   36,   29,   56, 1536,   13,  141, 1416,\n",
       "          912,   17,    9,  291,   11,    2,    5,   40,  797,   14,    5,  108,\n",
       "           21,   59,  133,   26,    5, 3418,   10,   12,   14,  611,   13,  194,\n",
       "         1848,   77,  353,  354,  122,    9,    5,  368,   12,   96]))"
      ]
     },
     "execution_count": 131,
     "metadata": {},
     "output_type": "execute_result"
    }
   ],
   "source": [
    "x[0], y[0]"
   ]
  },
  {
   "cell_type": "code",
   "execution_count": 132,
   "metadata": {},
   "outputs": [
    {
     "data": {
      "text/plain": [
       "6448"
      ]
     },
     "execution_count": 132,
     "metadata": {},
     "output_type": "execute_result"
    }
   ],
   "source": [
    "len(data.vocab.itos)"
   ]
  },
  {
   "cell_type": "code",
   "execution_count": 133,
   "metadata": {
    "collapsed": true
   },
   "outputs": [],
   "source": [
    "nv = len(data.vocab.itos)"
   ]
  },
  {
   "cell_type": "code",
   "execution_count": 134,
   "metadata": {
    "collapsed": true
   },
   "outputs": [],
   "source": [
    "nh = 64"
   ]
  },
  {
   "cell_type": "code",
   "execution_count": 135,
   "metadata": {
    "collapsed": true
   },
   "outputs": [],
   "source": [
    "bs = 64"
   ]
  },
  {
   "cell_type": "code",
   "execution_count": 136,
   "metadata": {},
   "outputs": [
    {
     "data": {
      "text/plain": [
       "(6448, 64, 64)"
      ]
     },
     "execution_count": 136,
     "metadata": {},
     "output_type": "execute_result"
    }
   ],
   "source": [
    "nv, nh, bs"
   ]
  },
  {
   "cell_type": "code",
   "execution_count": 137,
   "metadata": {},
   "outputs": [],
   "source": [
    "learn = language_model_learner(data, AWD_LSTM, metrics=accuracy) # pretrained=True by default"
   ]
  },
  {
   "cell_type": "code",
   "execution_count": 138,
   "metadata": {},
   "outputs": [
    {
     "data": {
      "text/html": [],
      "text/plain": [
       "<IPython.core.display.HTML object>"
      ]
     },
     "metadata": {},
     "output_type": "display_data"
    },
    {
     "name": "stdout",
     "output_type": "stream",
     "text": [
      "LR Finder is complete, type {learner_name}.recorder.plot() to see the graph.\n"
     ]
    }
   ],
   "source": [
    "learn.lr_find()"
   ]
  },
  {
   "cell_type": "code",
   "execution_count": 139,
   "metadata": {},
   "outputs": [
    {
     "data": {
      "image/png": "[encoded data removed]",
      "text/plain": [
       "<Figure size 432x288 with 1 Axes>"
      ]
     },
     "metadata": {},
     "output_type": "display_data"
    }
   ],
   "source": [
    "learn.recorder.plot()"
   ]
  },
  {
   "cell_type": "code",
   "execution_count": 140,
   "metadata": {
    "collapsed": true
   },
   "outputs": [],
   "source": [
    "lr = 3e-2"
   ]
  },
  {
   "cell_type": "code",
   "execution_count": 141,
   "metadata": {},
   "outputs": [
    {
     "data": {
      "text/html": [
       "Total time: 01:05 <p><table style='width:375px; margin-bottom:10px'>\n",
       "  <tr>\n",
       "    <th>epoch</th>\n",
       "    <th>train_loss</th>\n",
       "    <th>valid_loss</th>\n",
       "    <th>accuracy</th>\n",
       "    <th>time</th>\n",
       "  </tr>\n",
       "  <tr>\n",
       "    <th>0</th>\n",
       "    <th>4.707609</th>\n",
       "    <th>3.718987</th>\n",
       "    <th>0.311871</th>\n",
       "    <th>00:13</th>\n",
       "  </tr>\n",
       "  <tr>\n",
       "    <th>1</th>\n",
       "    <th>3.892534</th>\n",
       "    <th>3.058248</th>\n",
       "    <th>0.377131</th>\n",
       "    <th>00:13</th>\n",
       "  </tr>\n",
       "  <tr>\n",
       "    <th>2</th>\n",
       "    <th>3.319177</th>\n",
       "    <th>2.714270</th>\n",
       "    <th>0.421733</th>\n",
       "    <th>00:13</th>\n",
       "  </tr>\n",
       "  <tr>\n",
       "    <th>3</th>\n",
       "    <th>2.897290</th>\n",
       "    <th>2.516869</th>\n",
       "    <th>0.454464</th>\n",
       "    <th>00:13</th>\n",
       "  </tr>\n",
       "  <tr>\n",
       "    <th>4</th>\n",
       "    <th>2.623685</th>\n",
       "    <th>2.481668</th>\n",
       "    <th>0.462135</th>\n",
       "    <th>00:13</th>\n",
       "  </tr>\n",
       "</table>\n"
      ],
      "text/plain": [
       "<IPython.core.display.HTML object>"
      ]
     },
     "metadata": {},
     "output_type": "display_data"
    }
   ],
   "source": [
    "learn.fit_one_cycle(5, max_lr=lr)"
   ]
  },
  {
   "cell_type": "code",
   "execution_count": 142,
   "metadata": {
    "collapsed": true
   },
   "outputs": [],
   "source": [
    "learn.save(\"awd-lstm-1\")"
   ]
  },
  {
   "cell_type": "code",
   "execution_count": 143,
   "metadata": {},
   "outputs": [
    {
     "data": {
      "text/plain": [
       "LanguageLearner(data=TextLMDataBunch;\n",
       "\n",
       "Train: LabelList (5603 items)\n",
       "x: LMTextList\n",
       "xxbos i saw people struggling shorewards , and heard their screaming and shouting faintly above the seething and roar of the xxmaj martian ’s collapse . xxmaj for a moment i heeded nothing of the heat , forgot the patent need of self - preservation .,xxbos xxmaj apparently they had learned something of my story from me during the days of my lapse . xxmaj very gently , when my mind was assured again , did they break to me what they had learned of the fate of xxmaj leatherhead .,xxbos xxmaj and it ’s the man that keeps on thinking comes through .,xxbos “ xxmaj death is coming !,xxbos xxmaj probably this is due to the relative strength of the earth ’s gravitational energy . ” xxmaj on that last text their leader - writer expanded very comfortingly . xxmaj of course all the students in the crammer ’s biology class , to which my brother went that day , were intensely interested , but there were no signs of any unusual excitement in the streets .\n",
       "y: LMLabelList\n",
       ",,,,\n",
       "Path: .;\n",
       "\n",
       "Valid: LabelList (1401 items)\n",
       "x: LMTextList\n",
       "xxbos xxmaj and the night before last”—he stopped and spoke impressively—“it was just a matter of lights , but it was something up in the air .,xxbos xxmaj he would neither desist from his xxunk on the food nor from his noisy xxunk to himself .,xxbos xxmaj whatever destruction was done , the hand of the xxunk was stayed .,xxbos xxmaj then abruptly she turned and went in , leaving my cousins side by side wishing me good hap . i was a little depressed at first with the contagion of my wife ’s fears , but very soon my thoughts reverted to the xxmaj martians .,xxbos xxmaj wherever there was a possibility of guns being laid for them unseen , a fresh canister of the black vapour was discharged , and where the guns were openly displayed the xxmaj heat - xxmaj ray was brought to bear . xxmaj by midnight the blazing trees along the slopes of xxmaj richmond xxmaj park and the glare of xxmaj kingston xxmaj hill threw their light upon a network of black smoke , blotting out the whole valley of the xxmaj thames and extending as far as the eye could reach .\n",
       "y: LMLabelList\n",
       ",,,,\n",
       "Path: .;\n",
       "\n",
       "Test: None, model=SequentialRNN(\n",
       "  (0): AWD_LSTM(\n",
       "    (encoder): Embedding(6448, 400, padding_idx=1)\n",
       "    (encoder_dp): EmbeddingDropout(\n",
       "      (emb): Embedding(6448, 400, padding_idx=1)\n",
       "    )\n",
       "    (rnns): ModuleList(\n",
       "      (0): WeightDropout(\n",
       "        (module): LSTM(400, 1152, batch_first=True)\n",
       "      )\n",
       "      (1): WeightDropout(\n",
       "        (module): LSTM(1152, 1152, batch_first=True)\n",
       "      )\n",
       "      (2): WeightDropout(\n",
       "        (module): LSTM(1152, 400, batch_first=True)\n",
       "      )\n",
       "    )\n",
       "    (input_dp): RNNDropout()\n",
       "    (hidden_dps): ModuleList(\n",
       "      (0): RNNDropout()\n",
       "      (1): RNNDropout()\n",
       "      (2): RNNDropout()\n",
       "    )\n",
       "  )\n",
       "  (1): LinearDecoder(\n",
       "    (decoder): Linear(in_features=400, out_features=6448, bias=True)\n",
       "    (output_dp): RNNDropout()\n",
       "  )\n",
       "), opt_func=functools.partial(<class 'torch.optim.adam.Adam'>, betas=(0.9, 0.99)), loss_func=FlattenedLoss of CrossEntropyLoss(), metrics=[<function accuracy at 0x7fa44eef9ae8>], true_wd=True, bn_wd=True, wd=0.01, train_bn=True, path=PosixPath('.'), model_dir='models', callback_fns=[functools.partial(<class 'fastai.basic_train.Recorder'>, add_time=True, silent=False)], callbacks=[RNNTrainer\n",
       "learn: LanguageLearner(data=TextLMDataBunch;\n",
       "\n",
       "Train: LabelList (5603 items)\n",
       "x: LMTextList\n",
       "xxbos i saw people struggling shorewards , and heard their screaming and shouting faintly above the seething and roar of the xxmaj martian ’s collapse . xxmaj for a moment i heeded nothing of the heat , forgot the patent need of self - preservation .,xxbos xxmaj apparently they had learned something of my story from me during the days of my lapse . xxmaj very gently , when my mind was assured again , did they break to me what they had learned of the fate of xxmaj leatherhead .,xxbos xxmaj and it ’s the man that keeps on thinking comes through .,xxbos “ xxmaj death is coming !,xxbos xxmaj probably this is due to the relative strength of the earth ’s gravitational energy . ” xxmaj on that last text their leader - writer expanded very comfortingly . xxmaj of course all the students in the crammer ’s biology class , to which my brother went that day , were intensely interested , but there were no signs of any unusual excitement in the streets .\n",
       "y: LMLabelList\n",
       ",,,,\n",
       "Path: .;\n",
       "\n",
       "Valid: LabelList (1401 items)\n",
       "x: LMTextList\n",
       "xxbos xxmaj and the night before last”—he stopped and spoke impressively—“it was just a matter of lights , but it was something up in the air .,xxbos xxmaj he would neither desist from his xxunk on the food nor from his noisy xxunk to himself .,xxbos xxmaj whatever destruction was done , the hand of the xxunk was stayed .,xxbos xxmaj then abruptly she turned and went in , leaving my cousins side by side wishing me good hap . i was a little depressed at first with the contagion of my wife ’s fears , but very soon my thoughts reverted to the xxmaj martians .,xxbos xxmaj wherever there was a possibility of guns being laid for them unseen , a fresh canister of the black vapour was discharged , and where the guns were openly displayed the xxmaj heat - xxmaj ray was brought to bear . xxmaj by midnight the blazing trees along the slopes of xxmaj richmond xxmaj park and the glare of xxmaj kingston xxmaj hill threw their light upon a network of black smoke , blotting out the whole valley of the xxmaj thames and extending as far as the eye could reach .\n",
       "y: LMLabelList\n",
       ",,,,\n",
       "Path: .;\n",
       "\n",
       "Test: None, model=SequentialRNN(\n",
       "  (0): AWD_LSTM(\n",
       "    (encoder): Embedding(6448, 400, padding_idx=1)\n",
       "    (encoder_dp): EmbeddingDropout(\n",
       "      (emb): Embedding(6448, 400, padding_idx=1)\n",
       "    )\n",
       "    (rnns): ModuleList(\n",
       "      (0): WeightDropout(\n",
       "        (module): LSTM(400, 1152, batch_first=True)\n",
       "      )\n",
       "      (1): WeightDropout(\n",
       "        (module): LSTM(1152, 1152, batch_first=True)\n",
       "      )\n",
       "      (2): WeightDropout(\n",
       "        (module): LSTM(1152, 400, batch_first=True)\n",
       "      )\n",
       "    )\n",
       "    (input_dp): RNNDropout()\n",
       "    (hidden_dps): ModuleList(\n",
       "      (0): RNNDropout()\n",
       "      (1): RNNDropout()\n",
       "      (2): RNNDropout()\n",
       "    )\n",
       "  )\n",
       "  (1): LinearDecoder(\n",
       "    (decoder): Linear(in_features=400, out_features=6448, bias=True)\n",
       "    (output_dp): RNNDropout()\n",
       "  )\n",
       "), opt_func=functools.partial(<class 'torch.optim.adam.Adam'>, betas=(0.9, 0.99)), loss_func=FlattenedLoss of CrossEntropyLoss(), metrics=[<function accuracy at 0x7fa44eef9ae8>], true_wd=True, bn_wd=True, wd=0.01, train_bn=True, path=PosixPath('.'), model_dir='models', callback_fns=[functools.partial(<class 'fastai.basic_train.Recorder'>, add_time=True, silent=False)], callbacks=[...], layer_groups=[Sequential(\n",
       "  (0): WeightDropout(\n",
       "    (module): LSTM(400, 1152, batch_first=True)\n",
       "  )\n",
       "  (1): RNNDropout()\n",
       "), Sequential(\n",
       "  (0): WeightDropout(\n",
       "    (module): LSTM(1152, 1152, batch_first=True)\n",
       "  )\n",
       "  (1): RNNDropout()\n",
       "), Sequential(\n",
       "  (0): WeightDropout(\n",
       "    (module): LSTM(1152, 400, batch_first=True)\n",
       "  )\n",
       "  (1): RNNDropout()\n",
       "), Sequential(\n",
       "  (0): Embedding(6448, 400, padding_idx=1)\n",
       "  (1): EmbeddingDropout(\n",
       "    (emb): Embedding(6448, 400, padding_idx=1)\n",
       "  )\n",
       "  (2): LinearDecoder(\n",
       "    (decoder): Linear(in_features=400, out_features=6448, bias=True)\n",
       "    (output_dp): RNNDropout()\n",
       "  )\n",
       ")], add_time=True, silent=False, cb_fns_registered=True)\n",
       "alpha: 2.0\n",
       "beta: 1.0], layer_groups=[Sequential(\n",
       "  (0): WeightDropout(\n",
       "    (module): LSTM(400, 1152, batch_first=True)\n",
       "  )\n",
       "  (1): RNNDropout()\n",
       "), Sequential(\n",
       "  (0): WeightDropout(\n",
       "    (module): LSTM(1152, 1152, batch_first=True)\n",
       "  )\n",
       "  (1): RNNDropout()\n",
       "), Sequential(\n",
       "  (0): WeightDropout(\n",
       "    (module): LSTM(1152, 400, batch_first=True)\n",
       "  )\n",
       "  (1): RNNDropout()\n",
       "), Sequential(\n",
       "  (0): Embedding(6448, 400, padding_idx=1)\n",
       "  (1): EmbeddingDropout(\n",
       "    (emb): Embedding(6448, 400, padding_idx=1)\n",
       "  )\n",
       "  (2): LinearDecoder(\n",
       "    (decoder): Linear(in_features=400, out_features=6448, bias=True)\n",
       "    (output_dp): RNNDropout()\n",
       "  )\n",
       ")], add_time=True, silent=False, cb_fns_registered=True)"
      ]
     },
     "execution_count": 143,
     "metadata": {},
     "output_type": "execute_result"
    }
   ],
   "source": [
    "learn.load(\"awd-lstm-1\")"
   ]
  },
  {
   "cell_type": "code",
   "execution_count": 144,
   "metadata": {},
   "outputs": [
    {
     "data": {
      "text/plain": [
       "'The martian stood in the darkness  , the appearance of the cylinder and the shadow of a violent abbreviated tube . The cylinder was the fourth cylinder seeking its purpose . xxbos I could'"
      ]
     },
     "execution_count": 144,
     "metadata": {},
     "output_type": "execute_result"
    }
   ],
   "source": [
    "learn.predict(test_snippet, n_words=30)"
   ]
  },
  {
   "cell_type": "code",
   "execution_count": 145,
   "metadata": {},
   "outputs": [
    {
     "data": {
      "text/html": [],
      "text/plain": [
       "<IPython.core.display.HTML object>"
      ]
     },
     "metadata": {},
     "output_type": "display_data"
    },
    {
     "name": "stdout",
     "output_type": "stream",
     "text": [
      "LR Finder is complete, type {learner_name}.recorder.plot() to see the graph.\n"
     ]
    }
   ],
   "source": [
    "learn.lr_find()"
   ]
  },
  {
   "cell_type": "code",
   "execution_count": 146,
   "metadata": {},
   "outputs": [
    {
     "data": {
      "image/png": "[encoded data removed]",
      "text/plain": [
       "<Figure size 432x288 with 1 Axes>"
      ]
     },
     "metadata": {},
     "output_type": "display_data"
    }
   ],
   "source": [
    "learn.recorder.plot(skip_end=15)"
   ]
  },
  {
   "cell_type": "code",
   "execution_count": 147,
   "metadata": {
    "collapsed": true
   },
   "outputs": [],
   "source": [
    "lr = 1e-4"
   ]
  },
  {
   "cell_type": "code",
   "execution_count": 148,
   "metadata": {},
   "outputs": [
    {
     "data": {
      "text/html": [
       "Total time: 01:06 <p><table style='width:375px; margin-bottom:10px'>\n",
       "  <tr>\n",
       "    <th>epoch</th>\n",
       "    <th>train_loss</th>\n",
       "    <th>valid_loss</th>\n",
       "    <th>accuracy</th>\n",
       "    <th>time</th>\n",
       "  </tr>\n",
       "  <tr>\n",
       "    <th>0</th>\n",
       "    <th>2.395281</th>\n",
       "    <th>2.481614</th>\n",
       "    <th>0.461871</th>\n",
       "    <th>00:13</th>\n",
       "  </tr>\n",
       "  <tr>\n",
       "    <th>1</th>\n",
       "    <th>2.386383</th>\n",
       "    <th>2.478925</th>\n",
       "    <th>0.462175</th>\n",
       "    <th>00:13</th>\n",
       "  </tr>\n",
       "  <tr>\n",
       "    <th>2</th>\n",
       "    <th>2.387385</th>\n",
       "    <th>2.475841</th>\n",
       "    <th>0.463129</th>\n",
       "    <th>00:13</th>\n",
       "  </tr>\n",
       "  <tr>\n",
       "    <th>3</th>\n",
       "    <th>2.374497</th>\n",
       "    <th>2.474733</th>\n",
       "    <th>0.462967</th>\n",
       "    <th>00:13</th>\n",
       "  </tr>\n",
       "  <tr>\n",
       "    <th>4</th>\n",
       "    <th>2.383349</th>\n",
       "    <th>2.475106</th>\n",
       "    <th>0.462865</th>\n",
       "    <th>00:13</th>\n",
       "  </tr>\n",
       "</table>\n"
      ],
      "text/plain": [
       "<IPython.core.display.HTML object>"
      ]
     },
     "metadata": {},
     "output_type": "display_data"
    }
   ],
   "source": [
    "learn.fit_one_cycle(5, max_lr=lr)"
   ]
  },
  {
   "cell_type": "code",
   "execution_count": 149,
   "metadata": {
    "collapsed": true
   },
   "outputs": [],
   "source": [
    "learn.save(\"awd-lstm-2\")"
   ]
  },
  {
   "cell_type": "code",
   "execution_count": 150,
   "metadata": {},
   "outputs": [
    {
     "data": {
      "text/plain": [
       "LanguageLearner(data=TextLMDataBunch;\n",
       "\n",
       "Train: LabelList (5603 items)\n",
       "x: LMTextList\n",
       "xxbos i saw people struggling shorewards , and heard their screaming and shouting faintly above the seething and roar of the xxmaj martian ’s collapse . xxmaj for a moment i heeded nothing of the heat , forgot the patent need of self - preservation .,xxbos xxmaj apparently they had learned something of my story from me during the days of my lapse . xxmaj very gently , when my mind was assured again , did they break to me what they had learned of the fate of xxmaj leatherhead .,xxbos xxmaj and it ’s the man that keeps on thinking comes through .,xxbos “ xxmaj death is coming !,xxbos xxmaj probably this is due to the relative strength of the earth ’s gravitational energy . ” xxmaj on that last text their leader - writer expanded very comfortingly . xxmaj of course all the students in the crammer ’s biology class , to which my brother went that day , were intensely interested , but there were no signs of any unusual excitement in the streets .\n",
       "y: LMLabelList\n",
       ",,,,\n",
       "Path: .;\n",
       "\n",
       "Valid: LabelList (1401 items)\n",
       "x: LMTextList\n",
       "xxbos xxmaj and the night before last”—he stopped and spoke impressively—“it was just a matter of lights , but it was something up in the air .,xxbos xxmaj he would neither desist from his xxunk on the food nor from his noisy xxunk to himself .,xxbos xxmaj whatever destruction was done , the hand of the xxunk was stayed .,xxbos xxmaj then abruptly she turned and went in , leaving my cousins side by side wishing me good hap . i was a little depressed at first with the contagion of my wife ’s fears , but very soon my thoughts reverted to the xxmaj martians .,xxbos xxmaj wherever there was a possibility of guns being laid for them unseen , a fresh canister of the black vapour was discharged , and where the guns were openly displayed the xxmaj heat - xxmaj ray was brought to bear . xxmaj by midnight the blazing trees along the slopes of xxmaj richmond xxmaj park and the glare of xxmaj kingston xxmaj hill threw their light upon a network of black smoke , blotting out the whole valley of the xxmaj thames and extending as far as the eye could reach .\n",
       "y: LMLabelList\n",
       ",,,,\n",
       "Path: .;\n",
       "\n",
       "Test: None, model=SequentialRNN(\n",
       "  (0): AWD_LSTM(\n",
       "    (encoder): Embedding(6448, 400, padding_idx=1)\n",
       "    (encoder_dp): EmbeddingDropout(\n",
       "      (emb): Embedding(6448, 400, padding_idx=1)\n",
       "    )\n",
       "    (rnns): ModuleList(\n",
       "      (0): WeightDropout(\n",
       "        (module): LSTM(400, 1152, batch_first=True)\n",
       "      )\n",
       "      (1): WeightDropout(\n",
       "        (module): LSTM(1152, 1152, batch_first=True)\n",
       "      )\n",
       "      (2): WeightDropout(\n",
       "        (module): LSTM(1152, 400, batch_first=True)\n",
       "      )\n",
       "    )\n",
       "    (input_dp): RNNDropout()\n",
       "    (hidden_dps): ModuleList(\n",
       "      (0): RNNDropout()\n",
       "      (1): RNNDropout()\n",
       "      (2): RNNDropout()\n",
       "    )\n",
       "  )\n",
       "  (1): LinearDecoder(\n",
       "    (decoder): Linear(in_features=400, out_features=6448, bias=True)\n",
       "    (output_dp): RNNDropout()\n",
       "  )\n",
       "), opt_func=functools.partial(<class 'torch.optim.adam.Adam'>, betas=(0.9, 0.99)), loss_func=FlattenedLoss of CrossEntropyLoss(), metrics=[<function accuracy at 0x7fa44eef9ae8>], true_wd=True, bn_wd=True, wd=0.01, train_bn=True, path=PosixPath('.'), model_dir='models', callback_fns=[functools.partial(<class 'fastai.basic_train.Recorder'>, add_time=True, silent=False)], callbacks=[RNNTrainer\n",
       "learn: LanguageLearner(data=TextLMDataBunch;\n",
       "\n",
       "Train: LabelList (5603 items)\n",
       "x: LMTextList\n",
       "xxbos i saw people struggling shorewards , and heard their screaming and shouting faintly above the seething and roar of the xxmaj martian ’s collapse . xxmaj for a moment i heeded nothing of the heat , forgot the patent need of self - preservation .,xxbos xxmaj apparently they had learned something of my story from me during the days of my lapse . xxmaj very gently , when my mind was assured again , did they break to me what they had learned of the fate of xxmaj leatherhead .,xxbos xxmaj and it ’s the man that keeps on thinking comes through .,xxbos “ xxmaj death is coming !,xxbos xxmaj probably this is due to the relative strength of the earth ’s gravitational energy . ” xxmaj on that last text their leader - writer expanded very comfortingly . xxmaj of course all the students in the crammer ’s biology class , to which my brother went that day , were intensely interested , but there were no signs of any unusual excitement in the streets .\n",
       "y: LMLabelList\n",
       ",,,,\n",
       "Path: .;\n",
       "\n",
       "Valid: LabelList (1401 items)\n",
       "x: LMTextList\n",
       "xxbos xxmaj and the night before last”—he stopped and spoke impressively—“it was just a matter of lights , but it was something up in the air .,xxbos xxmaj he would neither desist from his xxunk on the food nor from his noisy xxunk to himself .,xxbos xxmaj whatever destruction was done , the hand of the xxunk was stayed .,xxbos xxmaj then abruptly she turned and went in , leaving my cousins side by side wishing me good hap . i was a little depressed at first with the contagion of my wife ’s fears , but very soon my thoughts reverted to the xxmaj martians .,xxbos xxmaj wherever there was a possibility of guns being laid for them unseen , a fresh canister of the black vapour was discharged , and where the guns were openly displayed the xxmaj heat - xxmaj ray was brought to bear . xxmaj by midnight the blazing trees along the slopes of xxmaj richmond xxmaj park and the glare of xxmaj kingston xxmaj hill threw their light upon a network of black smoke , blotting out the whole valley of the xxmaj thames and extending as far as the eye could reach .\n",
       "y: LMLabelList\n",
       ",,,,\n",
       "Path: .;\n",
       "\n",
       "Test: None, model=SequentialRNN(\n",
       "  (0): AWD_LSTM(\n",
       "    (encoder): Embedding(6448, 400, padding_idx=1)\n",
       "    (encoder_dp): EmbeddingDropout(\n",
       "      (emb): Embedding(6448, 400, padding_idx=1)\n",
       "    )\n",
       "    (rnns): ModuleList(\n",
       "      (0): WeightDropout(\n",
       "        (module): LSTM(400, 1152, batch_first=True)\n",
       "      )\n",
       "      (1): WeightDropout(\n",
       "        (module): LSTM(1152, 1152, batch_first=True)\n",
       "      )\n",
       "      (2): WeightDropout(\n",
       "        (module): LSTM(1152, 400, batch_first=True)\n",
       "      )\n",
       "    )\n",
       "    (input_dp): RNNDropout()\n",
       "    (hidden_dps): ModuleList(\n",
       "      (0): RNNDropout()\n",
       "      (1): RNNDropout()\n",
       "      (2): RNNDropout()\n",
       "    )\n",
       "  )\n",
       "  (1): LinearDecoder(\n",
       "    (decoder): Linear(in_features=400, out_features=6448, bias=True)\n",
       "    (output_dp): RNNDropout()\n",
       "  )\n",
       "), opt_func=functools.partial(<class 'torch.optim.adam.Adam'>, betas=(0.9, 0.99)), loss_func=FlattenedLoss of CrossEntropyLoss(), metrics=[<function accuracy at 0x7fa44eef9ae8>], true_wd=True, bn_wd=True, wd=0.01, train_bn=True, path=PosixPath('.'), model_dir='models', callback_fns=[functools.partial(<class 'fastai.basic_train.Recorder'>, add_time=True, silent=False)], callbacks=[...], layer_groups=[Sequential(\n",
       "  (0): WeightDropout(\n",
       "    (module): LSTM(400, 1152, batch_first=True)\n",
       "  )\n",
       "  (1): RNNDropout()\n",
       "), Sequential(\n",
       "  (0): WeightDropout(\n",
       "    (module): LSTM(1152, 1152, batch_first=True)\n",
       "  )\n",
       "  (1): RNNDropout()\n",
       "), Sequential(\n",
       "  (0): WeightDropout(\n",
       "    (module): LSTM(1152, 400, batch_first=True)\n",
       "  )\n",
       "  (1): RNNDropout()\n",
       "), Sequential(\n",
       "  (0): Embedding(6448, 400, padding_idx=1)\n",
       "  (1): EmbeddingDropout(\n",
       "    (emb): Embedding(6448, 400, padding_idx=1)\n",
       "  )\n",
       "  (2): LinearDecoder(\n",
       "    (decoder): Linear(in_features=400, out_features=6448, bias=True)\n",
       "    (output_dp): RNNDropout()\n",
       "  )\n",
       ")], add_time=True, silent=False, cb_fns_registered=True)\n",
       "alpha: 2.0\n",
       "beta: 1.0], layer_groups=[Sequential(\n",
       "  (0): WeightDropout(\n",
       "    (module): LSTM(400, 1152, batch_first=True)\n",
       "  )\n",
       "  (1): RNNDropout()\n",
       "), Sequential(\n",
       "  (0): WeightDropout(\n",
       "    (module): LSTM(1152, 1152, batch_first=True)\n",
       "  )\n",
       "  (1): RNNDropout()\n",
       "), Sequential(\n",
       "  (0): WeightDropout(\n",
       "    (module): LSTM(1152, 400, batch_first=True)\n",
       "  )\n",
       "  (1): RNNDropout()\n",
       "), Sequential(\n",
       "  (0): Embedding(6448, 400, padding_idx=1)\n",
       "  (1): EmbeddingDropout(\n",
       "    (emb): Embedding(6448, 400, padding_idx=1)\n",
       "  )\n",
       "  (2): LinearDecoder(\n",
       "    (decoder): Linear(in_features=400, out_features=6448, bias=True)\n",
       "    (output_dp): RNNDropout()\n",
       "  )\n",
       ")], add_time=True, silent=False, cb_fns_registered=True)"
      ]
     },
     "execution_count": 150,
     "metadata": {},
     "output_type": "execute_result"
    }
   ],
   "source": [
    "learn.load(\"awd-lstm-2\")"
   ]
  },
  {
   "cell_type": "code",
   "execution_count": 153,
   "metadata": {},
   "outputs": [
    {
     "data": {
      "text/plain": [
       "'The martian stood in the darkness  , and the Martian sprang slowly out of it at once . xxbos i forced a grotesque , well methodical , and foolish idea of a civilised dinner digging to repent — repent ! xxbos The scum was absolutely insoluble and was absolutely insoluble , seeing the instant effect of the scum and the mound of bluish dust . xxbos After me , we ’d not be 10,000,000 miles away , and can no doubt how it is impossible . xxbos Petroleum afterwards found the house in our garden open and a few score of yards'"
      ]
     },
     "execution_count": 153,
     "metadata": {},
     "output_type": "execute_result"
    }
   ],
   "source": [
    "learn.predict(\"The martian stood in the darkness \", n_words=100)"
   ]
  },
  {
   "cell_type": "code",
   "execution_count": 151,
   "metadata": {},
   "outputs": [
    {
     "data": {
      "text/html": [],
      "text/plain": [
       "<IPython.core.display.HTML object>"
      ]
     },
     "metadata": {},
     "output_type": "display_data"
    },
    {
     "name": "stdout",
     "output_type": "stream",
     "text": [
      "LR Finder is complete, type {learner_name}.recorder.plot() to see the graph.\n"
     ]
    }
   ],
   "source": [
    "learn.lr_find()"
   ]
  },
  {
   "cell_type": "code",
   "execution_count": 155,
   "metadata": {},
   "outputs": [
    {
     "data": {
      "image/png": "[encoded data removed]",
      "text/plain": [
       "<Figure size 432x288 with 1 Axes>"
      ]
     },
     "metadata": {},
     "output_type": "display_data"
    }
   ],
   "source": [
    "learn.recorder.plot(skip_end=30)"
   ]
  },
  {
   "cell_type": "code",
   "execution_count": 156,
   "metadata": {},
   "outputs": [
    {
     "data": {
      "text/html": [
       "Total time: 01:05 <p><table style='width:375px; margin-bottom:10px'>\n",
       "  <tr>\n",
       "    <th>epoch</th>\n",
       "    <th>train_loss</th>\n",
       "    <th>valid_loss</th>\n",
       "    <th>accuracy</th>\n",
       "    <th>time</th>\n",
       "  </tr>\n",
       "  <tr>\n",
       "    <th>0</th>\n",
       "    <th>2.398948</th>\n",
       "    <th>2.474165</th>\n",
       "    <th>0.463170</th>\n",
       "    <th>00:13</th>\n",
       "  </tr>\n",
       "  <tr>\n",
       "    <th>1</th>\n",
       "    <th>2.381445</th>\n",
       "    <th>2.474466</th>\n",
       "    <th>0.462764</th>\n",
       "    <th>00:13</th>\n",
       "  </tr>\n",
       "  <tr>\n",
       "    <th>2</th>\n",
       "    <th>2.391721</th>\n",
       "    <th>2.473983</th>\n",
       "    <th>0.463393</th>\n",
       "    <th>00:13</th>\n",
       "  </tr>\n",
       "  <tr>\n",
       "    <th>3</th>\n",
       "    <th>2.391970</th>\n",
       "    <th>2.475871</th>\n",
       "    <th>0.463028</th>\n",
       "    <th>00:13</th>\n",
       "  </tr>\n",
       "  <tr>\n",
       "    <th>4</th>\n",
       "    <th>2.393487</th>\n",
       "    <th>2.473896</th>\n",
       "    <th>0.462561</th>\n",
       "    <th>00:13</th>\n",
       "  </tr>\n",
       "</table>\n"
      ],
      "text/plain": [
       "<IPython.core.display.HTML object>"
      ]
     },
     "metadata": {},
     "output_type": "display_data"
    }
   ],
   "source": [
    "learn.fit_one_cycle(5, max_lr=4e-6)"
   ]
  },
  {
   "cell_type": "code",
   "execution_count": 157,
   "metadata": {
    "collapsed": true
   },
   "outputs": [],
   "source": [
    "learn.save(\"awd-lstm-3\")"
   ]
  },
  {
   "cell_type": "code",
   "execution_count": 158,
   "metadata": {},
   "outputs": [
    {
     "data": {
      "text/plain": [
       "LanguageLearner(data=TextLMDataBunch;\n",
       "\n",
       "Train: LabelList (5603 items)\n",
       "x: LMTextList\n",
       "xxbos i saw people struggling shorewards , and heard their screaming and shouting faintly above the seething and roar of the xxmaj martian ’s collapse . xxmaj for a moment i heeded nothing of the heat , forgot the patent need of self - preservation .,xxbos xxmaj apparently they had learned something of my story from me during the days of my lapse . xxmaj very gently , when my mind was assured again , did they break to me what they had learned of the fate of xxmaj leatherhead .,xxbos xxmaj and it ’s the man that keeps on thinking comes through .,xxbos “ xxmaj death is coming !,xxbos xxmaj probably this is due to the relative strength of the earth ’s gravitational energy . ” xxmaj on that last text their leader - writer expanded very comfortingly . xxmaj of course all the students in the crammer ’s biology class , to which my brother went that day , were intensely interested , but there were no signs of any unusual excitement in the streets .\n",
       "y: LMLabelList\n",
       ",,,,\n",
       "Path: .;\n",
       "\n",
       "Valid: LabelList (1401 items)\n",
       "x: LMTextList\n",
       "xxbos xxmaj and the night before last”—he stopped and spoke impressively—“it was just a matter of lights , but it was something up in the air .,xxbos xxmaj he would neither desist from his xxunk on the food nor from his noisy xxunk to himself .,xxbos xxmaj whatever destruction was done , the hand of the xxunk was stayed .,xxbos xxmaj then abruptly she turned and went in , leaving my cousins side by side wishing me good hap . i was a little depressed at first with the contagion of my wife ’s fears , but very soon my thoughts reverted to the xxmaj martians .,xxbos xxmaj wherever there was a possibility of guns being laid for them unseen , a fresh canister of the black vapour was discharged , and where the guns were openly displayed the xxmaj heat - xxmaj ray was brought to bear . xxmaj by midnight the blazing trees along the slopes of xxmaj richmond xxmaj park and the glare of xxmaj kingston xxmaj hill threw their light upon a network of black smoke , blotting out the whole valley of the xxmaj thames and extending as far as the eye could reach .\n",
       "y: LMLabelList\n",
       ",,,,\n",
       "Path: .;\n",
       "\n",
       "Test: None, model=SequentialRNN(\n",
       "  (0): AWD_LSTM(\n",
       "    (encoder): Embedding(6448, 400, padding_idx=1)\n",
       "    (encoder_dp): EmbeddingDropout(\n",
       "      (emb): Embedding(6448, 400, padding_idx=1)\n",
       "    )\n",
       "    (rnns): ModuleList(\n",
       "      (0): WeightDropout(\n",
       "        (module): LSTM(400, 1152, batch_first=True)\n",
       "      )\n",
       "      (1): WeightDropout(\n",
       "        (module): LSTM(1152, 1152, batch_first=True)\n",
       "      )\n",
       "      (2): WeightDropout(\n",
       "        (module): LSTM(1152, 400, batch_first=True)\n",
       "      )\n",
       "    )\n",
       "    (input_dp): RNNDropout()\n",
       "    (hidden_dps): ModuleList(\n",
       "      (0): RNNDropout()\n",
       "      (1): RNNDropout()\n",
       "      (2): RNNDropout()\n",
       "    )\n",
       "  )\n",
       "  (1): LinearDecoder(\n",
       "    (decoder): Linear(in_features=400, out_features=6448, bias=True)\n",
       "    (output_dp): RNNDropout()\n",
       "  )\n",
       "), opt_func=functools.partial(<class 'torch.optim.adam.Adam'>, betas=(0.9, 0.99)), loss_func=FlattenedLoss of CrossEntropyLoss(), metrics=[<function accuracy at 0x7fa44eef9ae8>], true_wd=True, bn_wd=True, wd=0.01, train_bn=True, path=PosixPath('.'), model_dir='models', callback_fns=[functools.partial(<class 'fastai.basic_train.Recorder'>, add_time=True, silent=False)], callbacks=[RNNTrainer\n",
       "learn: LanguageLearner(data=TextLMDataBunch;\n",
       "\n",
       "Train: LabelList (5603 items)\n",
       "x: LMTextList\n",
       "xxbos i saw people struggling shorewards , and heard their screaming and shouting faintly above the seething and roar of the xxmaj martian ’s collapse . xxmaj for a moment i heeded nothing of the heat , forgot the patent need of self - preservation .,xxbos xxmaj apparently they had learned something of my story from me during the days of my lapse . xxmaj very gently , when my mind was assured again , did they break to me what they had learned of the fate of xxmaj leatherhead .,xxbos xxmaj and it ’s the man that keeps on thinking comes through .,xxbos “ xxmaj death is coming !,xxbos xxmaj probably this is due to the relative strength of the earth ’s gravitational energy . ” xxmaj on that last text their leader - writer expanded very comfortingly . xxmaj of course all the students in the crammer ’s biology class , to which my brother went that day , were intensely interested , but there were no signs of any unusual excitement in the streets .\n",
       "y: LMLabelList\n",
       ",,,,\n",
       "Path: .;\n",
       "\n",
       "Valid: LabelList (1401 items)\n",
       "x: LMTextList\n",
       "xxbos xxmaj and the night before last”—he stopped and spoke impressively—“it was just a matter of lights , but it was something up in the air .,xxbos xxmaj he would neither desist from his xxunk on the food nor from his noisy xxunk to himself .,xxbos xxmaj whatever destruction was done , the hand of the xxunk was stayed .,xxbos xxmaj then abruptly she turned and went in , leaving my cousins side by side wishing me good hap . i was a little depressed at first with the contagion of my wife ’s fears , but very soon my thoughts reverted to the xxmaj martians .,xxbos xxmaj wherever there was a possibility of guns being laid for them unseen , a fresh canister of the black vapour was discharged , and where the guns were openly displayed the xxmaj heat - xxmaj ray was brought to bear . xxmaj by midnight the blazing trees along the slopes of xxmaj richmond xxmaj park and the glare of xxmaj kingston xxmaj hill threw their light upon a network of black smoke , blotting out the whole valley of the xxmaj thames and extending as far as the eye could reach .\n",
       "y: LMLabelList\n",
       ",,,,\n",
       "Path: .;\n",
       "\n",
       "Test: None, model=SequentialRNN(\n",
       "  (0): AWD_LSTM(\n",
       "    (encoder): Embedding(6448, 400, padding_idx=1)\n",
       "    (encoder_dp): EmbeddingDropout(\n",
       "      (emb): Embedding(6448, 400, padding_idx=1)\n",
       "    )\n",
       "    (rnns): ModuleList(\n",
       "      (0): WeightDropout(\n",
       "        (module): LSTM(400, 1152, batch_first=True)\n",
       "      )\n",
       "      (1): WeightDropout(\n",
       "        (module): LSTM(1152, 1152, batch_first=True)\n",
       "      )\n",
       "      (2): WeightDropout(\n",
       "        (module): LSTM(1152, 400, batch_first=True)\n",
       "      )\n",
       "    )\n",
       "    (input_dp): RNNDropout()\n",
       "    (hidden_dps): ModuleList(\n",
       "      (0): RNNDropout()\n",
       "      (1): RNNDropout()\n",
       "      (2): RNNDropout()\n",
       "    )\n",
       "  )\n",
       "  (1): LinearDecoder(\n",
       "    (decoder): Linear(in_features=400, out_features=6448, bias=True)\n",
       "    (output_dp): RNNDropout()\n",
       "  )\n",
       "), opt_func=functools.partial(<class 'torch.optim.adam.Adam'>, betas=(0.9, 0.99)), loss_func=FlattenedLoss of CrossEntropyLoss(), metrics=[<function accuracy at 0x7fa44eef9ae8>], true_wd=True, bn_wd=True, wd=0.01, train_bn=True, path=PosixPath('.'), model_dir='models', callback_fns=[functools.partial(<class 'fastai.basic_train.Recorder'>, add_time=True, silent=False)], callbacks=[...], layer_groups=[Sequential(\n",
       "  (0): WeightDropout(\n",
       "    (module): LSTM(400, 1152, batch_first=True)\n",
       "  )\n",
       "  (1): RNNDropout()\n",
       "), Sequential(\n",
       "  (0): WeightDropout(\n",
       "    (module): LSTM(1152, 1152, batch_first=True)\n",
       "  )\n",
       "  (1): RNNDropout()\n",
       "), Sequential(\n",
       "  (0): WeightDropout(\n",
       "    (module): LSTM(1152, 400, batch_first=True)\n",
       "  )\n",
       "  (1): RNNDropout()\n",
       "), Sequential(\n",
       "  (0): Embedding(6448, 400, padding_idx=1)\n",
       "  (1): EmbeddingDropout(\n",
       "    (emb): Embedding(6448, 400, padding_idx=1)\n",
       "  )\n",
       "  (2): LinearDecoder(\n",
       "    (decoder): Linear(in_features=400, out_features=6448, bias=True)\n",
       "    (output_dp): RNNDropout()\n",
       "  )\n",
       ")], add_time=True, silent=False, cb_fns_registered=True)\n",
       "alpha: 2.0\n",
       "beta: 1.0], layer_groups=[Sequential(\n",
       "  (0): WeightDropout(\n",
       "    (module): LSTM(400, 1152, batch_first=True)\n",
       "  )\n",
       "  (1): RNNDropout()\n",
       "), Sequential(\n",
       "  (0): WeightDropout(\n",
       "    (module): LSTM(1152, 1152, batch_first=True)\n",
       "  )\n",
       "  (1): RNNDropout()\n",
       "), Sequential(\n",
       "  (0): WeightDropout(\n",
       "    (module): LSTM(1152, 400, batch_first=True)\n",
       "  )\n",
       "  (1): RNNDropout()\n",
       "), Sequential(\n",
       "  (0): Embedding(6448, 400, padding_idx=1)\n",
       "  (1): EmbeddingDropout(\n",
       "    (emb): Embedding(6448, 400, padding_idx=1)\n",
       "  )\n",
       "  (2): LinearDecoder(\n",
       "    (decoder): Linear(in_features=400, out_features=6448, bias=True)\n",
       "    (output_dp): RNNDropout()\n",
       "  )\n",
       ")], add_time=True, silent=False, cb_fns_registered=True)"
      ]
     },
     "execution_count": 158,
     "metadata": {},
     "output_type": "execute_result"
    }
   ],
   "source": [
    "learn.load(\"awd-lstm-2\")"
   ]
  },
  {
   "cell_type": "code",
   "execution_count": 77,
   "metadata": {},
   "outputs": [
    {
     "data": {
      "text/html": [
       "Total time: 00:11 <p><table style='width:375px; margin-bottom:10px'>\n",
       "  <tr>\n",
       "    <th>epoch</th>\n",
       "    <th>train_loss</th>\n",
       "    <th>valid_loss</th>\n",
       "    <th>accuracy</th>\n",
       "    <th>time</th>\n",
       "  </tr>\n",
       "  <tr>\n",
       "    <th>0</th>\n",
       "    <th>3.391436</th>\n",
       "    <th>3.944928</th>\n",
       "    <th>0.261049</th>\n",
       "    <th>00:03</th>\n",
       "  </tr>\n",
       "  <tr>\n",
       "    <th>1</th>\n",
       "    <th>3.392781</th>\n",
       "    <th>3.943104</th>\n",
       "    <th>0.260658</th>\n",
       "    <th>00:03</th>\n",
       "  </tr>\n",
       "  <tr>\n",
       "    <th>2</th>\n",
       "    <th>3.393323</th>\n",
       "    <th>3.943165</th>\n",
       "    <th>0.261384</th>\n",
       "    <th>00:03</th>\n",
       "  </tr>\n",
       "</table>\n"
      ],
      "text/plain": [
       "<IPython.core.display.HTML object>"
      ]
     },
     "metadata": {},
     "output_type": "display_data"
    }
   ],
   "source": [
    "learn.fit_one_cycle(3, 3e-4)"
   ]
  },
  {
   "cell_type": "code",
   "execution_count": 159,
   "metadata": {
    "collapsed": true
   },
   "outputs": [],
   "source": [
    "learn.unfreeze()"
   ]
  },
  {
   "cell_type": "code",
   "execution_count": 160,
   "metadata": {},
   "outputs": [
    {
     "data": {
      "text/html": [],
      "text/plain": [
       "<IPython.core.display.HTML object>"
      ]
     },
     "metadata": {},
     "output_type": "display_data"
    },
    {
     "name": "stdout",
     "output_type": "stream",
     "text": [
      "LR Finder is complete, type {learner_name}.recorder.plot() to see the graph.\n"
     ]
    }
   ],
   "source": [
    "learn.lr_find()"
   ]
  },
  {
   "cell_type": "code",
   "execution_count": 164,
   "metadata": {},
   "outputs": [
    {
     "data": {
      "image/png": "[encoded data removed]",
      "text/plain": [
       "<Figure size 432x288 with 1 Axes>"
      ]
     },
     "metadata": {},
     "output_type": "display_data"
    }
   ],
   "source": [
    "learn.recorder.plot(skip_end=30)"
   ]
  },
  {
   "cell_type": "code",
   "execution_count": 165,
   "metadata": {},
   "outputs": [
    {
     "data": {
      "text/html": [
       "Total time: 01:26 <p><table style='width:375px; margin-bottom:10px'>\n",
       "  <tr>\n",
       "    <th>epoch</th>\n",
       "    <th>train_loss</th>\n",
       "    <th>valid_loss</th>\n",
       "    <th>accuracy</th>\n",
       "    <th>time</th>\n",
       "  </tr>\n",
       "  <tr>\n",
       "    <th>0</th>\n",
       "    <th>2.257787</th>\n",
       "    <th>2.238874</th>\n",
       "    <th>0.504221</th>\n",
       "    <th>00:17</th>\n",
       "  </tr>\n",
       "  <tr>\n",
       "    <th>1</th>\n",
       "    <th>2.040305</th>\n",
       "    <th>1.844380</th>\n",
       "    <th>0.583888</th>\n",
       "    <th>00:17</th>\n",
       "  </tr>\n",
       "  <tr>\n",
       "    <th>2</th>\n",
       "    <th>1.703753</th>\n",
       "    <th>1.461849</th>\n",
       "    <th>0.673498</th>\n",
       "    <th>00:17</th>\n",
       "  </tr>\n",
       "  <tr>\n",
       "    <th>3</th>\n",
       "    <th>1.403476</th>\n",
       "    <th>1.255484</th>\n",
       "    <th>0.723701</th>\n",
       "    <th>00:17</th>\n",
       "  </tr>\n",
       "  <tr>\n",
       "    <th>4</th>\n",
       "    <th>1.182582</th>\n",
       "    <th>1.217576</th>\n",
       "    <th>0.732630</th>\n",
       "    <th>00:17</th>\n",
       "  </tr>\n",
       "</table>\n"
      ],
      "text/plain": [
       "<IPython.core.display.HTML object>"
      ]
     },
     "metadata": {},
     "output_type": "display_data"
    }
   ],
   "source": [
    "learn.fit_one_cycle(5, max_lr=3e-3)"
   ]
  },
  {
   "cell_type": "code",
   "execution_count": 166,
   "metadata": {},
   "outputs": [
    {
     "data": {
      "text/plain": [
       "'The martian stood in the darkness  regarding me . The hood burst like a gigantic gas , and he stood painfully out under the mound . xxbos It seemed to me him that all this he had made , no relation between the Martians and the Martians . i should have stayed by him but for the brutal expression of his face . xxbos And in the back of this head , face ! xxbos And all this time i felt a vague , a growing craving to look once more on whatever remained of the little life that seemed'"
      ]
     },
     "execution_count": 166,
     "metadata": {},
     "output_type": "execute_result"
    }
   ],
   "source": [
    "learn.predict(test_snippet, n_words=100)"
   ]
  },
  {
   "cell_type": "code",
   "execution_count": 167,
   "metadata": {
    "collapsed": true
   },
   "outputs": [],
   "source": [
    "learn.save(\"awd-lstm-4\")"
   ]
  },
  {
   "cell_type": "code",
   "execution_count": 168,
   "metadata": {},
   "outputs": [
    {
     "data": {
      "text/plain": [
       "LanguageLearner(data=TextLMDataBunch;\n",
       "\n",
       "Train: LabelList (5603 items)\n",
       "x: LMTextList\n",
       "xxbos i saw people struggling shorewards , and heard their screaming and shouting faintly above the seething and roar of the xxmaj martian ’s collapse . xxmaj for a moment i heeded nothing of the heat , forgot the patent need of self - preservation .,xxbos xxmaj apparently they had learned something of my story from me during the days of my lapse . xxmaj very gently , when my mind was assured again , did they break to me what they had learned of the fate of xxmaj leatherhead .,xxbos xxmaj and it ’s the man that keeps on thinking comes through .,xxbos “ xxmaj death is coming !,xxbos xxmaj probably this is due to the relative strength of the earth ’s gravitational energy . ” xxmaj on that last text their leader - writer expanded very comfortingly . xxmaj of course all the students in the crammer ’s biology class , to which my brother went that day , were intensely interested , but there were no signs of any unusual excitement in the streets .\n",
       "y: LMLabelList\n",
       ",,,,\n",
       "Path: .;\n",
       "\n",
       "Valid: LabelList (1401 items)\n",
       "x: LMTextList\n",
       "xxbos xxmaj and the night before last”—he stopped and spoke impressively—“it was just a matter of lights , but it was something up in the air .,xxbos xxmaj he would neither desist from his xxunk on the food nor from his noisy xxunk to himself .,xxbos xxmaj whatever destruction was done , the hand of the xxunk was stayed .,xxbos xxmaj then abruptly she turned and went in , leaving my cousins side by side wishing me good hap . i was a little depressed at first with the contagion of my wife ’s fears , but very soon my thoughts reverted to the xxmaj martians .,xxbos xxmaj wherever there was a possibility of guns being laid for them unseen , a fresh canister of the black vapour was discharged , and where the guns were openly displayed the xxmaj heat - xxmaj ray was brought to bear . xxmaj by midnight the blazing trees along the slopes of xxmaj richmond xxmaj park and the glare of xxmaj kingston xxmaj hill threw their light upon a network of black smoke , blotting out the whole valley of the xxmaj thames and extending as far as the eye could reach .\n",
       "y: LMLabelList\n",
       ",,,,\n",
       "Path: .;\n",
       "\n",
       "Test: None, model=SequentialRNN(\n",
       "  (0): AWD_LSTM(\n",
       "    (encoder): Embedding(6448, 400, padding_idx=1)\n",
       "    (encoder_dp): EmbeddingDropout(\n",
       "      (emb): Embedding(6448, 400, padding_idx=1)\n",
       "    )\n",
       "    (rnns): ModuleList(\n",
       "      (0): WeightDropout(\n",
       "        (module): LSTM(400, 1152, batch_first=True)\n",
       "      )\n",
       "      (1): WeightDropout(\n",
       "        (module): LSTM(1152, 1152, batch_first=True)\n",
       "      )\n",
       "      (2): WeightDropout(\n",
       "        (module): LSTM(1152, 400, batch_first=True)\n",
       "      )\n",
       "    )\n",
       "    (input_dp): RNNDropout()\n",
       "    (hidden_dps): ModuleList(\n",
       "      (0): RNNDropout()\n",
       "      (1): RNNDropout()\n",
       "      (2): RNNDropout()\n",
       "    )\n",
       "  )\n",
       "  (1): LinearDecoder(\n",
       "    (decoder): Linear(in_features=400, out_features=6448, bias=True)\n",
       "    (output_dp): RNNDropout()\n",
       "  )\n",
       "), opt_func=functools.partial(<class 'torch.optim.adam.Adam'>, betas=(0.9, 0.99)), loss_func=FlattenedLoss of CrossEntropyLoss(), metrics=[<function accuracy at 0x7fa44eef9ae8>], true_wd=True, bn_wd=True, wd=0.01, train_bn=True, path=PosixPath('.'), model_dir='models', callback_fns=[functools.partial(<class 'fastai.basic_train.Recorder'>, add_time=True, silent=False)], callbacks=[RNNTrainer\n",
       "learn: LanguageLearner(data=TextLMDataBunch;\n",
       "\n",
       "Train: LabelList (5603 items)\n",
       "x: LMTextList\n",
       "xxbos i saw people struggling shorewards , and heard their screaming and shouting faintly above the seething and roar of the xxmaj martian ’s collapse . xxmaj for a moment i heeded nothing of the heat , forgot the patent need of self - preservation .,xxbos xxmaj apparently they had learned something of my story from me during the days of my lapse . xxmaj very gently , when my mind was assured again , did they break to me what they had learned of the fate of xxmaj leatherhead .,xxbos xxmaj and it ’s the man that keeps on thinking comes through .,xxbos “ xxmaj death is coming !,xxbos xxmaj probably this is due to the relative strength of the earth ’s gravitational energy . ” xxmaj on that last text their leader - writer expanded very comfortingly . xxmaj of course all the students in the crammer ’s biology class , to which my brother went that day , were intensely interested , but there were no signs of any unusual excitement in the streets .\n",
       "y: LMLabelList\n",
       ",,,,\n",
       "Path: .;\n",
       "\n",
       "Valid: LabelList (1401 items)\n",
       "x: LMTextList\n",
       "xxbos xxmaj and the night before last”—he stopped and spoke impressively—“it was just a matter of lights , but it was something up in the air .,xxbos xxmaj he would neither desist from his xxunk on the food nor from his noisy xxunk to himself .,xxbos xxmaj whatever destruction was done , the hand of the xxunk was stayed .,xxbos xxmaj then abruptly she turned and went in , leaving my cousins side by side wishing me good hap . i was a little depressed at first with the contagion of my wife ’s fears , but very soon my thoughts reverted to the xxmaj martians .,xxbos xxmaj wherever there was a possibility of guns being laid for them unseen , a fresh canister of the black vapour was discharged , and where the guns were openly displayed the xxmaj heat - xxmaj ray was brought to bear . xxmaj by midnight the blazing trees along the slopes of xxmaj richmond xxmaj park and the glare of xxmaj kingston xxmaj hill threw their light upon a network of black smoke , blotting out the whole valley of the xxmaj thames and extending as far as the eye could reach .\n",
       "y: LMLabelList\n",
       ",,,,\n",
       "Path: .;\n",
       "\n",
       "Test: None, model=SequentialRNN(\n",
       "  (0): AWD_LSTM(\n",
       "    (encoder): Embedding(6448, 400, padding_idx=1)\n",
       "    (encoder_dp): EmbeddingDropout(\n",
       "      (emb): Embedding(6448, 400, padding_idx=1)\n",
       "    )\n",
       "    (rnns): ModuleList(\n",
       "      (0): WeightDropout(\n",
       "        (module): LSTM(400, 1152, batch_first=True)\n",
       "      )\n",
       "      (1): WeightDropout(\n",
       "        (module): LSTM(1152, 1152, batch_first=True)\n",
       "      )\n",
       "      (2): WeightDropout(\n",
       "        (module): LSTM(1152, 400, batch_first=True)\n",
       "      )\n",
       "    )\n",
       "    (input_dp): RNNDropout()\n",
       "    (hidden_dps): ModuleList(\n",
       "      (0): RNNDropout()\n",
       "      (1): RNNDropout()\n",
       "      (2): RNNDropout()\n",
       "    )\n",
       "  )\n",
       "  (1): LinearDecoder(\n",
       "    (decoder): Linear(in_features=400, out_features=6448, bias=True)\n",
       "    (output_dp): RNNDropout()\n",
       "  )\n",
       "), opt_func=functools.partial(<class 'torch.optim.adam.Adam'>, betas=(0.9, 0.99)), loss_func=FlattenedLoss of CrossEntropyLoss(), metrics=[<function accuracy at 0x7fa44eef9ae8>], true_wd=True, bn_wd=True, wd=0.01, train_bn=True, path=PosixPath('.'), model_dir='models', callback_fns=[functools.partial(<class 'fastai.basic_train.Recorder'>, add_time=True, silent=False)], callbacks=[...], layer_groups=[Sequential(\n",
       "  (0): WeightDropout(\n",
       "    (module): LSTM(400, 1152, batch_first=True)\n",
       "  )\n",
       "  (1): RNNDropout()\n",
       "), Sequential(\n",
       "  (0): WeightDropout(\n",
       "    (module): LSTM(1152, 1152, batch_first=True)\n",
       "  )\n",
       "  (1): RNNDropout()\n",
       "), Sequential(\n",
       "  (0): WeightDropout(\n",
       "    (module): LSTM(1152, 400, batch_first=True)\n",
       "  )\n",
       "  (1): RNNDropout()\n",
       "), Sequential(\n",
       "  (0): Embedding(6448, 400, padding_idx=1)\n",
       "  (1): EmbeddingDropout(\n",
       "    (emb): Embedding(6448, 400, padding_idx=1)\n",
       "  )\n",
       "  (2): LinearDecoder(\n",
       "    (decoder): Linear(in_features=400, out_features=6448, bias=True)\n",
       "    (output_dp): RNNDropout()\n",
       "  )\n",
       ")], add_time=True, silent=False, cb_fns_registered=True)\n",
       "alpha: 2.0\n",
       "beta: 1.0], layer_groups=[Sequential(\n",
       "  (0): WeightDropout(\n",
       "    (module): LSTM(400, 1152, batch_first=True)\n",
       "  )\n",
       "  (1): RNNDropout()\n",
       "), Sequential(\n",
       "  (0): WeightDropout(\n",
       "    (module): LSTM(1152, 1152, batch_first=True)\n",
       "  )\n",
       "  (1): RNNDropout()\n",
       "), Sequential(\n",
       "  (0): WeightDropout(\n",
       "    (module): LSTM(1152, 400, batch_first=True)\n",
       "  )\n",
       "  (1): RNNDropout()\n",
       "), Sequential(\n",
       "  (0): Embedding(6448, 400, padding_idx=1)\n",
       "  (1): EmbeddingDropout(\n",
       "    (emb): Embedding(6448, 400, padding_idx=1)\n",
       "  )\n",
       "  (2): LinearDecoder(\n",
       "    (decoder): Linear(in_features=400, out_features=6448, bias=True)\n",
       "    (output_dp): RNNDropout()\n",
       "  )\n",
       ")], add_time=True, silent=False, cb_fns_registered=True)"
      ]
     },
     "execution_count": 168,
     "metadata": {},
     "output_type": "execute_result"
    }
   ],
   "source": [
    "learn.load(\"awd-lstm-4\")"
   ]
  },
  {
   "cell_type": "code",
   "execution_count": 169,
   "metadata": {},
   "outputs": [
    {
     "data": {
      "text/html": [
       "Total time: 02:53 <p><table style='width:375px; margin-bottom:10px'>\n",
       "  <tr>\n",
       "    <th>epoch</th>\n",
       "    <th>train_loss</th>\n",
       "    <th>valid_loss</th>\n",
       "    <th>accuracy</th>\n",
       "    <th>time</th>\n",
       "  </tr>\n",
       "  <tr>\n",
       "    <th>0</th>\n",
       "    <th>0.968449</th>\n",
       "    <th>1.144415</th>\n",
       "    <th>0.751502</th>\n",
       "    <th>00:17</th>\n",
       "  </tr>\n",
       "  <tr>\n",
       "    <th>1</th>\n",
       "    <th>0.943561</th>\n",
       "    <th>1.014594</th>\n",
       "    <th>0.783563</th>\n",
       "    <th>00:17</th>\n",
       "  </tr>\n",
       "  <tr>\n",
       "    <th>2</th>\n",
       "    <th>0.919239</th>\n",
       "    <th>0.898820</th>\n",
       "    <th>0.811607</th>\n",
       "    <th>00:17</th>\n",
       "  </tr>\n",
       "  <tr>\n",
       "    <th>3</th>\n",
       "    <th>0.875352</th>\n",
       "    <th>0.792193</th>\n",
       "    <th>0.838413</th>\n",
       "    <th>00:17</th>\n",
       "  </tr>\n",
       "  <tr>\n",
       "    <th>4</th>\n",
       "    <th>0.779508</th>\n",
       "    <th>0.693480</th>\n",
       "    <th>0.861425</th>\n",
       "    <th>00:17</th>\n",
       "  </tr>\n",
       "  <tr>\n",
       "    <th>5</th>\n",
       "    <th>0.684313</th>\n",
       "    <th>0.639296</th>\n",
       "    <th>0.876745</th>\n",
       "    <th>00:17</th>\n",
       "  </tr>\n",
       "  <tr>\n",
       "    <th>6</th>\n",
       "    <th>0.603677</th>\n",
       "    <th>0.594924</th>\n",
       "    <th>0.886201</th>\n",
       "    <th>00:17</th>\n",
       "  </tr>\n",
       "  <tr>\n",
       "    <th>7</th>\n",
       "    <th>0.546042</th>\n",
       "    <th>0.578345</th>\n",
       "    <th>0.890097</th>\n",
       "    <th>00:17</th>\n",
       "  </tr>\n",
       "  <tr>\n",
       "    <th>8</th>\n",
       "    <th>0.503430</th>\n",
       "    <th>0.564848</th>\n",
       "    <th>0.891985</th>\n",
       "    <th>00:17</th>\n",
       "  </tr>\n",
       "  <tr>\n",
       "    <th>9</th>\n",
       "    <th>0.484314</th>\n",
       "    <th>0.566929</th>\n",
       "    <th>0.891802</th>\n",
       "    <th>00:17</th>\n",
       "  </tr>\n",
       "</table>\n"
      ],
      "text/plain": [
       "<IPython.core.display.HTML object>"
      ]
     },
     "metadata": {},
     "output_type": "display_data"
    }
   ],
   "source": [
    "learn.fit_one_cycle(10, max_lr=3e-3)"
   ]
  },
  {
   "cell_type": "code",
   "execution_count": 170,
   "metadata": {},
   "outputs": [
    {
     "data": {
      "text/plain": [
       "'The martian stood in the darkness  staring at the strange , complex apparatus of digestion , which had taken a lump of coal to examine . i seized the opportunity of slightly shifting my position , which had become cramped , and then listened . xxbos i go ! xxbos From there we could see the searchlights on Kingston Hill and Kingston Hill going to and fro , and about eleven the windows rattled , and we heard the sound of the huge siege guns that had been put in position there . xxbos It may be that across the'"
      ]
     },
     "execution_count": 170,
     "metadata": {},
     "output_type": "execute_result"
    }
   ],
   "source": [
    "learn.predict(test_snippet, n_words=100)"
   ]
  },
  {
   "cell_type": "code",
   "execution_count": 174,
   "metadata": {},
   "outputs": [
    {
     "data": {
      "text/html": [
       "Total time: 02:53 <p><table style='width:375px; margin-bottom:10px'>\n",
       "  <tr>\n",
       "    <th>epoch</th>\n",
       "    <th>train_loss</th>\n",
       "    <th>valid_loss</th>\n",
       "    <th>accuracy</th>\n",
       "    <th>time</th>\n",
       "  </tr>\n",
       "  <tr>\n",
       "    <th>0</th>\n",
       "    <th>0.984163</th>\n",
       "    <th>1.150082</th>\n",
       "    <th>0.749574</th>\n",
       "    <th>00:17</th>\n",
       "  </tr>\n",
       "  <tr>\n",
       "    <th>1</th>\n",
       "    <th>0.970286</th>\n",
       "    <th>1.052697</th>\n",
       "    <th>0.773214</th>\n",
       "    <th>00:17</th>\n",
       "  </tr>\n",
       "  <tr>\n",
       "    <th>2</th>\n",
       "    <th>0.947784</th>\n",
       "    <th>0.921846</th>\n",
       "    <th>0.807995</th>\n",
       "    <th>00:17</th>\n",
       "  </tr>\n",
       "  <tr>\n",
       "    <th>3</th>\n",
       "    <th>0.869171</th>\n",
       "    <th>0.791080</th>\n",
       "    <th>0.839387</th>\n",
       "    <th>00:17</th>\n",
       "  </tr>\n",
       "  <tr>\n",
       "    <th>4</th>\n",
       "    <th>0.788402</th>\n",
       "    <th>0.706615</th>\n",
       "    <th>0.860085</th>\n",
       "    <th>00:17</th>\n",
       "  </tr>\n",
       "  <tr>\n",
       "    <th>5</th>\n",
       "    <th>0.701246</th>\n",
       "    <th>0.641725</th>\n",
       "    <th>0.875284</th>\n",
       "    <th>00:17</th>\n",
       "  </tr>\n",
       "  <tr>\n",
       "    <th>6</th>\n",
       "    <th>0.616977</th>\n",
       "    <th>0.598144</th>\n",
       "    <th>0.884314</th>\n",
       "    <th>00:17</th>\n",
       "  </tr>\n",
       "  <tr>\n",
       "    <th>7</th>\n",
       "    <th>0.555647</th>\n",
       "    <th>0.577747</th>\n",
       "    <th>0.889286</th>\n",
       "    <th>00:17</th>\n",
       "  </tr>\n",
       "  <tr>\n",
       "    <th>8</th>\n",
       "    <th>0.508160</th>\n",
       "    <th>0.569720</th>\n",
       "    <th>0.891335</th>\n",
       "    <th>00:17</th>\n",
       "  </tr>\n",
       "  <tr>\n",
       "    <th>9</th>\n",
       "    <th>0.486440</th>\n",
       "    <th>0.564845</th>\n",
       "    <th>0.891842</th>\n",
       "    <th>00:17</th>\n",
       "  </tr>\n",
       "</table>\n"
      ],
      "text/plain": [
       "<IPython.core.display.HTML object>"
      ]
     },
     "metadata": {},
     "output_type": "display_data"
    }
   ],
   "source": [
    "learn.fit_one_cycle(10, max_lr=3e-3)"
   ]
  },
  {
   "cell_type": "code",
   "execution_count": 175,
   "metadata": {
    "collapsed": true
   },
   "outputs": [],
   "source": [
    "learn.save(\"awd-lstm-5\")"
   ]
  },
  {
   "cell_type": "code",
   "execution_count": 176,
   "metadata": {},
   "outputs": [
    {
     "data": {
      "text/plain": [
       "LanguageLearner(data=TextLMDataBunch;\n",
       "\n",
       "Train: LabelList (5603 items)\n",
       "x: LMTextList\n",
       "xxbos i saw people struggling shorewards , and heard their screaming and shouting faintly above the seething and roar of the xxmaj martian ’s collapse . xxmaj for a moment i heeded nothing of the heat , forgot the patent need of self - preservation .,xxbos xxmaj apparently they had learned something of my story from me during the days of my lapse . xxmaj very gently , when my mind was assured again , did they break to me what they had learned of the fate of xxmaj leatherhead .,xxbos xxmaj and it ’s the man that keeps on thinking comes through .,xxbos “ xxmaj death is coming !,xxbos xxmaj probably this is due to the relative strength of the earth ’s gravitational energy . ” xxmaj on that last text their leader - writer expanded very comfortingly . xxmaj of course all the students in the crammer ’s biology class , to which my brother went that day , were intensely interested , but there were no signs of any unusual excitement in the streets .\n",
       "y: LMLabelList\n",
       ",,,,\n",
       "Path: .;\n",
       "\n",
       "Valid: LabelList (1401 items)\n",
       "x: LMTextList\n",
       "xxbos xxmaj and the night before last”—he stopped and spoke impressively—“it was just a matter of lights , but it was something up in the air .,xxbos xxmaj he would neither desist from his xxunk on the food nor from his noisy xxunk to himself .,xxbos xxmaj whatever destruction was done , the hand of the xxunk was stayed .,xxbos xxmaj then abruptly she turned and went in , leaving my cousins side by side wishing me good hap . i was a little depressed at first with the contagion of my wife ’s fears , but very soon my thoughts reverted to the xxmaj martians .,xxbos xxmaj wherever there was a possibility of guns being laid for them unseen , a fresh canister of the black vapour was discharged , and where the guns were openly displayed the xxmaj heat - xxmaj ray was brought to bear . xxmaj by midnight the blazing trees along the slopes of xxmaj richmond xxmaj park and the glare of xxmaj kingston xxmaj hill threw their light upon a network of black smoke , blotting out the whole valley of the xxmaj thames and extending as far as the eye could reach .\n",
       "y: LMLabelList\n",
       ",,,,\n",
       "Path: .;\n",
       "\n",
       "Test: None, model=SequentialRNN(\n",
       "  (0): AWD_LSTM(\n",
       "    (encoder): Embedding(6448, 400, padding_idx=1)\n",
       "    (encoder_dp): EmbeddingDropout(\n",
       "      (emb): Embedding(6448, 400, padding_idx=1)\n",
       "    )\n",
       "    (rnns): ModuleList(\n",
       "      (0): WeightDropout(\n",
       "        (module): LSTM(400, 1152, batch_first=True)\n",
       "      )\n",
       "      (1): WeightDropout(\n",
       "        (module): LSTM(1152, 1152, batch_first=True)\n",
       "      )\n",
       "      (2): WeightDropout(\n",
       "        (module): LSTM(1152, 400, batch_first=True)\n",
       "      )\n",
       "    )\n",
       "    (input_dp): RNNDropout()\n",
       "    (hidden_dps): ModuleList(\n",
       "      (0): RNNDropout()\n",
       "      (1): RNNDropout()\n",
       "      (2): RNNDropout()\n",
       "    )\n",
       "  )\n",
       "  (1): LinearDecoder(\n",
       "    (decoder): Linear(in_features=400, out_features=6448, bias=True)\n",
       "    (output_dp): RNNDropout()\n",
       "  )\n",
       "), opt_func=functools.partial(<class 'torch.optim.adam.Adam'>, betas=(0.9, 0.99)), loss_func=FlattenedLoss of CrossEntropyLoss(), metrics=[<function accuracy at 0x7fa44eef9ae8>], true_wd=True, bn_wd=True, wd=0.01, train_bn=True, path=PosixPath('.'), model_dir='models', callback_fns=[functools.partial(<class 'fastai.basic_train.Recorder'>, add_time=True, silent=False)], callbacks=[RNNTrainer\n",
       "learn: LanguageLearner(data=TextLMDataBunch;\n",
       "\n",
       "Train: LabelList (5603 items)\n",
       "x: LMTextList\n",
       "xxbos i saw people struggling shorewards , and heard their screaming and shouting faintly above the seething and roar of the xxmaj martian ’s collapse . xxmaj for a moment i heeded nothing of the heat , forgot the patent need of self - preservation .,xxbos xxmaj apparently they had learned something of my story from me during the days of my lapse . xxmaj very gently , when my mind was assured again , did they break to me what they had learned of the fate of xxmaj leatherhead .,xxbos xxmaj and it ’s the man that keeps on thinking comes through .,xxbos “ xxmaj death is coming !,xxbos xxmaj probably this is due to the relative strength of the earth ’s gravitational energy . ” xxmaj on that last text their leader - writer expanded very comfortingly . xxmaj of course all the students in the crammer ’s biology class , to which my brother went that day , were intensely interested , but there were no signs of any unusual excitement in the streets .\n",
       "y: LMLabelList\n",
       ",,,,\n",
       "Path: .;\n",
       "\n",
       "Valid: LabelList (1401 items)\n",
       "x: LMTextList\n",
       "xxbos xxmaj and the night before last”—he stopped and spoke impressively—“it was just a matter of lights , but it was something up in the air .,xxbos xxmaj he would neither desist from his xxunk on the food nor from his noisy xxunk to himself .,xxbos xxmaj whatever destruction was done , the hand of the xxunk was stayed .,xxbos xxmaj then abruptly she turned and went in , leaving my cousins side by side wishing me good hap . i was a little depressed at first with the contagion of my wife ’s fears , but very soon my thoughts reverted to the xxmaj martians .,xxbos xxmaj wherever there was a possibility of guns being laid for them unseen , a fresh canister of the black vapour was discharged , and where the guns were openly displayed the xxmaj heat - xxmaj ray was brought to bear . xxmaj by midnight the blazing trees along the slopes of xxmaj richmond xxmaj park and the glare of xxmaj kingston xxmaj hill threw their light upon a network of black smoke , blotting out the whole valley of the xxmaj thames and extending as far as the eye could reach .\n",
       "y: LMLabelList\n",
       ",,,,\n",
       "Path: .;\n",
       "\n",
       "Test: None, model=SequentialRNN(\n",
       "  (0): AWD_LSTM(\n",
       "    (encoder): Embedding(6448, 400, padding_idx=1)\n",
       "    (encoder_dp): EmbeddingDropout(\n",
       "      (emb): Embedding(6448, 400, padding_idx=1)\n",
       "    )\n",
       "    (rnns): ModuleList(\n",
       "      (0): WeightDropout(\n",
       "        (module): LSTM(400, 1152, batch_first=True)\n",
       "      )\n",
       "      (1): WeightDropout(\n",
       "        (module): LSTM(1152, 1152, batch_first=True)\n",
       "      )\n",
       "      (2): WeightDropout(\n",
       "        (module): LSTM(1152, 400, batch_first=True)\n",
       "      )\n",
       "    )\n",
       "    (input_dp): RNNDropout()\n",
       "    (hidden_dps): ModuleList(\n",
       "      (0): RNNDropout()\n",
       "      (1): RNNDropout()\n",
       "      (2): RNNDropout()\n",
       "    )\n",
       "  )\n",
       "  (1): LinearDecoder(\n",
       "    (decoder): Linear(in_features=400, out_features=6448, bias=True)\n",
       "    (output_dp): RNNDropout()\n",
       "  )\n",
       "), opt_func=functools.partial(<class 'torch.optim.adam.Adam'>, betas=(0.9, 0.99)), loss_func=FlattenedLoss of CrossEntropyLoss(), metrics=[<function accuracy at 0x7fa44eef9ae8>], true_wd=True, bn_wd=True, wd=0.01, train_bn=True, path=PosixPath('.'), model_dir='models', callback_fns=[functools.partial(<class 'fastai.basic_train.Recorder'>, add_time=True, silent=False)], callbacks=[...], layer_groups=[Sequential(\n",
       "  (0): WeightDropout(\n",
       "    (module): LSTM(400, 1152, batch_first=True)\n",
       "  )\n",
       "  (1): RNNDropout()\n",
       "), Sequential(\n",
       "  (0): WeightDropout(\n",
       "    (module): LSTM(1152, 1152, batch_first=True)\n",
       "  )\n",
       "  (1): RNNDropout()\n",
       "), Sequential(\n",
       "  (0): WeightDropout(\n",
       "    (module): LSTM(1152, 400, batch_first=True)\n",
       "  )\n",
       "  (1): RNNDropout()\n",
       "), Sequential(\n",
       "  (0): Embedding(6448, 400, padding_idx=1)\n",
       "  (1): EmbeddingDropout(\n",
       "    (emb): Embedding(6448, 400, padding_idx=1)\n",
       "  )\n",
       "  (2): LinearDecoder(\n",
       "    (decoder): Linear(in_features=400, out_features=6448, bias=True)\n",
       "    (output_dp): RNNDropout()\n",
       "  )\n",
       ")], add_time=True, silent=False, cb_fns_registered=True)\n",
       "alpha: 2.0\n",
       "beta: 1.0], layer_groups=[Sequential(\n",
       "  (0): WeightDropout(\n",
       "    (module): LSTM(400, 1152, batch_first=True)\n",
       "  )\n",
       "  (1): RNNDropout()\n",
       "), Sequential(\n",
       "  (0): WeightDropout(\n",
       "    (module): LSTM(1152, 1152, batch_first=True)\n",
       "  )\n",
       "  (1): RNNDropout()\n",
       "), Sequential(\n",
       "  (0): WeightDropout(\n",
       "    (module): LSTM(1152, 400, batch_first=True)\n",
       "  )\n",
       "  (1): RNNDropout()\n",
       "), Sequential(\n",
       "  (0): Embedding(6448, 400, padding_idx=1)\n",
       "  (1): EmbeddingDropout(\n",
       "    (emb): Embedding(6448, 400, padding_idx=1)\n",
       "  )\n",
       "  (2): LinearDecoder(\n",
       "    (decoder): Linear(in_features=400, out_features=6448, bias=True)\n",
       "    (output_dp): RNNDropout()\n",
       "  )\n",
       ")], add_time=True, silent=False, cb_fns_registered=True)"
      ]
     },
     "execution_count": 176,
     "metadata": {},
     "output_type": "execute_result"
    }
   ],
   "source": [
    "learn.load(\"awd-lstm-5\")"
   ]
  },
  {
   "cell_type": "code",
   "execution_count": 177,
   "metadata": {},
   "outputs": [
    {
     "data": {
      "text/html": [
       "Total time: 02:52 <p><table style='width:375px; margin-bottom:10px'>\n",
       "  <tr>\n",
       "    <th>epoch</th>\n",
       "    <th>train_loss</th>\n",
       "    <th>valid_loss</th>\n",
       "    <th>accuracy</th>\n",
       "    <th>time</th>\n",
       "  </tr>\n",
       "  <tr>\n",
       "    <th>0</th>\n",
       "    <th>0.464480</th>\n",
       "    <th>0.560063</th>\n",
       "    <th>0.892675</th>\n",
       "    <th>00:17</th>\n",
       "  </tr>\n",
       "  <tr>\n",
       "    <th>1</th>\n",
       "    <th>0.489028</th>\n",
       "    <th>0.562955</th>\n",
       "    <th>0.894460</th>\n",
       "    <th>00:17</th>\n",
       "  </tr>\n",
       "  <tr>\n",
       "    <th>2</th>\n",
       "    <th>0.511862</th>\n",
       "    <th>0.572919</th>\n",
       "    <th>0.892837</th>\n",
       "    <th>00:17</th>\n",
       "  </tr>\n",
       "  <tr>\n",
       "    <th>3</th>\n",
       "    <th>0.519749</th>\n",
       "    <th>0.558645</th>\n",
       "    <th>0.895069</th>\n",
       "    <th>00:17</th>\n",
       "  </tr>\n",
       "  <tr>\n",
       "    <th>4</th>\n",
       "    <th>0.512629</th>\n",
       "    <th>0.549342</th>\n",
       "    <th>0.895840</th>\n",
       "    <th>00:17</th>\n",
       "  </tr>\n",
       "  <tr>\n",
       "    <th>5</th>\n",
       "    <th>0.488836</th>\n",
       "    <th>0.533895</th>\n",
       "    <th>0.897930</th>\n",
       "    <th>00:17</th>\n",
       "  </tr>\n",
       "  <tr>\n",
       "    <th>6</th>\n",
       "    <th>0.457347</th>\n",
       "    <th>0.526002</th>\n",
       "    <th>0.898965</th>\n",
       "    <th>00:17</th>\n",
       "  </tr>\n",
       "  <tr>\n",
       "    <th>7</th>\n",
       "    <th>0.431832</th>\n",
       "    <th>0.522975</th>\n",
       "    <th>0.898580</th>\n",
       "    <th>00:17</th>\n",
       "  </tr>\n",
       "  <tr>\n",
       "    <th>8</th>\n",
       "    <th>0.406672</th>\n",
       "    <th>0.518595</th>\n",
       "    <th>0.899188</th>\n",
       "    <th>00:17</th>\n",
       "  </tr>\n",
       "  <tr>\n",
       "    <th>9</th>\n",
       "    <th>0.393734</th>\n",
       "    <th>0.518315</th>\n",
       "    <th>0.898904</th>\n",
       "    <th>00:17</th>\n",
       "  </tr>\n",
       "</table>\n"
      ],
      "text/plain": [
       "<IPython.core.display.HTML object>"
      ]
     },
     "metadata": {},
     "output_type": "display_data"
    }
   ],
   "source": [
    "learn.fit_one_cycle(10, max_lr=3e-3)"
   ]
  },
  {
   "cell_type": "code",
   "execution_count": 178,
   "metadata": {},
   "outputs": [
    {
     "data": {
      "text/plain": [
       "'The martian stood in the darkness  staring at the faintly lit doorway into the kitchen , and listening . xxbos They wanted a light railing put up , and help to keep the people back . xxbos i came into the road between the crossroads and Horsell , and ran along this to the crossroads . At last i could go no further ; i was exhausted with the violence of my emotion and of my flight , and i staggered and fell by the wayside . xxbos At most terrestrial men fancied there might be other men upon Mars ,'"
      ]
     },
     "execution_count": 178,
     "metadata": {},
     "output_type": "execute_result"
    }
   ],
   "source": [
    "learn.predict(test_snippet, n_words=100)"
   ]
  },
  {
   "cell_type": "code",
   "execution_count": 179,
   "metadata": {
    "collapsed": true
   },
   "outputs": [],
   "source": [
    "learn.save(\"awd-lstm-6\")"
   ]
  },
  {
   "cell_type": "code",
   "execution_count": 180,
   "metadata": {},
   "outputs": [
    {
     "data": {
      "text/plain": [
       "LanguageLearner(data=TextLMDataBunch;\n",
       "\n",
       "Train: LabelList (5603 items)\n",
       "x: LMTextList\n",
       "xxbos i saw people struggling shorewards , and heard their screaming and shouting faintly above the seething and roar of the xxmaj martian ’s collapse . xxmaj for a moment i heeded nothing of the heat , forgot the patent need of self - preservation .,xxbos xxmaj apparently they had learned something of my story from me during the days of my lapse . xxmaj very gently , when my mind was assured again , did they break to me what they had learned of the fate of xxmaj leatherhead .,xxbos xxmaj and it ’s the man that keeps on thinking comes through .,xxbos “ xxmaj death is coming !,xxbos xxmaj probably this is due to the relative strength of the earth ’s gravitational energy . ” xxmaj on that last text their leader - writer expanded very comfortingly . xxmaj of course all the students in the crammer ’s biology class , to which my brother went that day , were intensely interested , but there were no signs of any unusual excitement in the streets .\n",
       "y: LMLabelList\n",
       ",,,,\n",
       "Path: .;\n",
       "\n",
       "Valid: LabelList (1401 items)\n",
       "x: LMTextList\n",
       "xxbos xxmaj and the night before last”—he stopped and spoke impressively—“it was just a matter of lights , but it was something up in the air .,xxbos xxmaj he would neither desist from his xxunk on the food nor from his noisy xxunk to himself .,xxbos xxmaj whatever destruction was done , the hand of the xxunk was stayed .,xxbos xxmaj then abruptly she turned and went in , leaving my cousins side by side wishing me good hap . i was a little depressed at first with the contagion of my wife ’s fears , but very soon my thoughts reverted to the xxmaj martians .,xxbos xxmaj wherever there was a possibility of guns being laid for them unseen , a fresh canister of the black vapour was discharged , and where the guns were openly displayed the xxmaj heat - xxmaj ray was brought to bear . xxmaj by midnight the blazing trees along the slopes of xxmaj richmond xxmaj park and the glare of xxmaj kingston xxmaj hill threw their light upon a network of black smoke , blotting out the whole valley of the xxmaj thames and extending as far as the eye could reach .\n",
       "y: LMLabelList\n",
       ",,,,\n",
       "Path: .;\n",
       "\n",
       "Test: None, model=SequentialRNN(\n",
       "  (0): AWD_LSTM(\n",
       "    (encoder): Embedding(6448, 400, padding_idx=1)\n",
       "    (encoder_dp): EmbeddingDropout(\n",
       "      (emb): Embedding(6448, 400, padding_idx=1)\n",
       "    )\n",
       "    (rnns): ModuleList(\n",
       "      (0): WeightDropout(\n",
       "        (module): LSTM(400, 1152, batch_first=True)\n",
       "      )\n",
       "      (1): WeightDropout(\n",
       "        (module): LSTM(1152, 1152, batch_first=True)\n",
       "      )\n",
       "      (2): WeightDropout(\n",
       "        (module): LSTM(1152, 400, batch_first=True)\n",
       "      )\n",
       "    )\n",
       "    (input_dp): RNNDropout()\n",
       "    (hidden_dps): ModuleList(\n",
       "      (0): RNNDropout()\n",
       "      (1): RNNDropout()\n",
       "      (2): RNNDropout()\n",
       "    )\n",
       "  )\n",
       "  (1): LinearDecoder(\n",
       "    (decoder): Linear(in_features=400, out_features=6448, bias=True)\n",
       "    (output_dp): RNNDropout()\n",
       "  )\n",
       "), opt_func=functools.partial(<class 'torch.optim.adam.Adam'>, betas=(0.9, 0.99)), loss_func=FlattenedLoss of CrossEntropyLoss(), metrics=[<function accuracy at 0x7fa44eef9ae8>], true_wd=True, bn_wd=True, wd=0.01, train_bn=True, path=PosixPath('.'), model_dir='models', callback_fns=[functools.partial(<class 'fastai.basic_train.Recorder'>, add_time=True, silent=False)], callbacks=[RNNTrainer\n",
       "learn: LanguageLearner(data=TextLMDataBunch;\n",
       "\n",
       "Train: LabelList (5603 items)\n",
       "x: LMTextList\n",
       "xxbos i saw people struggling shorewards , and heard their screaming and shouting faintly above the seething and roar of the xxmaj martian ’s collapse . xxmaj for a moment i heeded nothing of the heat , forgot the patent need of self - preservation .,xxbos xxmaj apparently they had learned something of my story from me during the days of my lapse . xxmaj very gently , when my mind was assured again , did they break to me what they had learned of the fate of xxmaj leatherhead .,xxbos xxmaj and it ’s the man that keeps on thinking comes through .,xxbos “ xxmaj death is coming !,xxbos xxmaj probably this is due to the relative strength of the earth ’s gravitational energy . ” xxmaj on that last text their leader - writer expanded very comfortingly . xxmaj of course all the students in the crammer ’s biology class , to which my brother went that day , were intensely interested , but there were no signs of any unusual excitement in the streets .\n",
       "y: LMLabelList\n",
       ",,,,\n",
       "Path: .;\n",
       "\n",
       "Valid: LabelList (1401 items)\n",
       "x: LMTextList\n",
       "xxbos xxmaj and the night before last”—he stopped and spoke impressively—“it was just a matter of lights , but it was something up in the air .,xxbos xxmaj he would neither desist from his xxunk on the food nor from his noisy xxunk to himself .,xxbos xxmaj whatever destruction was done , the hand of the xxunk was stayed .,xxbos xxmaj then abruptly she turned and went in , leaving my cousins side by side wishing me good hap . i was a little depressed at first with the contagion of my wife ’s fears , but very soon my thoughts reverted to the xxmaj martians .,xxbos xxmaj wherever there was a possibility of guns being laid for them unseen , a fresh canister of the black vapour was discharged , and where the guns were openly displayed the xxmaj heat - xxmaj ray was brought to bear . xxmaj by midnight the blazing trees along the slopes of xxmaj richmond xxmaj park and the glare of xxmaj kingston xxmaj hill threw their light upon a network of black smoke , blotting out the whole valley of the xxmaj thames and extending as far as the eye could reach .\n",
       "y: LMLabelList\n",
       ",,,,\n",
       "Path: .;\n",
       "\n",
       "Test: None, model=SequentialRNN(\n",
       "  (0): AWD_LSTM(\n",
       "    (encoder): Embedding(6448, 400, padding_idx=1)\n",
       "    (encoder_dp): EmbeddingDropout(\n",
       "      (emb): Embedding(6448, 400, padding_idx=1)\n",
       "    )\n",
       "    (rnns): ModuleList(\n",
       "      (0): WeightDropout(\n",
       "        (module): LSTM(400, 1152, batch_first=True)\n",
       "      )\n",
       "      (1): WeightDropout(\n",
       "        (module): LSTM(1152, 1152, batch_first=True)\n",
       "      )\n",
       "      (2): WeightDropout(\n",
       "        (module): LSTM(1152, 400, batch_first=True)\n",
       "      )\n",
       "    )\n",
       "    (input_dp): RNNDropout()\n",
       "    (hidden_dps): ModuleList(\n",
       "      (0): RNNDropout()\n",
       "      (1): RNNDropout()\n",
       "      (2): RNNDropout()\n",
       "    )\n",
       "  )\n",
       "  (1): LinearDecoder(\n",
       "    (decoder): Linear(in_features=400, out_features=6448, bias=True)\n",
       "    (output_dp): RNNDropout()\n",
       "  )\n",
       "), opt_func=functools.partial(<class 'torch.optim.adam.Adam'>, betas=(0.9, 0.99)), loss_func=FlattenedLoss of CrossEntropyLoss(), metrics=[<function accuracy at 0x7fa44eef9ae8>], true_wd=True, bn_wd=True, wd=0.01, train_bn=True, path=PosixPath('.'), model_dir='models', callback_fns=[functools.partial(<class 'fastai.basic_train.Recorder'>, add_time=True, silent=False)], callbacks=[...], layer_groups=[Sequential(\n",
       "  (0): WeightDropout(\n",
       "    (module): LSTM(400, 1152, batch_first=True)\n",
       "  )\n",
       "  (1): RNNDropout()\n",
       "), Sequential(\n",
       "  (0): WeightDropout(\n",
       "    (module): LSTM(1152, 1152, batch_first=True)\n",
       "  )\n",
       "  (1): RNNDropout()\n",
       "), Sequential(\n",
       "  (0): WeightDropout(\n",
       "    (module): LSTM(1152, 400, batch_first=True)\n",
       "  )\n",
       "  (1): RNNDropout()\n",
       "), Sequential(\n",
       "  (0): Embedding(6448, 400, padding_idx=1)\n",
       "  (1): EmbeddingDropout(\n",
       "    (emb): Embedding(6448, 400, padding_idx=1)\n",
       "  )\n",
       "  (2): LinearDecoder(\n",
       "    (decoder): Linear(in_features=400, out_features=6448, bias=True)\n",
       "    (output_dp): RNNDropout()\n",
       "  )\n",
       ")], add_time=True, silent=False, cb_fns_registered=True)\n",
       "alpha: 2.0\n",
       "beta: 1.0], layer_groups=[Sequential(\n",
       "  (0): WeightDropout(\n",
       "    (module): LSTM(400, 1152, batch_first=True)\n",
       "  )\n",
       "  (1): RNNDropout()\n",
       "), Sequential(\n",
       "  (0): WeightDropout(\n",
       "    (module): LSTM(1152, 1152, batch_first=True)\n",
       "  )\n",
       "  (1): RNNDropout()\n",
       "), Sequential(\n",
       "  (0): WeightDropout(\n",
       "    (module): LSTM(1152, 400, batch_first=True)\n",
       "  )\n",
       "  (1): RNNDropout()\n",
       "), Sequential(\n",
       "  (0): Embedding(6448, 400, padding_idx=1)\n",
       "  (1): EmbeddingDropout(\n",
       "    (emb): Embedding(6448, 400, padding_idx=1)\n",
       "  )\n",
       "  (2): LinearDecoder(\n",
       "    (decoder): Linear(in_features=400, out_features=6448, bias=True)\n",
       "    (output_dp): RNNDropout()\n",
       "  )\n",
       ")], add_time=True, silent=False, cb_fns_registered=True)"
      ]
     },
     "execution_count": 180,
     "metadata": {},
     "output_type": "execute_result"
    }
   ],
   "source": [
    "learn.load(\"awd-lstm-6\")"
   ]
  },
  {
   "cell_type": "code",
   "execution_count": 181,
   "metadata": {},
   "outputs": [
    {
     "data": {
      "text/html": [
       "Total time: 02:53 <p><table style='width:375px; margin-bottom:10px'>\n",
       "  <tr>\n",
       "    <th>epoch</th>\n",
       "    <th>train_loss</th>\n",
       "    <th>valid_loss</th>\n",
       "    <th>accuracy</th>\n",
       "    <th>time</th>\n",
       "  </tr>\n",
       "  <tr>\n",
       "    <th>0</th>\n",
       "    <th>0.381596</th>\n",
       "    <th>0.517110</th>\n",
       "    <th>0.899229</th>\n",
       "    <th>00:17</th>\n",
       "  </tr>\n",
       "  <tr>\n",
       "    <th>1</th>\n",
       "    <th>0.399819</th>\n",
       "    <th>0.525532</th>\n",
       "    <th>0.899797</th>\n",
       "    <th>00:17</th>\n",
       "  </tr>\n",
       "  <tr>\n",
       "    <th>2</th>\n",
       "    <th>0.419243</th>\n",
       "    <th>0.539217</th>\n",
       "    <th>0.898945</th>\n",
       "    <th>00:17</th>\n",
       "  </tr>\n",
       "  <tr>\n",
       "    <th>3</th>\n",
       "    <th>0.434489</th>\n",
       "    <th>0.539760</th>\n",
       "    <th>0.898153</th>\n",
       "    <th>00:17</th>\n",
       "  </tr>\n",
       "  <tr>\n",
       "    <th>4</th>\n",
       "    <th>0.428152</th>\n",
       "    <th>0.532781</th>\n",
       "    <th>0.899107</th>\n",
       "    <th>00:17</th>\n",
       "  </tr>\n",
       "  <tr>\n",
       "    <th>5</th>\n",
       "    <th>0.415881</th>\n",
       "    <th>0.523976</th>\n",
       "    <th>0.898884</th>\n",
       "    <th>00:17</th>\n",
       "  </tr>\n",
       "  <tr>\n",
       "    <th>6</th>\n",
       "    <th>0.398401</th>\n",
       "    <th>0.519365</th>\n",
       "    <th>0.899209</th>\n",
       "    <th>00:17</th>\n",
       "  </tr>\n",
       "  <tr>\n",
       "    <th>7</th>\n",
       "    <th>0.379563</th>\n",
       "    <th>0.514068</th>\n",
       "    <th>0.899777</th>\n",
       "    <th>00:17</th>\n",
       "  </tr>\n",
       "  <tr>\n",
       "    <th>8</th>\n",
       "    <th>0.363009</th>\n",
       "    <th>0.508867</th>\n",
       "    <th>0.900122</th>\n",
       "    <th>00:17</th>\n",
       "  </tr>\n",
       "  <tr>\n",
       "    <th>9</th>\n",
       "    <th>0.356438</th>\n",
       "    <th>0.509238</th>\n",
       "    <th>0.899980</th>\n",
       "    <th>00:17</th>\n",
       "  </tr>\n",
       "</table>\n"
      ],
      "text/plain": [
       "<IPython.core.display.HTML object>"
      ]
     },
     "metadata": {},
     "output_type": "display_data"
    }
   ],
   "source": [
    "learn.fit_one_cycle(10, max_lr=3e-3)"
   ]
  },
  {
   "cell_type": "code",
   "execution_count": 182,
   "metadata": {
    "collapsed": true
   },
   "outputs": [],
   "source": [
    "learn.save(\"awd-lstm-7\")"
   ]
  },
  {
   "cell_type": "code",
   "execution_count": 183,
   "metadata": {},
   "outputs": [
    {
     "data": {
      "text/plain": [
       "LanguageLearner(data=TextLMDataBunch;\n",
       "\n",
       "Train: LabelList (5603 items)\n",
       "x: LMTextList\n",
       "xxbos i saw people struggling shorewards , and heard their screaming and shouting faintly above the seething and roar of the xxmaj martian ’s collapse . xxmaj for a moment i heeded nothing of the heat , forgot the patent need of self - preservation .,xxbos xxmaj apparently they had learned something of my story from me during the days of my lapse . xxmaj very gently , when my mind was assured again , did they break to me what they had learned of the fate of xxmaj leatherhead .,xxbos xxmaj and it ’s the man that keeps on thinking comes through .,xxbos “ xxmaj death is coming !,xxbos xxmaj probably this is due to the relative strength of the earth ’s gravitational energy . ” xxmaj on that last text their leader - writer expanded very comfortingly . xxmaj of course all the students in the crammer ’s biology class , to which my brother went that day , were intensely interested , but there were no signs of any unusual excitement in the streets .\n",
       "y: LMLabelList\n",
       ",,,,\n",
       "Path: .;\n",
       "\n",
       "Valid: LabelList (1401 items)\n",
       "x: LMTextList\n",
       "xxbos xxmaj and the night before last”—he stopped and spoke impressively—“it was just a matter of lights , but it was something up in the air .,xxbos xxmaj he would neither desist from his xxunk on the food nor from his noisy xxunk to himself .,xxbos xxmaj whatever destruction was done , the hand of the xxunk was stayed .,xxbos xxmaj then abruptly she turned and went in , leaving my cousins side by side wishing me good hap . i was a little depressed at first with the contagion of my wife ’s fears , but very soon my thoughts reverted to the xxmaj martians .,xxbos xxmaj wherever there was a possibility of guns being laid for them unseen , a fresh canister of the black vapour was discharged , and where the guns were openly displayed the xxmaj heat - xxmaj ray was brought to bear . xxmaj by midnight the blazing trees along the slopes of xxmaj richmond xxmaj park and the glare of xxmaj kingston xxmaj hill threw their light upon a network of black smoke , blotting out the whole valley of the xxmaj thames and extending as far as the eye could reach .\n",
       "y: LMLabelList\n",
       ",,,,\n",
       "Path: .;\n",
       "\n",
       "Test: None, model=SequentialRNN(\n",
       "  (0): AWD_LSTM(\n",
       "    (encoder): Embedding(6448, 400, padding_idx=1)\n",
       "    (encoder_dp): EmbeddingDropout(\n",
       "      (emb): Embedding(6448, 400, padding_idx=1)\n",
       "    )\n",
       "    (rnns): ModuleList(\n",
       "      (0): WeightDropout(\n",
       "        (module): LSTM(400, 1152, batch_first=True)\n",
       "      )\n",
       "      (1): WeightDropout(\n",
       "        (module): LSTM(1152, 1152, batch_first=True)\n",
       "      )\n",
       "      (2): WeightDropout(\n",
       "        (module): LSTM(1152, 400, batch_first=True)\n",
       "      )\n",
       "    )\n",
       "    (input_dp): RNNDropout()\n",
       "    (hidden_dps): ModuleList(\n",
       "      (0): RNNDropout()\n",
       "      (1): RNNDropout()\n",
       "      (2): RNNDropout()\n",
       "    )\n",
       "  )\n",
       "  (1): LinearDecoder(\n",
       "    (decoder): Linear(in_features=400, out_features=6448, bias=True)\n",
       "    (output_dp): RNNDropout()\n",
       "  )\n",
       "), opt_func=functools.partial(<class 'torch.optim.adam.Adam'>, betas=(0.9, 0.99)), loss_func=FlattenedLoss of CrossEntropyLoss(), metrics=[<function accuracy at 0x7fa44eef9ae8>], true_wd=True, bn_wd=True, wd=0.01, train_bn=True, path=PosixPath('.'), model_dir='models', callback_fns=[functools.partial(<class 'fastai.basic_train.Recorder'>, add_time=True, silent=False)], callbacks=[RNNTrainer\n",
       "learn: LanguageLearner(data=TextLMDataBunch;\n",
       "\n",
       "Train: LabelList (5603 items)\n",
       "x: LMTextList\n",
       "xxbos i saw people struggling shorewards , and heard their screaming and shouting faintly above the seething and roar of the xxmaj martian ’s collapse . xxmaj for a moment i heeded nothing of the heat , forgot the patent need of self - preservation .,xxbos xxmaj apparently they had learned something of my story from me during the days of my lapse . xxmaj very gently , when my mind was assured again , did they break to me what they had learned of the fate of xxmaj leatherhead .,xxbos xxmaj and it ’s the man that keeps on thinking comes through .,xxbos “ xxmaj death is coming !,xxbos xxmaj probably this is due to the relative strength of the earth ’s gravitational energy . ” xxmaj on that last text their leader - writer expanded very comfortingly . xxmaj of course all the students in the crammer ’s biology class , to which my brother went that day , were intensely interested , but there were no signs of any unusual excitement in the streets .\n",
       "y: LMLabelList\n",
       ",,,,\n",
       "Path: .;\n",
       "\n",
       "Valid: LabelList (1401 items)\n",
       "x: LMTextList\n",
       "xxbos xxmaj and the night before last”—he stopped and spoke impressively—“it was just a matter of lights , but it was something up in the air .,xxbos xxmaj he would neither desist from his xxunk on the food nor from his noisy xxunk to himself .,xxbos xxmaj whatever destruction was done , the hand of the xxunk was stayed .,xxbos xxmaj then abruptly she turned and went in , leaving my cousins side by side wishing me good hap . i was a little depressed at first with the contagion of my wife ’s fears , but very soon my thoughts reverted to the xxmaj martians .,xxbos xxmaj wherever there was a possibility of guns being laid for them unseen , a fresh canister of the black vapour was discharged , and where the guns were openly displayed the xxmaj heat - xxmaj ray was brought to bear . xxmaj by midnight the blazing trees along the slopes of xxmaj richmond xxmaj park and the glare of xxmaj kingston xxmaj hill threw their light upon a network of black smoke , blotting out the whole valley of the xxmaj thames and extending as far as the eye could reach .\n",
       "y: LMLabelList\n",
       ",,,,\n",
       "Path: .;\n",
       "\n",
       "Test: None, model=SequentialRNN(\n",
       "  (0): AWD_LSTM(\n",
       "    (encoder): Embedding(6448, 400, padding_idx=1)\n",
       "    (encoder_dp): EmbeddingDropout(\n",
       "      (emb): Embedding(6448, 400, padding_idx=1)\n",
       "    )\n",
       "    (rnns): ModuleList(\n",
       "      (0): WeightDropout(\n",
       "        (module): LSTM(400, 1152, batch_first=True)\n",
       "      )\n",
       "      (1): WeightDropout(\n",
       "        (module): LSTM(1152, 1152, batch_first=True)\n",
       "      )\n",
       "      (2): WeightDropout(\n",
       "        (module): LSTM(1152, 400, batch_first=True)\n",
       "      )\n",
       "    )\n",
       "    (input_dp): RNNDropout()\n",
       "    (hidden_dps): ModuleList(\n",
       "      (0): RNNDropout()\n",
       "      (1): RNNDropout()\n",
       "      (2): RNNDropout()\n",
       "    )\n",
       "  )\n",
       "  (1): LinearDecoder(\n",
       "    (decoder): Linear(in_features=400, out_features=6448, bias=True)\n",
       "    (output_dp): RNNDropout()\n",
       "  )\n",
       "), opt_func=functools.partial(<class 'torch.optim.adam.Adam'>, betas=(0.9, 0.99)), loss_func=FlattenedLoss of CrossEntropyLoss(), metrics=[<function accuracy at 0x7fa44eef9ae8>], true_wd=True, bn_wd=True, wd=0.01, train_bn=True, path=PosixPath('.'), model_dir='models', callback_fns=[functools.partial(<class 'fastai.basic_train.Recorder'>, add_time=True, silent=False)], callbacks=[...], layer_groups=[Sequential(\n",
       "  (0): WeightDropout(\n",
       "    (module): LSTM(400, 1152, batch_first=True)\n",
       "  )\n",
       "  (1): RNNDropout()\n",
       "), Sequential(\n",
       "  (0): WeightDropout(\n",
       "    (module): LSTM(1152, 1152, batch_first=True)\n",
       "  )\n",
       "  (1): RNNDropout()\n",
       "), Sequential(\n",
       "  (0): WeightDropout(\n",
       "    (module): LSTM(1152, 400, batch_first=True)\n",
       "  )\n",
       "  (1): RNNDropout()\n",
       "), Sequential(\n",
       "  (0): Embedding(6448, 400, padding_idx=1)\n",
       "  (1): EmbeddingDropout(\n",
       "    (emb): Embedding(6448, 400, padding_idx=1)\n",
       "  )\n",
       "  (2): LinearDecoder(\n",
       "    (decoder): Linear(in_features=400, out_features=6448, bias=True)\n",
       "    (output_dp): RNNDropout()\n",
       "  )\n",
       ")], add_time=True, silent=False, cb_fns_registered=True)\n",
       "alpha: 2.0\n",
       "beta: 1.0], layer_groups=[Sequential(\n",
       "  (0): WeightDropout(\n",
       "    (module): LSTM(400, 1152, batch_first=True)\n",
       "  )\n",
       "  (1): RNNDropout()\n",
       "), Sequential(\n",
       "  (0): WeightDropout(\n",
       "    (module): LSTM(1152, 1152, batch_first=True)\n",
       "  )\n",
       "  (1): RNNDropout()\n",
       "), Sequential(\n",
       "  (0): WeightDropout(\n",
       "    (module): LSTM(1152, 400, batch_first=True)\n",
       "  )\n",
       "  (1): RNNDropout()\n",
       "), Sequential(\n",
       "  (0): Embedding(6448, 400, padding_idx=1)\n",
       "  (1): EmbeddingDropout(\n",
       "    (emb): Embedding(6448, 400, padding_idx=1)\n",
       "  )\n",
       "  (2): LinearDecoder(\n",
       "    (decoder): Linear(in_features=400, out_features=6448, bias=True)\n",
       "    (output_dp): RNNDropout()\n",
       "  )\n",
       ")], add_time=True, silent=False, cb_fns_registered=True)"
      ]
     },
     "execution_count": 183,
     "metadata": {},
     "output_type": "execute_result"
    }
   ],
   "source": [
    "learn.load(\"awd-lstm-7\")"
   ]
  },
  {
   "cell_type": "code",
   "execution_count": 184,
   "metadata": {},
   "outputs": [
    {
     "data": {
      "text/plain": [
       "'The martian stood in the darkness  staring at the faint flickering that danced over the top of the window , and saw to the right a few red lantern throwing a feeble sum upon the mound of rubble . xxbos Elphinstone . xxbos Aloo!”—and in another minute they were with its companion , half a mile away , stooping over something in the field . xxbos “ Thenks ” ; and all three of them laughed . i felt foolish and angry . xxbos With that realisation my dormant sense of wonder , my sense of the proportion of things , awoke'"
      ]
     },
     "execution_count": 184,
     "metadata": {},
     "output_type": "execute_result"
    }
   ],
   "source": [
    "learn.predict(test_snippet, n_words=100)"
   ]
  },
  {
   "cell_type": "code",
   "execution_count": 185,
   "metadata": {},
   "outputs": [
    {
     "data": {
      "text/html": [
       "Total time: 02:53 <p><table style='width:375px; margin-bottom:10px'>\n",
       "  <tr>\n",
       "    <th>epoch</th>\n",
       "    <th>train_loss</th>\n",
       "    <th>valid_loss</th>\n",
       "    <th>accuracy</th>\n",
       "    <th>time</th>\n",
       "  </tr>\n",
       "  <tr>\n",
       "    <th>0</th>\n",
       "    <th>0.349048</th>\n",
       "    <th>0.509179</th>\n",
       "    <th>0.899797</th>\n",
       "    <th>00:17</th>\n",
       "  </tr>\n",
       "  <tr>\n",
       "    <th>1</th>\n",
       "    <th>0.351755</th>\n",
       "    <th>0.518945</th>\n",
       "    <th>0.899330</th>\n",
       "    <th>00:17</th>\n",
       "  </tr>\n",
       "  <tr>\n",
       "    <th>2</th>\n",
       "    <th>0.366603</th>\n",
       "    <th>0.532414</th>\n",
       "    <th>0.898113</th>\n",
       "    <th>00:17</th>\n",
       "  </tr>\n",
       "  <tr>\n",
       "    <th>3</th>\n",
       "    <th>0.391929</th>\n",
       "    <th>0.535002</th>\n",
       "    <th>0.899980</th>\n",
       "    <th>00:17</th>\n",
       "  </tr>\n",
       "  <tr>\n",
       "    <th>4</th>\n",
       "    <th>0.392954</th>\n",
       "    <th>0.529511</th>\n",
       "    <th>0.899209</th>\n",
       "    <th>00:17</th>\n",
       "  </tr>\n",
       "  <tr>\n",
       "    <th>5</th>\n",
       "    <th>0.389355</th>\n",
       "    <th>0.523144</th>\n",
       "    <th>0.899452</th>\n",
       "    <th>00:17</th>\n",
       "  </tr>\n",
       "  <tr>\n",
       "    <th>6</th>\n",
       "    <th>0.380804</th>\n",
       "    <th>0.519512</th>\n",
       "    <th>0.899635</th>\n",
       "    <th>00:17</th>\n",
       "  </tr>\n",
       "  <tr>\n",
       "    <th>7</th>\n",
       "    <th>0.357244</th>\n",
       "    <th>0.512779</th>\n",
       "    <th>0.899939</th>\n",
       "    <th>00:17</th>\n",
       "  </tr>\n",
       "  <tr>\n",
       "    <th>8</th>\n",
       "    <th>0.344373</th>\n",
       "    <th>0.512757</th>\n",
       "    <th>0.900101</th>\n",
       "    <th>00:17</th>\n",
       "  </tr>\n",
       "  <tr>\n",
       "    <th>9</th>\n",
       "    <th>0.338862</th>\n",
       "    <th>0.512483</th>\n",
       "    <th>0.899736</th>\n",
       "    <th>00:17</th>\n",
       "  </tr>\n",
       "</table>\n"
      ],
      "text/plain": [
       "<IPython.core.display.HTML object>"
      ]
     },
     "metadata": {},
     "output_type": "display_data"
    }
   ],
   "source": [
    "learn.fit_one_cycle(10, max_lr=3e-3)"
   ]
  },
  {
   "cell_type": "code",
   "execution_count": 191,
   "metadata": {},
   "outputs": [
    {
     "data": {
      "text/plain": [
       "'The martian stood in the darkness  staring at the sunlit devastation that flowed past the windows . xxbos i found myself alone , and saw the people on the other side of the pit running off , Stent among them . xxbos They ’ve walked over us . xxbos There in the darkness a man blundered into me and sent me reeling back . He gave a cry of terror , sprang sideways , and rushed on before i could gather my wits sufficiently to speak to him . xxbos They have told me since that i was singing some insane'"
      ]
     },
     "execution_count": 191,
     "metadata": {},
     "output_type": "execute_result"
    }
   ],
   "source": [
    "learn.predict(test_snippet, n_words=100)"
   ]
  },
  {
   "cell_type": "code",
   "execution_count": 189,
   "metadata": {
    "collapsed": true
   },
   "outputs": [],
   "source": [
    "learn.save(\"awd-lstm-8\")"
   ]
  },
  {
   "cell_type": "code",
   "execution_count": 192,
   "metadata": {},
   "outputs": [
    {
     "data": {
      "text/plain": [
       "LanguageLearner(data=TextLMDataBunch;\n",
       "\n",
       "Train: LabelList (5603 items)\n",
       "x: LMTextList\n",
       "xxbos i saw people struggling shorewards , and heard their screaming and shouting faintly above the seething and roar of the xxmaj martian ’s collapse . xxmaj for a moment i heeded nothing of the heat , forgot the patent need of self - preservation .,xxbos xxmaj apparently they had learned something of my story from me during the days of my lapse . xxmaj very gently , when my mind was assured again , did they break to me what they had learned of the fate of xxmaj leatherhead .,xxbos xxmaj and it ’s the man that keeps on thinking comes through .,xxbos “ xxmaj death is coming !,xxbos xxmaj probably this is due to the relative strength of the earth ’s gravitational energy . ” xxmaj on that last text their leader - writer expanded very comfortingly . xxmaj of course all the students in the crammer ’s biology class , to which my brother went that day , were intensely interested , but there were no signs of any unusual excitement in the streets .\n",
       "y: LMLabelList\n",
       ",,,,\n",
       "Path: .;\n",
       "\n",
       "Valid: LabelList (1401 items)\n",
       "x: LMTextList\n",
       "xxbos xxmaj and the night before last”—he stopped and spoke impressively—“it was just a matter of lights , but it was something up in the air .,xxbos xxmaj he would neither desist from his xxunk on the food nor from his noisy xxunk to himself .,xxbos xxmaj whatever destruction was done , the hand of the xxunk was stayed .,xxbos xxmaj then abruptly she turned and went in , leaving my cousins side by side wishing me good hap . i was a little depressed at first with the contagion of my wife ’s fears , but very soon my thoughts reverted to the xxmaj martians .,xxbos xxmaj wherever there was a possibility of guns being laid for them unseen , a fresh canister of the black vapour was discharged , and where the guns were openly displayed the xxmaj heat - xxmaj ray was brought to bear . xxmaj by midnight the blazing trees along the slopes of xxmaj richmond xxmaj park and the glare of xxmaj kingston xxmaj hill threw their light upon a network of black smoke , blotting out the whole valley of the xxmaj thames and extending as far as the eye could reach .\n",
       "y: LMLabelList\n",
       ",,,,\n",
       "Path: .;\n",
       "\n",
       "Test: None, model=SequentialRNN(\n",
       "  (0): AWD_LSTM(\n",
       "    (encoder): Embedding(6448, 400, padding_idx=1)\n",
       "    (encoder_dp): EmbeddingDropout(\n",
       "      (emb): Embedding(6448, 400, padding_idx=1)\n",
       "    )\n",
       "    (rnns): ModuleList(\n",
       "      (0): WeightDropout(\n",
       "        (module): LSTM(400, 1152, batch_first=True)\n",
       "      )\n",
       "      (1): WeightDropout(\n",
       "        (module): LSTM(1152, 1152, batch_first=True)\n",
       "      )\n",
       "      (2): WeightDropout(\n",
       "        (module): LSTM(1152, 400, batch_first=True)\n",
       "      )\n",
       "    )\n",
       "    (input_dp): RNNDropout()\n",
       "    (hidden_dps): ModuleList(\n",
       "      (0): RNNDropout()\n",
       "      (1): RNNDropout()\n",
       "      (2): RNNDropout()\n",
       "    )\n",
       "  )\n",
       "  (1): LinearDecoder(\n",
       "    (decoder): Linear(in_features=400, out_features=6448, bias=True)\n",
       "    (output_dp): RNNDropout()\n",
       "  )\n",
       "), opt_func=functools.partial(<class 'torch.optim.adam.Adam'>, betas=(0.9, 0.99)), loss_func=FlattenedLoss of CrossEntropyLoss(), metrics=[<function accuracy at 0x7fa44eef9ae8>], true_wd=True, bn_wd=True, wd=0.01, train_bn=True, path=PosixPath('.'), model_dir='models', callback_fns=[functools.partial(<class 'fastai.basic_train.Recorder'>, add_time=True, silent=False)], callbacks=[RNNTrainer\n",
       "learn: LanguageLearner(data=TextLMDataBunch;\n",
       "\n",
       "Train: LabelList (5603 items)\n",
       "x: LMTextList\n",
       "xxbos i saw people struggling shorewards , and heard their screaming and shouting faintly above the seething and roar of the xxmaj martian ’s collapse . xxmaj for a moment i heeded nothing of the heat , forgot the patent need of self - preservation .,xxbos xxmaj apparently they had learned something of my story from me during the days of my lapse . xxmaj very gently , when my mind was assured again , did they break to me what they had learned of the fate of xxmaj leatherhead .,xxbos xxmaj and it ’s the man that keeps on thinking comes through .,xxbos “ xxmaj death is coming !,xxbos xxmaj probably this is due to the relative strength of the earth ’s gravitational energy . ” xxmaj on that last text their leader - writer expanded very comfortingly . xxmaj of course all the students in the crammer ’s biology class , to which my brother went that day , were intensely interested , but there were no signs of any unusual excitement in the streets .\n",
       "y: LMLabelList\n",
       ",,,,\n",
       "Path: .;\n",
       "\n",
       "Valid: LabelList (1401 items)\n",
       "x: LMTextList\n",
       "xxbos xxmaj and the night before last”—he stopped and spoke impressively—“it was just a matter of lights , but it was something up in the air .,xxbos xxmaj he would neither desist from his xxunk on the food nor from his noisy xxunk to himself .,xxbos xxmaj whatever destruction was done , the hand of the xxunk was stayed .,xxbos xxmaj then abruptly she turned and went in , leaving my cousins side by side wishing me good hap . i was a little depressed at first with the contagion of my wife ’s fears , but very soon my thoughts reverted to the xxmaj martians .,xxbos xxmaj wherever there was a possibility of guns being laid for them unseen , a fresh canister of the black vapour was discharged , and where the guns were openly displayed the xxmaj heat - xxmaj ray was brought to bear . xxmaj by midnight the blazing trees along the slopes of xxmaj richmond xxmaj park and the glare of xxmaj kingston xxmaj hill threw their light upon a network of black smoke , blotting out the whole valley of the xxmaj thames and extending as far as the eye could reach .\n",
       "y: LMLabelList\n",
       ",,,,\n",
       "Path: .;\n",
       "\n",
       "Test: None, model=SequentialRNN(\n",
       "  (0): AWD_LSTM(\n",
       "    (encoder): Embedding(6448, 400, padding_idx=1)\n",
       "    (encoder_dp): EmbeddingDropout(\n",
       "      (emb): Embedding(6448, 400, padding_idx=1)\n",
       "    )\n",
       "    (rnns): ModuleList(\n",
       "      (0): WeightDropout(\n",
       "        (module): LSTM(400, 1152, batch_first=True)\n",
       "      )\n",
       "      (1): WeightDropout(\n",
       "        (module): LSTM(1152, 1152, batch_first=True)\n",
       "      )\n",
       "      (2): WeightDropout(\n",
       "        (module): LSTM(1152, 400, batch_first=True)\n",
       "      )\n",
       "    )\n",
       "    (input_dp): RNNDropout()\n",
       "    (hidden_dps): ModuleList(\n",
       "      (0): RNNDropout()\n",
       "      (1): RNNDropout()\n",
       "      (2): RNNDropout()\n",
       "    )\n",
       "  )\n",
       "  (1): LinearDecoder(\n",
       "    (decoder): Linear(in_features=400, out_features=6448, bias=True)\n",
       "    (output_dp): RNNDropout()\n",
       "  )\n",
       "), opt_func=functools.partial(<class 'torch.optim.adam.Adam'>, betas=(0.9, 0.99)), loss_func=FlattenedLoss of CrossEntropyLoss(), metrics=[<function accuracy at 0x7fa44eef9ae8>], true_wd=True, bn_wd=True, wd=0.01, train_bn=True, path=PosixPath('.'), model_dir='models', callback_fns=[functools.partial(<class 'fastai.basic_train.Recorder'>, add_time=True, silent=False)], callbacks=[...], layer_groups=[Sequential(\n",
       "  (0): WeightDropout(\n",
       "    (module): LSTM(400, 1152, batch_first=True)\n",
       "  )\n",
       "  (1): RNNDropout()\n",
       "), Sequential(\n",
       "  (0): WeightDropout(\n",
       "    (module): LSTM(1152, 1152, batch_first=True)\n",
       "  )\n",
       "  (1): RNNDropout()\n",
       "), Sequential(\n",
       "  (0): WeightDropout(\n",
       "    (module): LSTM(1152, 400, batch_first=True)\n",
       "  )\n",
       "  (1): RNNDropout()\n",
       "), Sequential(\n",
       "  (0): Embedding(6448, 400, padding_idx=1)\n",
       "  (1): EmbeddingDropout(\n",
       "    (emb): Embedding(6448, 400, padding_idx=1)\n",
       "  )\n",
       "  (2): LinearDecoder(\n",
       "    (decoder): Linear(in_features=400, out_features=6448, bias=True)\n",
       "    (output_dp): RNNDropout()\n",
       "  )\n",
       ")], add_time=True, silent=False, cb_fns_registered=True)\n",
       "alpha: 2.0\n",
       "beta: 1.0], layer_groups=[Sequential(\n",
       "  (0): WeightDropout(\n",
       "    (module): LSTM(400, 1152, batch_first=True)\n",
       "  )\n",
       "  (1): RNNDropout()\n",
       "), Sequential(\n",
       "  (0): WeightDropout(\n",
       "    (module): LSTM(1152, 1152, batch_first=True)\n",
       "  )\n",
       "  (1): RNNDropout()\n",
       "), Sequential(\n",
       "  (0): WeightDropout(\n",
       "    (module): LSTM(1152, 400, batch_first=True)\n",
       "  )\n",
       "  (1): RNNDropout()\n",
       "), Sequential(\n",
       "  (0): Embedding(6448, 400, padding_idx=1)\n",
       "  (1): EmbeddingDropout(\n",
       "    (emb): Embedding(6448, 400, padding_idx=1)\n",
       "  )\n",
       "  (2): LinearDecoder(\n",
       "    (decoder): Linear(in_features=400, out_features=6448, bias=True)\n",
       "    (output_dp): RNNDropout()\n",
       "  )\n",
       ")], add_time=True, silent=False, cb_fns_registered=True)"
      ]
     },
     "execution_count": 192,
     "metadata": {},
     "output_type": "execute_result"
    }
   ],
   "source": [
    "learn.load(\"awd-lstm-7\")"
   ]
  },
  {
   "cell_type": "code",
   "execution_count": 193,
   "metadata": {},
   "outputs": [
    {
     "data": {
      "text/plain": [
       "'The martian stood in the darkness  curiosity , strangely enough . xxbos The bottle struck the floor and broke , and i desisted and rose . xxbos But the poison was scarcely working yet . xxbos With that realisation my interest shifted to those other creatures , the real Martians . xxbos The lightning flashed for a third time , and his face leaped upon me . xxbos The soldiers i addressed did n’t know anything ; they were mysterious as well as busy . xxbos At the place mound an swayed and struck sent the scattered group of people to the gate . xxbos unmistakably that they did not bury any of their dead , and the reckless slaughter they perpetrated , point also to an entire ignorance of the putrefactive process . xxbos Before i went to bed i had an interval of restlessness , and prowled from window to window , peering out for some sign of these monsters . xxbos At first i scarcely noticed the pit and the cylinder , although it has been convenient to describe them first , on account of the extraordinary glittering mechanism i saw busy in the excavation , and on account of the strange creatures that were crawling slowly and painfully across the heaped mould near it . The mechanism it certainly was that held my attention first . xxbos Then i shifted my position to a little knoll that gave me the advantage of a yard or more of elevation and when i looked for him presently he was walking towards Woking . The sunset faded to twilight before anything further happened . xxbos In the trenches was a tympanic surface , since known to be anatomically an ear , though it must have been almost useless in our dense air . xxbos i stood over him waiting for the next flash . xxbos There presently a lot of shouting , and one man was even jesting . xxbos Suddenly he vanished , and i could have fancied a faint shriek had reached me . xxbos Elphinstone — that was the name of the woman in white — would listen to no reasoning , and kept calling upon “ George ” ; but her sister - in - law was astonishingly quiet and deliberate , and at last agreed to my brother ’s suggestion . xxbos The news that the Martians were now in possession of the whole of London was confirmed . xxbos Now and then came a gap in the lightning , and the night swallowed them up . i was soaked with hail above and puddle water below . xxbos The strangest spectacle , that black expanse set with fire . xxbos There was little i did n’t know . xxbos And but this was a lieutenant and a couple expectation . xxbos There was no flash , no smoke , simply that loaded detonation . i was so excited by these heavy minute - guns following one another that i so far forgot my personal safety and my scalded hands as to clamber up into the hedge and stare towards Sunbury . xxbos We saw one shrivelled old fellow with a huge box and a score or more of flower pots containing orchids , angrily expostulating with the corporal who would leave them behind . xxbos Being hurried across the exposed bridge , of course , i saw and spared me . xxbos He was dirty and white in the face . My brother turned down towards Victoria , and met a number of such people . xxbos Slowly a humped shape rose out of the pit , and the ghost of a beam of light seemed to flicker out from it . Forthwith flashes of actual flame , a bright glare leaping from one to another , sprang from the scattered group of men . xxbos Then i heard quite distinctly a booming exactly like the sound of great guns . xxbos i lit no lamps , fearing some Martian might come beating that part of London for food in the night . xxbos At the sight of eating we went to twilight and stood listening , but towards the window i was shunting on the bushes , and the trampled bushes and broken rose trees outside the window grew distinct . xxbos The Last Man Left Alive ! ” Troubled as they were with their own affairs , these people , whose name , much as i would like to express my gratitude to them , i may not even give here , nevertheless cumbered themselves with me , sheltered me , and protected me from myself . xxbos At last , as the bridge at Walton was coming into sight round the bend , my fever and faintness overcame my fears , and i landed on the Middlesex bank and lay down , deadly sick , amid the long grass . xxbos John ’s Wood and Hampstead , and eastward in Shoreditch and Highbury and Haggerston and Hoxton , and , indeed , through all the vastness of London from Ealing to East Ham — people were rubbing their eyes , and opening windows to stare out and ask aimless questions , dressing hastily as the first breath of the coming storm of Fear blew through the streets . xxbos “ Boilers on stilts , i tell you , striding along like men . ” Most of them were excited and animated by their strange experience . Beyond Victoria the public - houses were doing a lively trade with these arrivals . xxbos “'"
      ]
     },
     "execution_count": 193,
     "metadata": {},
     "output_type": "execute_result"
    }
   ],
   "source": [
    "learn.predict(test_snippet, n_words=1000)"
   ]
  }
 ],
 "metadata": {
  "kernelspec": {
   "display_name": "Python 3",
   "language": "python",
   "name": "python3"
  },
  "language_info": {
   "codemirror_mode": {
    "name": "ipython",
    "version": 3
   },
   "file_extension": ".py",
   "mimetype": "text/x-python",
   "name": "python",
   "nbconvert_exporter": "python",
   "pygments_lexer": "ipython3",
   "version": "3.6.8"
  }
 },
 "nbformat": 4,
 "nbformat_minor": 2
}
