{
 "cells": [
  {
   "cell_type": "code",
   "execution_count": 1,
   "metadata": {
    "collapsed": true
   },
   "outputs": [],
   "source": [
    "%matplotlib inline"
   ]
  },
  {
   "cell_type": "code",
   "execution_count": 2,
   "metadata": {
    "collapsed": true
   },
   "outputs": [],
   "source": [
    "import requests\n",
    "import re\n",
    "from fastai.text import *\n",
    "import torch"
   ]
  },
  {
   "cell_type": "code",
   "execution_count": 3,
   "metadata": {
    "collapsed": true
   },
   "outputs": [],
   "source": [
    "book = requests.get('https://www.gutenberg.org/files/36/36-0.txt').text"
   ]
  },
  {
   "cell_type": "code",
   "execution_count": 4,
   "metadata": {
    "collapsed": true
   },
   "outputs": [],
   "source": [
    "start_iter = re.finditer('BOOK ONE', book)"
   ]
  },
  {
   "cell_type": "code",
   "execution_count": 5,
   "metadata": {},
   "outputs": [
    {
     "data": {
      "text/plain": [
       "<_sre.SRE_Match object; span=(1067, 1075), match='BOOK ONE'>"
      ]
     },
     "execution_count": 5,
     "metadata": {},
     "output_type": "execute_result"
    }
   ],
   "source": [
    "next(start_iter)"
   ]
  },
  {
   "cell_type": "markdown",
   "metadata": {},
   "source": [
    "Commenting out some print lines here to shrink the notebook -- I did some exploration to figure out where the actual story began and ended (excluding table of contents, acknowledgements, etc.)"
   ]
  },
  {
   "cell_type": "code",
   "execution_count": 6,
   "metadata": {
    "collapsed": true
   },
   "outputs": [],
   "source": [
    "# book[1067:]"
   ]
  },
  {
   "cell_type": "code",
   "execution_count": 7,
   "metadata": {},
   "outputs": [
    {
     "data": {
      "text/plain": [
       "<_sre.SRE_Match object; span=(1920, 1928), match='BOOK ONE'>"
      ]
     },
     "execution_count": 7,
     "metadata": {},
     "output_type": "execute_result"
    }
   ],
   "source": [
    "next(start_iter)"
   ]
  },
  {
   "cell_type": "code",
   "execution_count": 8,
   "metadata": {
    "collapsed": true
   },
   "outputs": [],
   "source": [
    "# book[1920:]"
   ]
  },
  {
   "cell_type": "code",
   "execution_count": 9,
   "metadata": {
    "collapsed": true
   },
   "outputs": [],
   "source": [
    "book = book[1920:]"
   ]
  },
  {
   "cell_type": "code",
   "execution_count": 10,
   "metadata": {
    "collapsed": true
   },
   "outputs": [],
   "source": [
    "end_iter = re.finditer(\"among the dead.\", book)"
   ]
  },
  {
   "cell_type": "code",
   "execution_count": 11,
   "metadata": {},
   "outputs": [
    {
     "data": {
      "text/plain": [
       "<_sre.SRE_Match object; span=(64109, 64124), match='among the dead '>"
      ]
     },
     "execution_count": 11,
     "metadata": {},
     "output_type": "execute_result"
    }
   ],
   "source": [
    "next(end_iter)"
   ]
  },
  {
   "cell_type": "code",
   "execution_count": 12,
   "metadata": {
    "collapsed": true
   },
   "outputs": [],
   "source": [
    "# book[:64125]"
   ]
  },
  {
   "cell_type": "code",
   "execution_count": 13,
   "metadata": {},
   "outputs": [
    {
     "data": {
      "text/plain": [
       "<_sre.SRE_Match object; span=(345594, 345609), match='among the dead.'>"
      ]
     },
     "execution_count": 13,
     "metadata": {},
     "output_type": "execute_result"
    }
   ],
   "source": [
    "next(end_iter)"
   ]
  },
  {
   "cell_type": "code",
   "execution_count": 14,
   "metadata": {
    "collapsed": true
   },
   "outputs": [],
   "source": [
    "# book[:345609]"
   ]
  },
  {
   "cell_type": "code",
   "execution_count": 15,
   "metadata": {
    "collapsed": true
   },
   "outputs": [],
   "source": [
    "book = book[:345609]"
   ]
  },
  {
   "cell_type": "code",
   "execution_count": 16,
   "metadata": {
    "collapsed": true
   },
   "outputs": [],
   "source": [
    "book = re.sub(r'[\\r\\n]+', ' ', str(book))"
   ]
  },
  {
   "cell_type": "code",
   "execution_count": 17,
   "metadata": {
    "collapsed": true
   },
   "outputs": [],
   "source": [
    "# book"
   ]
  },
  {
   "cell_type": "code",
   "execution_count": 18,
   "metadata": {
    "collapsed": true
   },
   "outputs": [],
   "source": [
    "tokens = [i.replace(',', '') for i in book.split('.')]"
   ]
  },
  {
   "cell_type": "code",
   "execution_count": 19,
   "metadata": {
    "collapsed": true
   },
   "outputs": [],
   "source": [
    "# tokens"
   ]
  },
  {
   "cell_type": "code",
   "execution_count": 20,
   "metadata": {},
   "outputs": [
    {
     "data": {
      "text/plain": [
       "['BOOK ONE THE COMING OF THE MARTIANS I',\n",
       " ' THE EVE OF THE WAR',\n",
       " ' No one would have believed in the last years of the nineteenth century that this world was being watched keenly and closely by intelligences greater than manâ\\x80\\x99s and yet as mortal as his own; that as men busied themselves about their various concerns they were scrutinised and studied perhaps almost as narrowly as a man with a microscope might scrutinise the transient creatures that swarm and multiply in a drop of water',\n",
       " ' With infinite complacency men went to and fro over this globe about their little affairs serene in their assurance of their empire over matter',\n",
       " ' It is possible that the infusoria under the microscope do the same',\n",
       " ' No one gave a thought to the older worlds of space as sources of human danger or thought of them only to dismiss the idea of life upon them as impossible or improbable',\n",
       " ' It is curious to recall some of the mental habits of those departed days',\n",
       " ' At most terrestrial men fancied there might be other men upon Mars perhaps inferior to themselves and ready to welcome a missionary enterprise',\n",
       " ' Yet across the gulf of space minds that are to our minds as ours are to those of the beasts that perish intellects vast and cool and unsympathetic regarded this earth with envious eyes and slowly and surely drew their plans against us',\n",
       " ' And early in the twentieth century came the great disillusionment']"
      ]
     },
     "execution_count": 20,
     "metadata": {},
     "output_type": "execute_result"
    }
   ],
   "source": [
    "tokens[:10]"
   ]
  },
  {
   "cell_type": "code",
   "execution_count": 21,
   "metadata": {
    "collapsed": true
   },
   "outputs": [],
   "source": [
    "! rm book_text.csv"
   ]
  },
  {
   "cell_type": "code",
   "execution_count": 22,
   "metadata": {
    "collapsed": true
   },
   "outputs": [],
   "source": [
    "with open('book_text.csv', 'a+') as file:\n",
    "    for sentence in tokens:\n",
    "        file.write(sentence + '\\n')"
   ]
  },
  {
   "cell_type": "code",
   "execution_count": 23,
   "metadata": {},
   "outputs": [
    {
     "name": "stdout",
     "output_type": "stream",
     "text": [
      "BOOK ONE THE COMING OF THE MARTIANS I\n",
      "\n",
      " THE EVE OF THE WAR\n",
      "\n",
      " No one would have believed in the last years of the nineteenth century that this world was being watched keenly and closely by intelligences greater than manâs and yet as mortal as his own; that as men busied themselves about their various concerns they were scrutinised and studied perhaps almost as narrowly as a man with a microscope might scrutinise the transient creatures that swarm and multiply in a drop of water\n",
      "\n"
     ]
    }
   ],
   "source": [
    "with open('book_text.csv') as file:\n",
    "    lines = file.readlines()[:5]\n",
    "print(lines[0])\n",
    "print(lines[1])\n",
    "print(lines[2])"
   ]
  },
  {
   "cell_type": "code",
   "execution_count": 24,
   "metadata": {},
   "outputs": [
    {
     "data": {
      "text/plain": [
       "' And looking across space with instruments and intelligences such as we have scarcely dreamed of they see at its nearest distance only 35000000 of miles sunward of them a morning star of hope our own warmer planet green with vegetation and grey with water with a cloudy atmosphere eloquent of fertility with glimpses through its drifting cloud wisps of broad stretches of populous country and narrow navy-crowded seas'"
      ]
     },
     "execution_count": 24,
     "metadata": {},
     "output_type": "execute_result"
    }
   ],
   "source": [
    "pd.read_csv('book_text.csv').iloc[20][0]"
   ]
  },
  {
   "cell_type": "code",
   "execution_count": 25,
   "metadata": {},
   "outputs": [],
   "source": [
    "data = TextLMDataBunch.from_csv('.', 'book_text.csv', text_cols=0)"
   ]
  },
  {
   "cell_type": "code",
   "execution_count": 26,
   "metadata": {},
   "outputs": [
    {
     "data": {
      "text/plain": [
       "TextLMDataBunch;\n",
       "\n",
       "Train: LabelList (2434 items)\n",
       "x: LMTextList\n",
       "xxbos xxmaj northward were xxmaj kilburn and xxmaj xxunk blue and crowded with houses ; westward the great city was xxunk ; and southward beyond the xxmaj martians the green waves of xxmaj regentâs xxmaj park the xxmaj langham xxmaj xxunk the dome of the xxmaj albert xxmaj hall the xxmaj xxunk xxmaj xxunk and the giant mansions of the xxmaj brompton xxmaj road came out clear and little in the sunrise the xxunk ruins of xxmaj westminster rising xxunk beyond,xxbos xxmaj there were three girls xxmaj east xxmaj end xxunk girls and a couple of little children crowded in the cart,xxbos â xxunk you meant me to xxunk xxunk xxunk didnât xxmaj xxunk âwe wonât quarrel about that,xxbos xxmaj very likely youâve seen the same thing,xxbos xxmaj the early morning was xxunk still and the sun just clearing the pine trees towards xxmaj weybridge was already warm\n",
       "y: LMLabelList\n",
       ",,,,\n",
       "Path: .;\n",
       "\n",
       "Valid: LabelList (609 items)\n",
       "x: LMTextList\n",
       "xxbos xxmaj the morning was bright and xxunk and the xxunk sky glowed pink and was xxunk with little xxunk clouds,xxbos xxmaj the xxunk xxunk i may xxunk here as xxunk has since xxunk was almost xxunk xxunk,xxbos âi shall go xxunk he said,xxbos xxmaj at last after xxunk the artilleryman made a rush for it and got over the railway xxunk,xxbos xxmaj he became suddenly very xxunk and when we had eaten he went away and returned with some xxunk xxunk\n",
       "y: LMLabelList\n",
       ",,,,\n",
       "Path: .;\n",
       "\n",
       "Test: None"
      ]
     },
     "execution_count": 26,
     "metadata": {},
     "output_type": "execute_result"
    }
   ],
   "source": [
    "data"
   ]
  },
  {
   "cell_type": "code",
   "execution_count": 27,
   "metadata": {},
   "outputs": [
    {
     "data": {
      "text/plain": [
       "(Text xxbos xxmaj northward were xxmaj kilburn and xxmaj xxunk blue and crowded with houses ; westward the great city was xxunk ; and southward beyond the xxmaj martians the green waves of xxmaj regentâs xxmaj park the xxmaj langham xxmaj xxunk the dome of the xxmaj albert xxmaj hall the xxmaj xxunk xxmaj xxunk and the giant mansions of the xxmaj brompton xxmaj road came out clear and little in the sunrise the xxunk ruins of xxmaj westminster rising xxunk beyond,\n",
       " EmptyLabel )"
      ]
     },
     "execution_count": 27,
     "metadata": {},
     "output_type": "execute_result"
    }
   ],
   "source": [
    "data.train_ds[0]"
   ]
  },
  {
   "cell_type": "code",
   "execution_count": 28,
   "metadata": {},
   "outputs": [
    {
     "data": {
      "text/plain": [
       "array([   2,    5,   36,   25,  120, 2047,    5,  864,    5,  257,    0, 2047,   10,   12,  328,   11,   74,  687,\n",
       "        609,   15,    9,  300])"
      ]
     },
     "execution_count": 28,
     "metadata": {},
     "output_type": "execute_result"
    }
   ],
   "source": [
    "data.train_ds[1][0].data"
   ]
  },
  {
   "cell_type": "code",
   "execution_count": 29,
   "metadata": {},
   "outputs": [
    {
     "data": {
      "text/plain": [
       "array([  2,   5,   9,   0,   0,  13, 182,   0, 180,  21,   0, 164, 324,   0,  16, 183,   0,   0])"
      ]
     },
     "execution_count": 29,
     "metadata": {},
     "output_type": "execute_result"
    }
   ],
   "source": [
    "data.valid_ds[1][0].data"
   ]
  },
  {
   "cell_type": "code",
   "execution_count": 30,
   "metadata": {},
   "outputs": [
    {
     "data": {
      "text/plain": [
       "torch.Size([64, 70])"
      ]
     },
     "execution_count": 30,
     "metadata": {},
     "output_type": "execute_result"
    }
   ],
   "source": [
    "data.one_batch()[0].shape"
   ]
  },
  {
   "cell_type": "code",
   "execution_count": 31,
   "metadata": {
    "collapsed": true
   },
   "outputs": [],
   "source": [
    "x, y = data.one_batch()"
   ]
  },
  {
   "cell_type": "code",
   "execution_count": 32,
   "metadata": {},
   "outputs": [
    {
     "data": {
      "text/plain": [
       "(torch.Size([64, 70]), torch.Size([64, 70]))"
      ]
     },
     "execution_count": 32,
     "metadata": {},
     "output_type": "execute_result"
    }
   ],
   "source": [
    "x.shape, y.shape"
   ]
  },
  {
   "cell_type": "code",
   "execution_count": 33,
   "metadata": {},
   "outputs": [
    {
     "data": {
      "text/plain": [
       "(tensor([ 282,  185, 1221,    9,  213,  127,   65,    5,  301,   16,  158,  866,\n",
       "            2,    5,   21,    9,  177,  102, 2050,   42,  762,  516,   39, 2051,\n",
       "          177,   10, 1222,   75,   21,   18,  552,    2,    5,   20,   85,  867,\n",
       "           63, 1223,   10,  133,   14, 1525,  204,   22,  302, 2052,   14,    9,\n",
       "          191,   15,  426,   14,  868,  171,   11,    9,  374,  688,    2,    5,\n",
       "          106,   24,   16, 1007,   80,    9,  303,   13,   19, 1224]),\n",
       " tensor([ 185, 1221,    9,  213,  127,   65,    5,  301,   16,  158,  866,    2,\n",
       "            5,   21,    9,  177,  102, 2050,   42,  762,  516,   39, 2051,  177,\n",
       "           10, 1222,   75,   21,   18,  552,    2,    5,   20,   85,  867,   63,\n",
       "         1223,   10,  133,   14, 1525,  204,   22,  302, 2052,   14,    9,  191,\n",
       "           15,  426,   14,  868,  171,   11,    9,  374,  688,    2,    5,  106,\n",
       "           24,   16, 1007,   80,    9,  303,   13,   19, 1224,   63]))"
      ]
     },
     "execution_count": 33,
     "metadata": {},
     "output_type": "execute_result"
    }
   ],
   "source": [
    "x[0], y[0]"
   ]
  },
  {
   "cell_type": "code",
   "execution_count": 34,
   "metadata": {},
   "outputs": [
    {
     "data": {
      "text/plain": [
       "3104"
      ]
     },
     "execution_count": 34,
     "metadata": {},
     "output_type": "execute_result"
    }
   ],
   "source": [
    "len(data.vocab.itos)"
   ]
  },
  {
   "cell_type": "code",
   "execution_count": 35,
   "metadata": {
    "collapsed": true
   },
   "outputs": [],
   "source": [
    "nv = len(data.vocab.itos)"
   ]
  },
  {
   "cell_type": "code",
   "execution_count": 36,
   "metadata": {
    "collapsed": true
   },
   "outputs": [],
   "source": [
    "nh = 64"
   ]
  },
  {
   "cell_type": "code",
   "execution_count": 37,
   "metadata": {
    "collapsed": true
   },
   "outputs": [],
   "source": [
    "bs = 64"
   ]
  },
  {
   "cell_type": "code",
   "execution_count": 38,
   "metadata": {},
   "outputs": [
    {
     "data": {
      "text/plain": [
       "(3104, 64, 64)"
      ]
     },
     "execution_count": 38,
     "metadata": {},
     "output_type": "execute_result"
    }
   ],
   "source": [
    "nv, nh, bs"
   ]
  },
  {
   "cell_type": "code",
   "execution_count": 39,
   "metadata": {
    "collapsed": true
   },
   "outputs": [],
   "source": [
    "class BasicLanguageModel(nn.Module):\n",
    "     \n",
    "    def __init__(self):\n",
    "        super().__init__()\n",
    "        self.i_h = nn.Embedding(nv, nh) \n",
    "        self.h_h = nn.Linear(nh, nh)\n",
    "        self.h_o = nn.Linear(nh, nv)\n",
    "        self.bn = nn.BatchNorm1d(nh)\n",
    "        self.reset()\n",
    "        \n",
    "    def forward(self, x):\n",
    "        res = []\n",
    "        h = self.h\n",
    "        for i in range(x.shape[1]):\n",
    "            h = h + self.i_h(x[:,i]) \n",
    "            h = F.relu(self.h_h(h))\n",
    "            res.append(self.bn(h))\n",
    "        self.h = h.detach()\n",
    "        res_stacked = torch.stack(res, dim=1)\n",
    "        return (self.h_o(res_stacked), res, res)\n",
    "    \n",
    "    def reset(self):\n",
    "        self.h = torch.zeros(nh, nh).cuda()"
   ]
  },
  {
   "cell_type": "code",
   "execution_count": 40,
   "metadata": {
    "collapsed": true
   },
   "outputs": [],
   "source": [
    "mdl = BasicLanguageModel()"
   ]
  },
  {
   "cell_type": "code",
   "execution_count": 41,
   "metadata": {},
   "outputs": [
    {
     "data": {
      "text/plain": [
       "BasicLanguageModel(\n",
       "  (i_h): Embedding(3104, 64)\n",
       "  (h_h): Linear(in_features=64, out_features=64, bias=True)\n",
       "  (h_o): Linear(in_features=64, out_features=3104, bias=True)\n",
       "  (bn): BatchNorm1d(64, eps=1e-05, momentum=0.1, affine=True, track_running_stats=True)\n",
       ")"
      ]
     },
     "execution_count": 41,
     "metadata": {},
     "output_type": "execute_result"
    }
   ],
   "source": [
    "mdl"
   ]
  },
  {
   "cell_type": "code",
   "execution_count": 42,
   "metadata": {
    "collapsed": true
   },
   "outputs": [],
   "source": [
    "learn = LanguageLearner(data, model=mdl, metrics=accuracy)"
   ]
  },
  {
   "cell_type": "code",
   "execution_count": 43,
   "metadata": {},
   "outputs": [
    {
     "data": {
      "text/html": [
       "Total time: 00:09 <p><table style='width:375px; margin-bottom:10px'>\n",
       "  <tr>\n",
       "    <th>epoch</th>\n",
       "    <th>train_loss</th>\n",
       "    <th>valid_loss</th>\n",
       "    <th>accuracy</th>\n",
       "    <th>time</th>\n",
       "  </tr>\n",
       "  <tr>\n",
       "    <th>0</th>\n",
       "    <th>6.578137</th>\n",
       "    <th>5.209803</th>\n",
       "    <th>0.148158</th>\n",
       "    <th>00:00</th>\n",
       "  </tr>\n",
       "  <tr>\n",
       "    <th>1</th>\n",
       "    <th>5.860476</th>\n",
       "    <th>4.970843</th>\n",
       "    <th>0.183147</th>\n",
       "    <th>00:00</th>\n",
       "  </tr>\n",
       "  <tr>\n",
       "    <th>2</th>\n",
       "    <th>5.499151</th>\n",
       "    <th>4.827905</th>\n",
       "    <th>0.195424</th>\n",
       "    <th>00:00</th>\n",
       "  </tr>\n",
       "  <tr>\n",
       "    <th>3</th>\n",
       "    <th>5.247980</th>\n",
       "    <th>4.718881</th>\n",
       "    <th>0.206306</th>\n",
       "    <th>00:00</th>\n",
       "  </tr>\n",
       "  <tr>\n",
       "    <th>4</th>\n",
       "    <th>5.052089</th>\n",
       "    <th>4.656441</th>\n",
       "    <th>0.210045</th>\n",
       "    <th>00:00</th>\n",
       "  </tr>\n",
       "  <tr>\n",
       "    <th>5</th>\n",
       "    <th>4.886156</th>\n",
       "    <th>4.650042</th>\n",
       "    <th>0.210882</th>\n",
       "    <th>00:00</th>\n",
       "  </tr>\n",
       "  <tr>\n",
       "    <th>6</th>\n",
       "    <th>4.738593</th>\n",
       "    <th>4.615984</th>\n",
       "    <th>0.211775</th>\n",
       "    <th>00:00</th>\n",
       "  </tr>\n",
       "  <tr>\n",
       "    <th>7</th>\n",
       "    <th>4.606099</th>\n",
       "    <th>4.637669</th>\n",
       "    <th>0.211775</th>\n",
       "    <th>00:00</th>\n",
       "  </tr>\n",
       "  <tr>\n",
       "    <th>8</th>\n",
       "    <th>4.483258</th>\n",
       "    <th>4.651525</th>\n",
       "    <th>0.213170</th>\n",
       "    <th>00:00</th>\n",
       "  </tr>\n",
       "  <tr>\n",
       "    <th>9</th>\n",
       "    <th>4.368689</th>\n",
       "    <th>4.647550</th>\n",
       "    <th>0.217522</th>\n",
       "    <th>00:00</th>\n",
       "  </tr>\n",
       "</table>\n"
      ],
      "text/plain": [
       "<IPython.core.display.HTML object>"
      ]
     },
     "metadata": {},
     "output_type": "display_data"
    }
   ],
   "source": [
    "learn.fit(10, lr=3e-2)"
   ]
  },
  {
   "cell_type": "code",
   "execution_count": 44,
   "metadata": {},
   "outputs": [
    {
     "data": {
      "text/plain": [
       "BasicLanguageModel\n",
       "======================================================================\n",
       "Layer (type)         Output Shape         Param #    Trainable \n",
       "======================================================================\n",
       "Embedding            [64]                 198,656    True      \n",
       "______________________________________________________________________\n",
       "Linear               [64]                 4,160      True      \n",
       "______________________________________________________________________\n",
       "Linear               [70, 3104]           201,760    True      \n",
       "______________________________________________________________________\n",
       "BatchNorm1d          [64]                 128        True      \n",
       "______________________________________________________________________\n",
       "\n",
       "Total params: 404,704\n",
       "Total trainable params: 404,704\n",
       "Total non-trainable params: 0\n",
       "Optimized with 'torch.optim.adam.Adam', betas=(0.9, 0.99)\n",
       "Using true weight decay as discussed in https://www.fast.ai/2018/07/02/adam-weight-decay/ \n",
       "Loss function : FlattenedLoss\n",
       "======================================================================\n",
       "Callbacks functions applied \n",
       "    RNNTrainer"
      ]
     },
     "execution_count": 44,
     "metadata": {},
     "output_type": "execute_result"
    }
   ],
   "source": [
    "learn.summary()"
   ]
  },
  {
   "cell_type": "code",
   "execution_count": 45,
   "metadata": {},
   "outputs": [
    {
     "data": {
      "text/html": [
       "<table border=\"1\" class=\"dataframe\">\n",
       "  <thead>\n",
       "    <tr style=\"text-align: right;\">\n",
       "      <th>idx</th>\n",
       "      <th>text</th>\n",
       "    </tr>\n",
       "  </thead>\n",
       "  <tbody>\n",
       "    <tr>\n",
       "      <td>0</td>\n",
       "      <td>xxbos xxmaj the morning was bright and xxunk and the xxunk sky glowed pink and was xxunk with little xxunk clouds xxbos xxmaj the xxunk xxunk i may xxunk here as xxunk has since xxunk was almost xxunk xxunk xxbos âi shall go xxunk he said xxbos xxmaj at last after xxunk the artilleryman made a rush for it and got over the railway xxunk xxbos xxmaj he became suddenly</td>\n",
       "    </tr>\n",
       "    <tr>\n",
       "      <td>1</td>\n",
       "      <td>the silent road the xxunk sound of âulla ulla ulla xxunk xxunk itself xxbos xxmaj he xxunk it to a colossal puff of flame suddenly and violently xxunk out of the planet xxunk flaming xxunk rushed out of a gun xxbos xxmaj the xxunk and gravel about it seemed charred as if by a sudden explosion xxbos xxmaj the xxmaj xxunk in spite of their human xxunk were entirely swept</td>\n",
       "    </tr>\n",
       "    <tr>\n",
       "      <td>2</td>\n",
       "      <td>âulla ulla ulla xxunk xxunk that xxunk xxunk waves of sound sweeping down the broad sunlit roadway between the tall buildings on each side xxbos xxmaj in any case we should be prepared xxbos xxmaj the northern hills were xxunk in darkness ; the xxunk near xxmaj kensington glowed xxunk and now and then an xxunk - red xxunk of flame flashed up and vanished in the deep blue night</td>\n",
       "    </tr>\n",
       "    <tr>\n",
       "      <td>3</td>\n",
       "      <td>within the hood was slain and splashed to the four xxunk of xxunk and the xxmaj thing was now but a mere xxunk xxunk of metal whirling to destruction xxbos xxmaj as i crossed the bridge the sound of âulla ulla ulla xxunk ceased xxbos xxmaj there was something xxunk in the xxunk brown skin something in the xxunk xxunk of the xxunk movements xxunk xxunk xxbos xxmaj all night</td>\n",
       "    </tr>\n",
       "    <tr>\n",
       "      <td>4</td>\n",
       "      <td>suddenly and xxunk struck her out of being xxbos xxmaj in the back of this head or xxunk scarcely know how to xxunk of xxunk the single xxunk xxunk surface since known to be xxunk an xxunk though it must have been almost xxunk in our dense air xxbos xxmaj they wanted a light xxunk put up and help to keep the people back xxbos i xxunk on xxunk towards</td>\n",
       "    </tr>\n",
       "  </tbody>\n",
       "</table>"
      ],
      "text/plain": [
       "<IPython.core.display.HTML object>"
      ]
     },
     "metadata": {},
     "output_type": "display_data"
    }
   ],
   "source": [
    "data.show_batch(ds_type=DatasetType.Valid)"
   ]
  },
  {
   "cell_type": "code",
   "execution_count": 46,
   "metadata": {},
   "outputs": [
    {
     "data": {
      "text/plain": [
       "64"
      ]
     },
     "execution_count": 46,
     "metadata": {},
     "output_type": "execute_result"
    }
   ],
   "source": [
    "learn.data.bs"
   ]
  },
  {
   "cell_type": "code",
   "execution_count": 52,
   "metadata": {
    "collapsed": true
   },
   "outputs": [],
   "source": [
    "test_snippet = \"The martian stood in the darkness \""
   ]
  },
  {
   "cell_type": "code",
   "execution_count": 53,
   "metadata": {},
   "outputs": [
    {
     "data": {
      "text/plain": [
       "'The martian stood in the darkness  xxbos But he saw the shaft of Mars just not firewood And is looking along the road staring xxbos â\\x80\\x9cthe Ago lay through his desire to'"
      ]
     },
     "execution_count": 53,
     "metadata": {},
     "output_type": "execute_result"
    }
   ],
   "source": [
    "learn.predict(\"The martian stood in the darkness \", n_words=30)"
   ]
  },
  {
   "cell_type": "code",
   "execution_count": 54,
   "metadata": {},
   "outputs": [
    {
     "data": {
      "text/html": [],
      "text/plain": [
       "<IPython.core.display.HTML object>"
      ]
     },
     "metadata": {},
     "output_type": "display_data"
    },
    {
     "name": "stdout",
     "output_type": "stream",
     "text": [
      "LR Finder is complete, type {learner_name}.recorder.plot() to see the graph.\n"
     ]
    }
   ],
   "source": [
    "learn.lr_find()"
   ]
  },
  {
   "cell_type": "code",
   "execution_count": 55,
   "metadata": {},
   "outputs": [
    {
     "data": {
      "image/png": "[encoded data removed]",
      "text/plain": [
       "<Figure size 432x288 with 1 Axes>"
      ]
     },
     "metadata": {},
     "output_type": "display_data"
    }
   ],
   "source": [
    "learn.recorder.plot()"
   ]
  },
  {
   "cell_type": "code",
   "execution_count": 56,
   "metadata": {},
   "outputs": [
    {
     "data": {
      "text/html": [
       "Total time: 00:09 <p><table style='width:375px; margin-bottom:10px'>\n",
       "  <tr>\n",
       "    <th>epoch</th>\n",
       "    <th>train_loss</th>\n",
       "    <th>valid_loss</th>\n",
       "    <th>accuracy</th>\n",
       "    <th>time</th>\n",
       "  </tr>\n",
       "  <tr>\n",
       "    <th>0</th>\n",
       "    <th>3.154905</th>\n",
       "    <th>4.985077</th>\n",
       "    <th>0.207980</th>\n",
       "    <th>00:00</th>\n",
       "  </tr>\n",
       "  <tr>\n",
       "    <th>1</th>\n",
       "    <th>3.109632</th>\n",
       "    <th>5.078881</th>\n",
       "    <th>0.205190</th>\n",
       "    <th>00:00</th>\n",
       "  </tr>\n",
       "  <tr>\n",
       "    <th>2</th>\n",
       "    <th>3.079642</th>\n",
       "    <th>5.058093</th>\n",
       "    <th>0.205915</th>\n",
       "    <th>00:00</th>\n",
       "  </tr>\n",
       "  <tr>\n",
       "    <th>3</th>\n",
       "    <th>3.056859</th>\n",
       "    <th>5.067978</th>\n",
       "    <th>0.207980</th>\n",
       "    <th>00:00</th>\n",
       "  </tr>\n",
       "  <tr>\n",
       "    <th>4</th>\n",
       "    <th>3.042782</th>\n",
       "    <th>5.073485</th>\n",
       "    <th>0.206417</th>\n",
       "    <th>00:00</th>\n",
       "  </tr>\n",
       "  <tr>\n",
       "    <th>5</th>\n",
       "    <th>3.028812</th>\n",
       "    <th>5.126457</th>\n",
       "    <th>0.201842</th>\n",
       "    <th>00:00</th>\n",
       "  </tr>\n",
       "  <tr>\n",
       "    <th>6</th>\n",
       "    <th>3.016256</th>\n",
       "    <th>5.275877</th>\n",
       "    <th>0.202902</th>\n",
       "    <th>00:00</th>\n",
       "  </tr>\n",
       "  <tr>\n",
       "    <th>7</th>\n",
       "    <th>3.006789</th>\n",
       "    <th>5.115167</th>\n",
       "    <th>0.206752</th>\n",
       "    <th>00:01</th>\n",
       "  </tr>\n",
       "  <tr>\n",
       "    <th>8</th>\n",
       "    <th>2.995633</th>\n",
       "    <th>5.136113</th>\n",
       "    <th>0.204408</th>\n",
       "    <th>00:00</th>\n",
       "  </tr>\n",
       "  <tr>\n",
       "    <th>9</th>\n",
       "    <th>2.985399</th>\n",
       "    <th>5.184430</th>\n",
       "    <th>0.204241</th>\n",
       "    <th>00:01</th>\n",
       "  </tr>\n",
       "</table>\n"
      ],
      "text/plain": [
       "<IPython.core.display.HTML object>"
      ]
     },
     "metadata": {},
     "output_type": "display_data"
    }
   ],
   "source": [
    "learn.fit(10, lr=3e-3)"
   ]
  },
  {
   "cell_type": "code",
   "execution_count": 57,
   "metadata": {},
   "outputs": [
    {
     "data": {
      "text/plain": [
       "'The martian stood in the darkness  of the hedge came the railway junction force from Saturday morning from the joints of space perfectly air of not imagine the last window and blows xxbos The'"
      ]
     },
     "execution_count": 57,
     "metadata": {},
     "output_type": "execute_result"
    }
   ],
   "source": [
    "learn.predict(test_snippet, n_words=30)"
   ]
  },
  {
   "cell_type": "code",
   "execution_count": 58,
   "metadata": {
    "collapsed": true
   },
   "outputs": [],
   "source": [
    "learn.save(\"basic\")"
   ]
  },
  {
   "cell_type": "code",
   "execution_count": 59,
   "metadata": {},
   "outputs": [
    {
     "data": {
      "text/html": [],
      "text/plain": [
       "<IPython.core.display.HTML object>"
      ]
     },
     "metadata": {},
     "output_type": "display_data"
    },
    {
     "name": "stdout",
     "output_type": "stream",
     "text": [
      "LR Finder is complete, type {learner_name}.recorder.plot() to see the graph.\n"
     ]
    }
   ],
   "source": [
    "learn.lr_find()"
   ]
  },
  {
   "cell_type": "code",
   "execution_count": 60,
   "metadata": {},
   "outputs": [
    {
     "data": {
      "image/png": "[encoded data removed]",
      "text/plain": [
       "<Figure size 432x288 with 1 Axes>"
      ]
     },
     "metadata": {},
     "output_type": "display_data"
    }
   ],
   "source": [
    "learn.recorder.plot()"
   ]
  },
  {
   "cell_type": "code",
   "execution_count": 61,
   "metadata": {},
   "outputs": [
    {
     "data": {
      "text/html": [
       "Total time: 00:20 <p><table style='width:375px; margin-bottom:10px'>\n",
       "  <tr>\n",
       "    <th>epoch</th>\n",
       "    <th>train_loss</th>\n",
       "    <th>valid_loss</th>\n",
       "    <th>accuracy</th>\n",
       "    <th>time</th>\n",
       "  </tr>\n",
       "  <tr>\n",
       "    <th>0</th>\n",
       "    <th>2.934248</th>\n",
       "    <th>5.122794</th>\n",
       "    <th>0.206529</th>\n",
       "    <th>00:00</th>\n",
       "  </tr>\n",
       "  <tr>\n",
       "    <th>1</th>\n",
       "    <th>2.934482</th>\n",
       "    <th>5.135861</th>\n",
       "    <th>0.204408</th>\n",
       "    <th>00:00</th>\n",
       "  </tr>\n",
       "  <tr>\n",
       "    <th>2</th>\n",
       "    <th>2.935062</th>\n",
       "    <th>5.157544</th>\n",
       "    <th>0.203906</th>\n",
       "    <th>00:00</th>\n",
       "  </tr>\n",
       "  <tr>\n",
       "    <th>3</th>\n",
       "    <th>2.935436</th>\n",
       "    <th>5.152337</th>\n",
       "    <th>0.203181</th>\n",
       "    <th>00:00</th>\n",
       "  </tr>\n",
       "  <tr>\n",
       "    <th>4</th>\n",
       "    <th>2.935356</th>\n",
       "    <th>5.111585</th>\n",
       "    <th>0.206250</th>\n",
       "    <th>00:01</th>\n",
       "  </tr>\n",
       "  <tr>\n",
       "    <th>5</th>\n",
       "    <th>2.934473</th>\n",
       "    <th>5.140803</th>\n",
       "    <th>0.203404</th>\n",
       "    <th>00:01</th>\n",
       "  </tr>\n",
       "  <tr>\n",
       "    <th>6</th>\n",
       "    <th>2.935220</th>\n",
       "    <th>5.114218</th>\n",
       "    <th>0.203627</th>\n",
       "    <th>00:01</th>\n",
       "  </tr>\n",
       "  <tr>\n",
       "    <th>7</th>\n",
       "    <th>2.935323</th>\n",
       "    <th>5.110648</th>\n",
       "    <th>0.206752</th>\n",
       "    <th>00:01</th>\n",
       "  </tr>\n",
       "  <tr>\n",
       "    <th>8</th>\n",
       "    <th>2.936233</th>\n",
       "    <th>5.131757</th>\n",
       "    <th>0.203404</th>\n",
       "    <th>00:01</th>\n",
       "  </tr>\n",
       "  <tr>\n",
       "    <th>9</th>\n",
       "    <th>2.934956</th>\n",
       "    <th>5.170055</th>\n",
       "    <th>0.202455</th>\n",
       "    <th>00:01</th>\n",
       "  </tr>\n",
       "  <tr>\n",
       "    <th>10</th>\n",
       "    <th>2.934669</th>\n",
       "    <th>5.136230</th>\n",
       "    <th>0.203516</th>\n",
       "    <th>00:01</th>\n",
       "  </tr>\n",
       "  <tr>\n",
       "    <th>11</th>\n",
       "    <th>2.934315</th>\n",
       "    <th>5.147301</th>\n",
       "    <th>0.204688</th>\n",
       "    <th>00:01</th>\n",
       "  </tr>\n",
       "  <tr>\n",
       "    <th>12</th>\n",
       "    <th>2.933784</th>\n",
       "    <th>5.139622</th>\n",
       "    <th>0.202902</th>\n",
       "    <th>00:00</th>\n",
       "  </tr>\n",
       "  <tr>\n",
       "    <th>13</th>\n",
       "    <th>2.933716</th>\n",
       "    <th>5.113696</th>\n",
       "    <th>0.203516</th>\n",
       "    <th>00:01</th>\n",
       "  </tr>\n",
       "  <tr>\n",
       "    <th>14</th>\n",
       "    <th>2.934442</th>\n",
       "    <th>5.145930</th>\n",
       "    <th>0.204520</th>\n",
       "    <th>00:00</th>\n",
       "  </tr>\n",
       "  <tr>\n",
       "    <th>15</th>\n",
       "    <th>2.934695</th>\n",
       "    <th>5.150634</th>\n",
       "    <th>0.204464</th>\n",
       "    <th>00:00</th>\n",
       "  </tr>\n",
       "  <tr>\n",
       "    <th>16</th>\n",
       "    <th>2.934326</th>\n",
       "    <th>5.227853</th>\n",
       "    <th>0.202902</th>\n",
       "    <th>00:00</th>\n",
       "  </tr>\n",
       "  <tr>\n",
       "    <th>17</th>\n",
       "    <th>2.933892</th>\n",
       "    <th>5.141150</th>\n",
       "    <th>0.204185</th>\n",
       "    <th>00:00</th>\n",
       "  </tr>\n",
       "  <tr>\n",
       "    <th>18</th>\n",
       "    <th>2.933691</th>\n",
       "    <th>5.143584</th>\n",
       "    <th>0.202679</th>\n",
       "    <th>00:01</th>\n",
       "  </tr>\n",
       "  <tr>\n",
       "    <th>19</th>\n",
       "    <th>2.933553</th>\n",
       "    <th>5.104459</th>\n",
       "    <th>0.204576</th>\n",
       "    <th>00:00</th>\n",
       "  </tr>\n",
       "</table>\n"
      ],
      "text/plain": [
       "<IPython.core.display.HTML object>"
      ]
     },
     "metadata": {},
     "output_type": "display_data"
    }
   ],
   "source": [
    "learn.fit_one_cycle(20, max_lr=3e-5)"
   ]
  },
  {
   "cell_type": "markdown",
   "metadata": {},
   "source": [
    "We're overfitting at this point, not much use in training further."
   ]
  },
  {
   "cell_type": "markdown",
   "metadata": {},
   "source": [
    "# LSTM"
   ]
  },
  {
   "cell_type": "code",
   "execution_count": 66,
   "metadata": {
    "collapsed": true
   },
   "outputs": [],
   "source": [
    "class LSTMCustom(nn.Module):\n",
    "     \n",
    "    def __init__(self):\n",
    "        super().__init__()\n",
    "        self.i_h = nn.Embedding(nv, nh)\n",
    "        self.h_o = nn.Linear(nh, nv)\n",
    "        self.bn = nn.BatchNorm1d(nh)\n",
    "        self.forget_gate = nn.Linear(nh*2, nh)\n",
    "        self.input_gate = nn.Linear(nh*2, nh)\n",
    "        self.candidate_gate = nn.Linear(nh*2, nh)\n",
    "        self.output_gate = nn.Linear(nh*2, nh)\n",
    "        self.combine_gate = nn.Linear(nh*2, nh)\n",
    "        self.reset()\n",
    "        \n",
    "    def format_for_prediction(self, x):\n",
    "        return torch.cat([x]*bs)\n",
    "        \n",
    "    def forward(self, x):\n",
    "        res = []\n",
    "        h = self.h\n",
    "        cell_state = self.cell_state \n",
    "        if x.shape[0] == 1:\n",
    "            x = self.format_for_prediction(x)\n",
    "        for i in range(x.shape[1]):\n",
    "            x_i = self.i_h(x[:,i])\n",
    "            concat = torch.cat([x_i, h], 1)\n",
    "            forget_gate = nn.Sigmoid()(self.forget_gate(concat))\n",
    "            cell_state = forget_gate * cell_state\n",
    "            input_gate = nn.Sigmoid()(self.input_gate(concat))\n",
    "            candidate_gate = nn.Tanh()(self.candidate_gate(concat))\n",
    "            cell_state = cell_state + (input_gate * candidate_gate)\n",
    "            output_gate = nn.Sigmoid()(self.output_gate(concat))\n",
    "            combine_gate = nn.Tanh()(cell_state)\n",
    "            h = combine_gate * output_gate \n",
    "            res.append(h)\n",
    "        self.h = h.detach()\n",
    "        self.cell_state = cell_state.detach()\n",
    "        res_stacked = torch.stack(res, dim=1)\n",
    "        return self.h_o(res_stacked), res, res\n",
    "    \n",
    "    def reset(self):\n",
    "        self.h = torch.zeros(bs, nh).cuda()\n",
    "        self.cell_state = torch.zeros(bs, nh).cuda()"
   ]
  },
  {
   "cell_type": "code",
   "execution_count": 67,
   "metadata": {
    "collapsed": true
   },
   "outputs": [],
   "source": [
    "learn = LanguageLearner(data, LSTMCustom(), metrics=accuracy)"
   ]
  },
  {
   "cell_type": "code",
   "execution_count": 68,
   "metadata": {
    "collapsed": true
   },
   "outputs": [],
   "source": [
    "learn.bptt = 70"
   ]
  },
  {
   "cell_type": "code",
   "execution_count": 69,
   "metadata": {},
   "outputs": [
    {
     "data": {
      "text/html": [
       "Total time: 00:43 <p><table style='width:375px; margin-bottom:10px'>\n",
       "  <tr>\n",
       "    <th>epoch</th>\n",
       "    <th>train_loss</th>\n",
       "    <th>valid_loss</th>\n",
       "    <th>accuracy</th>\n",
       "    <th>time</th>\n",
       "  </tr>\n",
       "  <tr>\n",
       "    <th>0</th>\n",
       "    <th>8.027231</th>\n",
       "    <th>8.005952</th>\n",
       "    <th>0.003739</th>\n",
       "    <th>00:02</th>\n",
       "  </tr>\n",
       "  <tr>\n",
       "    <th>1</th>\n",
       "    <th>7.984003</th>\n",
       "    <th>7.823420</th>\n",
       "    <th>0.096094</th>\n",
       "    <th>00:01</th>\n",
       "  </tr>\n",
       "  <tr>\n",
       "    <th>2</th>\n",
       "    <th>7.637436</th>\n",
       "    <th>6.152973</th>\n",
       "    <th>0.100223</th>\n",
       "    <th>00:02</th>\n",
       "  </tr>\n",
       "  <tr>\n",
       "    <th>3</th>\n",
       "    <th>7.004225</th>\n",
       "    <th>5.417409</th>\n",
       "    <th>0.108538</th>\n",
       "    <th>00:02</th>\n",
       "  </tr>\n",
       "  <tr>\n",
       "    <th>4</th>\n",
       "    <th>6.527415</th>\n",
       "    <th>5.196336</th>\n",
       "    <th>0.146540</th>\n",
       "    <th>00:02</th>\n",
       "  </tr>\n",
       "  <tr>\n",
       "    <th>5</th>\n",
       "    <th>6.160872</th>\n",
       "    <th>4.995858</th>\n",
       "    <th>0.166741</th>\n",
       "    <th>00:02</th>\n",
       "  </tr>\n",
       "  <tr>\n",
       "    <th>6</th>\n",
       "    <th>5.857443</th>\n",
       "    <th>4.866591</th>\n",
       "    <th>0.184431</th>\n",
       "    <th>00:01</th>\n",
       "  </tr>\n",
       "  <tr>\n",
       "    <th>7</th>\n",
       "    <th>5.601080</th>\n",
       "    <th>4.751483</th>\n",
       "    <th>0.195592</th>\n",
       "    <th>00:02</th>\n",
       "  </tr>\n",
       "  <tr>\n",
       "    <th>8</th>\n",
       "    <th>5.383888</th>\n",
       "    <th>4.682719</th>\n",
       "    <th>0.205078</th>\n",
       "    <th>00:01</th>\n",
       "  </tr>\n",
       "  <tr>\n",
       "    <th>9</th>\n",
       "    <th>5.198525</th>\n",
       "    <th>4.626913</th>\n",
       "    <th>0.209766</th>\n",
       "    <th>00:02</th>\n",
       "  </tr>\n",
       "  <tr>\n",
       "    <th>10</th>\n",
       "    <th>5.038192</th>\n",
       "    <th>4.597826</th>\n",
       "    <th>0.211496</th>\n",
       "    <th>00:02</th>\n",
       "  </tr>\n",
       "  <tr>\n",
       "    <th>11</th>\n",
       "    <th>4.900183</th>\n",
       "    <th>4.569692</th>\n",
       "    <th>0.214844</th>\n",
       "    <th>00:02</th>\n",
       "  </tr>\n",
       "  <tr>\n",
       "    <th>12</th>\n",
       "    <th>4.781079</th>\n",
       "    <th>4.545403</th>\n",
       "    <th>0.215123</th>\n",
       "    <th>00:02</th>\n",
       "  </tr>\n",
       "  <tr>\n",
       "    <th>13</th>\n",
       "    <th>4.678320</th>\n",
       "    <th>4.533869</th>\n",
       "    <th>0.218025</th>\n",
       "    <th>00:02</th>\n",
       "  </tr>\n",
       "  <tr>\n",
       "    <th>14</th>\n",
       "    <th>4.592283</th>\n",
       "    <th>4.527160</th>\n",
       "    <th>0.218694</th>\n",
       "    <th>00:02</th>\n",
       "  </tr>\n",
       "  <tr>\n",
       "    <th>15</th>\n",
       "    <th>4.517123</th>\n",
       "    <th>4.519519</th>\n",
       "    <th>0.220145</th>\n",
       "    <th>00:02</th>\n",
       "  </tr>\n",
       "  <tr>\n",
       "    <th>16</th>\n",
       "    <th>4.455568</th>\n",
       "    <th>4.512795</th>\n",
       "    <th>0.219475</th>\n",
       "    <th>00:02</th>\n",
       "  </tr>\n",
       "  <tr>\n",
       "    <th>17</th>\n",
       "    <th>4.405172</th>\n",
       "    <th>4.511756</th>\n",
       "    <th>0.220647</th>\n",
       "    <th>00:02</th>\n",
       "  </tr>\n",
       "  <tr>\n",
       "    <th>18</th>\n",
       "    <th>4.364307</th>\n",
       "    <th>4.511620</th>\n",
       "    <th>0.220982</th>\n",
       "    <th>00:02</th>\n",
       "  </tr>\n",
       "  <tr>\n",
       "    <th>19</th>\n",
       "    <th>4.333139</th>\n",
       "    <th>4.511142</th>\n",
       "    <th>0.220815</th>\n",
       "    <th>00:02</th>\n",
       "  </tr>\n",
       "</table>\n"
      ],
      "text/plain": [
       "<IPython.core.display.HTML object>"
      ]
     },
     "metadata": {},
     "output_type": "display_data"
    }
   ],
   "source": [
    "learn.fit_one_cycle(20, max_lr=1e-2)"
   ]
  },
  {
   "cell_type": "code",
   "execution_count": 70,
   "metadata": {},
   "outputs": [
    {
     "data": {
      "text/plain": [
       "'The martian stood in the darkness  treetops xxbos From the â\\x80\\x9conly no next one i xxbos i did not against out yards but i stood under she fixed alive by deter ulla hurried going on'"
      ]
     },
     "execution_count": 70,
     "metadata": {},
     "output_type": "execute_result"
    }
   ],
   "source": [
    "learn.predict(test_snippet, n_words=30)"
   ]
  },
  {
   "cell_type": "code",
   "execution_count": 71,
   "metadata": {},
   "outputs": [
    {
     "data": {
      "text/html": [],
      "text/plain": [
       "<IPython.core.display.HTML object>"
      ]
     },
     "metadata": {},
     "output_type": "display_data"
    },
    {
     "name": "stdout",
     "output_type": "stream",
     "text": [
      "LR Finder is complete, type {learner_name}.recorder.plot() to see the graph.\n"
     ]
    }
   ],
   "source": [
    "learn.lr_find()"
   ]
  },
  {
   "cell_type": "code",
   "execution_count": 72,
   "metadata": {},
   "outputs": [
    {
     "data": {
      "image/png": "[encoded data removed]",
      "text/plain": [
       "<Figure size 432x288 with 1 Axes>"
      ]
     },
     "metadata": {},
     "output_type": "display_data"
    }
   ],
   "source": [
    "learn.recorder.plot()"
   ]
  },
  {
   "cell_type": "code",
   "execution_count": 73,
   "metadata": {
    "collapsed": true
   },
   "outputs": [],
   "source": [
    "learn.save('lstm-1')"
   ]
  },
  {
   "cell_type": "code",
   "execution_count": 75,
   "metadata": {},
   "outputs": [
    {
     "data": {
      "text/plain": [
       "LanguageLearner(data=TextLMDataBunch;\n",
       "\n",
       "Train: LabelList (2434 items)\n",
       "x: LMTextList\n",
       "xxbos xxmaj northward were xxmaj kilburn and xxmaj xxunk blue and crowded with houses ; westward the great city was xxunk ; and southward beyond the xxmaj martians the green waves of xxmaj regentâs xxmaj park the xxmaj langham xxmaj xxunk the dome of the xxmaj albert xxmaj hall the xxmaj xxunk xxmaj xxunk and the giant mansions of the xxmaj brompton xxmaj road came out clear and little in the sunrise the xxunk ruins of xxmaj westminster rising xxunk beyond,xxbos xxmaj there were three girls xxmaj east xxmaj end xxunk girls and a couple of little children crowded in the cart,xxbos â xxunk you meant me to xxunk xxunk xxunk didnât xxmaj xxunk âwe wonât quarrel about that,xxbos xxmaj very likely youâve seen the same thing,xxbos xxmaj the early morning was xxunk still and the sun just clearing the pine trees towards xxmaj weybridge was already warm\n",
       "y: LMLabelList\n",
       ",,,,\n",
       "Path: .;\n",
       "\n",
       "Valid: LabelList (609 items)\n",
       "x: LMTextList\n",
       "xxbos xxmaj the morning was bright and xxunk and the xxunk sky glowed pink and was xxunk with little xxunk clouds,xxbos xxmaj the xxunk xxunk i may xxunk here as xxunk has since xxunk was almost xxunk xxunk,xxbos âi shall go xxunk he said,xxbos xxmaj at last after xxunk the artilleryman made a rush for it and got over the railway xxunk,xxbos xxmaj he became suddenly very xxunk and when we had eaten he went away and returned with some xxunk xxunk\n",
       "y: LMLabelList\n",
       ",,,,\n",
       "Path: .;\n",
       "\n",
       "Test: None, model=LSTMCustom(\n",
       "  (i_h): Embedding(3104, 64)\n",
       "  (h_o): Linear(in_features=64, out_features=3104, bias=True)\n",
       "  (bn): BatchNorm1d(64, eps=1e-05, momentum=0.1, affine=True, track_running_stats=True)\n",
       "  (forget_gate): Linear(in_features=128, out_features=64, bias=True)\n",
       "  (input_gate): Linear(in_features=128, out_features=64, bias=True)\n",
       "  (candidate_gate): Linear(in_features=128, out_features=64, bias=True)\n",
       "  (output_gate): Linear(in_features=128, out_features=64, bias=True)\n",
       "  (combine_gate): Linear(in_features=128, out_features=64, bias=True)\n",
       "), opt_func=functools.partial(<class 'torch.optim.adam.Adam'>, betas=(0.9, 0.99)), loss_func=FlattenedLoss of CrossEntropyLoss(), metrics=[<function accuracy at 0x7f29e5d61b70>], true_wd=True, bn_wd=True, wd=0.01, train_bn=True, path=PosixPath('.'), model_dir='models', callback_fns=[functools.partial(<class 'fastai.basic_train.Recorder'>, add_time=True, silent=False)], callbacks=[RNNTrainer\n",
       "learn: LanguageLearner(data=TextLMDataBunch;\n",
       "\n",
       "Train: LabelList (2434 items)\n",
       "x: LMTextList\n",
       "xxbos xxmaj northward were xxmaj kilburn and xxmaj xxunk blue and crowded with houses ; westward the great city was xxunk ; and southward beyond the xxmaj martians the green waves of xxmaj regentâs xxmaj park the xxmaj langham xxmaj xxunk the dome of the xxmaj albert xxmaj hall the xxmaj xxunk xxmaj xxunk and the giant mansions of the xxmaj brompton xxmaj road came out clear and little in the sunrise the xxunk ruins of xxmaj westminster rising xxunk beyond,xxbos xxmaj there were three girls xxmaj east xxmaj end xxunk girls and a couple of little children crowded in the cart,xxbos â xxunk you meant me to xxunk xxunk xxunk didnât xxmaj xxunk âwe wonât quarrel about that,xxbos xxmaj very likely youâve seen the same thing,xxbos xxmaj the early morning was xxunk still and the sun just clearing the pine trees towards xxmaj weybridge was already warm\n",
       "y: LMLabelList\n",
       ",,,,\n",
       "Path: .;\n",
       "\n",
       "Valid: LabelList (609 items)\n",
       "x: LMTextList\n",
       "xxbos xxmaj the morning was bright and xxunk and the xxunk sky glowed pink and was xxunk with little xxunk clouds,xxbos xxmaj the xxunk xxunk i may xxunk here as xxunk has since xxunk was almost xxunk xxunk,xxbos âi shall go xxunk he said,xxbos xxmaj at last after xxunk the artilleryman made a rush for it and got over the railway xxunk,xxbos xxmaj he became suddenly very xxunk and when we had eaten he went away and returned with some xxunk xxunk\n",
       "y: LMLabelList\n",
       ",,,,\n",
       "Path: .;\n",
       "\n",
       "Test: None, model=LSTMCustom(\n",
       "  (i_h): Embedding(3104, 64)\n",
       "  (h_o): Linear(in_features=64, out_features=3104, bias=True)\n",
       "  (bn): BatchNorm1d(64, eps=1e-05, momentum=0.1, affine=True, track_running_stats=True)\n",
       "  (forget_gate): Linear(in_features=128, out_features=64, bias=True)\n",
       "  (input_gate): Linear(in_features=128, out_features=64, bias=True)\n",
       "  (candidate_gate): Linear(in_features=128, out_features=64, bias=True)\n",
       "  (output_gate): Linear(in_features=128, out_features=64, bias=True)\n",
       "  (combine_gate): Linear(in_features=128, out_features=64, bias=True)\n",
       "), opt_func=functools.partial(<class 'torch.optim.adam.Adam'>, betas=(0.9, 0.99)), loss_func=FlattenedLoss of CrossEntropyLoss(), metrics=[<function accuracy at 0x7f29e5d61b70>], true_wd=True, bn_wd=True, wd=0.01, train_bn=True, path=PosixPath('.'), model_dir='models', callback_fns=[functools.partial(<class 'fastai.basic_train.Recorder'>, add_time=True, silent=False)], callbacks=[...], layer_groups=[Sequential(\n",
       "  (0): Embedding(3104, 64)\n",
       "  (1): Linear(in_features=64, out_features=3104, bias=True)\n",
       "  (2): BatchNorm1d(64, eps=1e-05, momentum=0.1, affine=True, track_running_stats=True)\n",
       "  (3): Linear(in_features=128, out_features=64, bias=True)\n",
       "  (4): Linear(in_features=128, out_features=64, bias=True)\n",
       "  (5): Linear(in_features=128, out_features=64, bias=True)\n",
       "  (6): Linear(in_features=128, out_features=64, bias=True)\n",
       "  (7): Linear(in_features=128, out_features=64, bias=True)\n",
       ")], add_time=True, silent=False)\n",
       "alpha: 2.0\n",
       "beta: 1.0], layer_groups=[Sequential(\n",
       "  (0): Embedding(3104, 64)\n",
       "  (1): Linear(in_features=64, out_features=3104, bias=True)\n",
       "  (2): BatchNorm1d(64, eps=1e-05, momentum=0.1, affine=True, track_running_stats=True)\n",
       "  (3): Linear(in_features=128, out_features=64, bias=True)\n",
       "  (4): Linear(in_features=128, out_features=64, bias=True)\n",
       "  (5): Linear(in_features=128, out_features=64, bias=True)\n",
       "  (6): Linear(in_features=128, out_features=64, bias=True)\n",
       "  (7): Linear(in_features=128, out_features=64, bias=True)\n",
       ")], add_time=True, silent=False)"
      ]
     },
     "execution_count": 75,
     "metadata": {},
     "output_type": "execute_result"
    }
   ],
   "source": [
    "learn.load('lstm-1')"
   ]
  },
  {
   "cell_type": "code",
   "execution_count": 76,
   "metadata": {},
   "outputs": [
    {
     "data": {
      "text/html": [
       "Total time: 00:43 <p><table style='width:375px; margin-bottom:10px'>\n",
       "  <tr>\n",
       "    <th>epoch</th>\n",
       "    <th>train_loss</th>\n",
       "    <th>valid_loss</th>\n",
       "    <th>accuracy</th>\n",
       "    <th>time</th>\n",
       "  </tr>\n",
       "  <tr>\n",
       "    <th>0</th>\n",
       "    <th>4.229340</th>\n",
       "    <th>4.511879</th>\n",
       "    <th>0.220759</th>\n",
       "    <th>00:02</th>\n",
       "  </tr>\n",
       "  <tr>\n",
       "    <th>1</th>\n",
       "    <th>4.226675</th>\n",
       "    <th>4.510827</th>\n",
       "    <th>0.220982</th>\n",
       "    <th>00:02</th>\n",
       "  </tr>\n",
       "  <tr>\n",
       "    <th>2</th>\n",
       "    <th>4.225100</th>\n",
       "    <th>4.510665</th>\n",
       "    <th>0.220815</th>\n",
       "    <th>00:02</th>\n",
       "  </tr>\n",
       "  <tr>\n",
       "    <th>3</th>\n",
       "    <th>4.226668</th>\n",
       "    <th>4.510237</th>\n",
       "    <th>0.220647</th>\n",
       "    <th>00:02</th>\n",
       "  </tr>\n",
       "  <tr>\n",
       "    <th>4</th>\n",
       "    <th>4.226034</th>\n",
       "    <th>4.509562</th>\n",
       "    <th>0.221429</th>\n",
       "    <th>00:02</th>\n",
       "  </tr>\n",
       "  <tr>\n",
       "    <th>5</th>\n",
       "    <th>4.223857</th>\n",
       "    <th>4.509542</th>\n",
       "    <th>0.220982</th>\n",
       "    <th>00:02</th>\n",
       "  </tr>\n",
       "  <tr>\n",
       "    <th>6</th>\n",
       "    <th>4.221792</th>\n",
       "    <th>4.508519</th>\n",
       "    <th>0.221094</th>\n",
       "    <th>00:02</th>\n",
       "  </tr>\n",
       "  <tr>\n",
       "    <th>7</th>\n",
       "    <th>4.219576</th>\n",
       "    <th>4.507504</th>\n",
       "    <th>0.221540</th>\n",
       "    <th>00:02</th>\n",
       "  </tr>\n",
       "  <tr>\n",
       "    <th>8</th>\n",
       "    <th>4.218019</th>\n",
       "    <th>4.507212</th>\n",
       "    <th>0.221540</th>\n",
       "    <th>00:02</th>\n",
       "  </tr>\n",
       "  <tr>\n",
       "    <th>9</th>\n",
       "    <th>4.214967</th>\n",
       "    <th>4.506796</th>\n",
       "    <th>0.221652</th>\n",
       "    <th>00:02</th>\n",
       "  </tr>\n",
       "  <tr>\n",
       "    <th>10</th>\n",
       "    <th>4.213581</th>\n",
       "    <th>4.506312</th>\n",
       "    <th>0.221763</th>\n",
       "    <th>00:02</th>\n",
       "  </tr>\n",
       "  <tr>\n",
       "    <th>11</th>\n",
       "    <th>4.210964</th>\n",
       "    <th>4.506041</th>\n",
       "    <th>0.221205</th>\n",
       "    <th>00:02</th>\n",
       "  </tr>\n",
       "  <tr>\n",
       "    <th>12</th>\n",
       "    <th>4.208641</th>\n",
       "    <th>4.506627</th>\n",
       "    <th>0.221094</th>\n",
       "    <th>00:02</th>\n",
       "  </tr>\n",
       "  <tr>\n",
       "    <th>13</th>\n",
       "    <th>4.206381</th>\n",
       "    <th>4.505257</th>\n",
       "    <th>0.221373</th>\n",
       "    <th>00:02</th>\n",
       "  </tr>\n",
       "  <tr>\n",
       "    <th>14</th>\n",
       "    <th>4.204722</th>\n",
       "    <th>4.506145</th>\n",
       "    <th>0.221317</th>\n",
       "    <th>00:02</th>\n",
       "  </tr>\n",
       "  <tr>\n",
       "    <th>15</th>\n",
       "    <th>4.202294</th>\n",
       "    <th>4.505188</th>\n",
       "    <th>0.221652</th>\n",
       "    <th>00:02</th>\n",
       "  </tr>\n",
       "  <tr>\n",
       "    <th>16</th>\n",
       "    <th>4.200590</th>\n",
       "    <th>4.505880</th>\n",
       "    <th>0.221205</th>\n",
       "    <th>00:02</th>\n",
       "  </tr>\n",
       "  <tr>\n",
       "    <th>17</th>\n",
       "    <th>4.198588</th>\n",
       "    <th>4.505165</th>\n",
       "    <th>0.221763</th>\n",
       "    <th>00:02</th>\n",
       "  </tr>\n",
       "  <tr>\n",
       "    <th>18</th>\n",
       "    <th>4.197592</th>\n",
       "    <th>4.505221</th>\n",
       "    <th>0.221708</th>\n",
       "    <th>00:02</th>\n",
       "  </tr>\n",
       "  <tr>\n",
       "    <th>19</th>\n",
       "    <th>4.197864</th>\n",
       "    <th>4.505337</th>\n",
       "    <th>0.221819</th>\n",
       "    <th>00:02</th>\n",
       "  </tr>\n",
       "</table>\n"
      ],
      "text/plain": [
       "<IPython.core.display.HTML object>"
      ]
     },
     "metadata": {},
     "output_type": "display_data"
    }
   ],
   "source": [
    "learn.fit_one_cycle(20, max_lr=3e-4)"
   ]
  },
  {
   "cell_type": "code",
   "execution_count": 77,
   "metadata": {
    "collapsed": true
   },
   "outputs": [],
   "source": [
    "learn.save(\"lstm-2\")"
   ]
  },
  {
   "cell_type": "code",
   "execution_count": 78,
   "metadata": {},
   "outputs": [
    {
     "data": {
      "text/plain": [
       "LanguageLearner(data=TextLMDataBunch;\n",
       "\n",
       "Train: LabelList (2434 items)\n",
       "x: LMTextList\n",
       "xxbos xxmaj northward were xxmaj kilburn and xxmaj xxunk blue and crowded with houses ; westward the great city was xxunk ; and southward beyond the xxmaj martians the green waves of xxmaj regentâs xxmaj park the xxmaj langham xxmaj xxunk the dome of the xxmaj albert xxmaj hall the xxmaj xxunk xxmaj xxunk and the giant mansions of the xxmaj brompton xxmaj road came out clear and little in the sunrise the xxunk ruins of xxmaj westminster rising xxunk beyond,xxbos xxmaj there were three girls xxmaj east xxmaj end xxunk girls and a couple of little children crowded in the cart,xxbos â xxunk you meant me to xxunk xxunk xxunk didnât xxmaj xxunk âwe wonât quarrel about that,xxbos xxmaj very likely youâve seen the same thing,xxbos xxmaj the early morning was xxunk still and the sun just clearing the pine trees towards xxmaj weybridge was already warm\n",
       "y: LMLabelList\n",
       ",,,,\n",
       "Path: .;\n",
       "\n",
       "Valid: LabelList (609 items)\n",
       "x: LMTextList\n",
       "xxbos xxmaj the morning was bright and xxunk and the xxunk sky glowed pink and was xxunk with little xxunk clouds,xxbos xxmaj the xxunk xxunk i may xxunk here as xxunk has since xxunk was almost xxunk xxunk,xxbos âi shall go xxunk he said,xxbos xxmaj at last after xxunk the artilleryman made a rush for it and got over the railway xxunk,xxbos xxmaj he became suddenly very xxunk and when we had eaten he went away and returned with some xxunk xxunk\n",
       "y: LMLabelList\n",
       ",,,,\n",
       "Path: .;\n",
       "\n",
       "Test: None, model=LSTMCustom(\n",
       "  (i_h): Embedding(3104, 64)\n",
       "  (h_o): Linear(in_features=64, out_features=3104, bias=True)\n",
       "  (bn): BatchNorm1d(64, eps=1e-05, momentum=0.1, affine=True, track_running_stats=True)\n",
       "  (forget_gate): Linear(in_features=128, out_features=64, bias=True)\n",
       "  (input_gate): Linear(in_features=128, out_features=64, bias=True)\n",
       "  (candidate_gate): Linear(in_features=128, out_features=64, bias=True)\n",
       "  (output_gate): Linear(in_features=128, out_features=64, bias=True)\n",
       "  (combine_gate): Linear(in_features=128, out_features=64, bias=True)\n",
       "), opt_func=functools.partial(<class 'torch.optim.adam.Adam'>, betas=(0.9, 0.99)), loss_func=FlattenedLoss of CrossEntropyLoss(), metrics=[<function accuracy at 0x7f29e5d61b70>], true_wd=True, bn_wd=True, wd=0.01, train_bn=True, path=PosixPath('.'), model_dir='models', callback_fns=[functools.partial(<class 'fastai.basic_train.Recorder'>, add_time=True, silent=False)], callbacks=[RNNTrainer\n",
       "learn: LanguageLearner(data=TextLMDataBunch;\n",
       "\n",
       "Train: LabelList (2434 items)\n",
       "x: LMTextList\n",
       "xxbos xxmaj northward were xxmaj kilburn and xxmaj xxunk blue and crowded with houses ; westward the great city was xxunk ; and southward beyond the xxmaj martians the green waves of xxmaj regentâs xxmaj park the xxmaj langham xxmaj xxunk the dome of the xxmaj albert xxmaj hall the xxmaj xxunk xxmaj xxunk and the giant mansions of the xxmaj brompton xxmaj road came out clear and little in the sunrise the xxunk ruins of xxmaj westminster rising xxunk beyond,xxbos xxmaj there were three girls xxmaj east xxmaj end xxunk girls and a couple of little children crowded in the cart,xxbos â xxunk you meant me to xxunk xxunk xxunk didnât xxmaj xxunk âwe wonât quarrel about that,xxbos xxmaj very likely youâve seen the same thing,xxbos xxmaj the early morning was xxunk still and the sun just clearing the pine trees towards xxmaj weybridge was already warm\n",
       "y: LMLabelList\n",
       ",,,,\n",
       "Path: .;\n",
       "\n",
       "Valid: LabelList (609 items)\n",
       "x: LMTextList\n",
       "xxbos xxmaj the morning was bright and xxunk and the xxunk sky glowed pink and was xxunk with little xxunk clouds,xxbos xxmaj the xxunk xxunk i may xxunk here as xxunk has since xxunk was almost xxunk xxunk,xxbos âi shall go xxunk he said,xxbos xxmaj at last after xxunk the artilleryman made a rush for it and got over the railway xxunk,xxbos xxmaj he became suddenly very xxunk and when we had eaten he went away and returned with some xxunk xxunk\n",
       "y: LMLabelList\n",
       ",,,,\n",
       "Path: .;\n",
       "\n",
       "Test: None, model=LSTMCustom(\n",
       "  (i_h): Embedding(3104, 64)\n",
       "  (h_o): Linear(in_features=64, out_features=3104, bias=True)\n",
       "  (bn): BatchNorm1d(64, eps=1e-05, momentum=0.1, affine=True, track_running_stats=True)\n",
       "  (forget_gate): Linear(in_features=128, out_features=64, bias=True)\n",
       "  (input_gate): Linear(in_features=128, out_features=64, bias=True)\n",
       "  (candidate_gate): Linear(in_features=128, out_features=64, bias=True)\n",
       "  (output_gate): Linear(in_features=128, out_features=64, bias=True)\n",
       "  (combine_gate): Linear(in_features=128, out_features=64, bias=True)\n",
       "), opt_func=functools.partial(<class 'torch.optim.adam.Adam'>, betas=(0.9, 0.99)), loss_func=FlattenedLoss of CrossEntropyLoss(), metrics=[<function accuracy at 0x7f29e5d61b70>], true_wd=True, bn_wd=True, wd=0.01, train_bn=True, path=PosixPath('.'), model_dir='models', callback_fns=[functools.partial(<class 'fastai.basic_train.Recorder'>, add_time=True, silent=False)], callbacks=[...], layer_groups=[Sequential(\n",
       "  (0): Embedding(3104, 64)\n",
       "  (1): Linear(in_features=64, out_features=3104, bias=True)\n",
       "  (2): BatchNorm1d(64, eps=1e-05, momentum=0.1, affine=True, track_running_stats=True)\n",
       "  (3): Linear(in_features=128, out_features=64, bias=True)\n",
       "  (4): Linear(in_features=128, out_features=64, bias=True)\n",
       "  (5): Linear(in_features=128, out_features=64, bias=True)\n",
       "  (6): Linear(in_features=128, out_features=64, bias=True)\n",
       "  (7): Linear(in_features=128, out_features=64, bias=True)\n",
       ")], add_time=True, silent=False)\n",
       "alpha: 2.0\n",
       "beta: 1.0], layer_groups=[Sequential(\n",
       "  (0): Embedding(3104, 64)\n",
       "  (1): Linear(in_features=64, out_features=3104, bias=True)\n",
       "  (2): BatchNorm1d(64, eps=1e-05, momentum=0.1, affine=True, track_running_stats=True)\n",
       "  (3): Linear(in_features=128, out_features=64, bias=True)\n",
       "  (4): Linear(in_features=128, out_features=64, bias=True)\n",
       "  (5): Linear(in_features=128, out_features=64, bias=True)\n",
       "  (6): Linear(in_features=128, out_features=64, bias=True)\n",
       "  (7): Linear(in_features=128, out_features=64, bias=True)\n",
       ")], add_time=True, silent=False)"
      ]
     },
     "execution_count": 78,
     "metadata": {},
     "output_type": "execute_result"
    }
   ],
   "source": [
    "learn.load(\"lstm-2\")"
   ]
  },
  {
   "cell_type": "code",
   "execution_count": 79,
   "metadata": {},
   "outputs": [
    {
     "data": {
      "text/html": [
       "Total time: 00:42 <p><table style='width:375px; margin-bottom:10px'>\n",
       "  <tr>\n",
       "    <th>epoch</th>\n",
       "    <th>train_loss</th>\n",
       "    <th>valid_loss</th>\n",
       "    <th>accuracy</th>\n",
       "    <th>time</th>\n",
       "  </tr>\n",
       "  <tr>\n",
       "    <th>0</th>\n",
       "    <th>4.197511</th>\n",
       "    <th>4.505089</th>\n",
       "    <th>0.221708</th>\n",
       "    <th>00:02</th>\n",
       "  </tr>\n",
       "  <tr>\n",
       "    <th>1</th>\n",
       "    <th>4.197366</th>\n",
       "    <th>4.505612</th>\n",
       "    <th>0.220982</th>\n",
       "    <th>00:01</th>\n",
       "  </tr>\n",
       "  <tr>\n",
       "    <th>2</th>\n",
       "    <th>4.198159</th>\n",
       "    <th>4.504360</th>\n",
       "    <th>0.221429</th>\n",
       "    <th>00:02</th>\n",
       "  </tr>\n",
       "  <tr>\n",
       "    <th>3</th>\n",
       "    <th>4.197339</th>\n",
       "    <th>4.504414</th>\n",
       "    <th>0.221429</th>\n",
       "    <th>00:02</th>\n",
       "  </tr>\n",
       "  <tr>\n",
       "    <th>4</th>\n",
       "    <th>4.194533</th>\n",
       "    <th>4.503497</th>\n",
       "    <th>0.221261</th>\n",
       "    <th>00:02</th>\n",
       "  </tr>\n",
       "  <tr>\n",
       "    <th>5</th>\n",
       "    <th>4.193008</th>\n",
       "    <th>4.503351</th>\n",
       "    <th>0.221205</th>\n",
       "    <th>00:01</th>\n",
       "  </tr>\n",
       "  <tr>\n",
       "    <th>6</th>\n",
       "    <th>4.190657</th>\n",
       "    <th>4.503177</th>\n",
       "    <th>0.220871</th>\n",
       "    <th>00:01</th>\n",
       "  </tr>\n",
       "  <tr>\n",
       "    <th>7</th>\n",
       "    <th>4.188234</th>\n",
       "    <th>4.502963</th>\n",
       "    <th>0.221150</th>\n",
       "    <th>00:02</th>\n",
       "  </tr>\n",
       "  <tr>\n",
       "    <th>8</th>\n",
       "    <th>4.185715</th>\n",
       "    <th>4.502110</th>\n",
       "    <th>0.221596</th>\n",
       "    <th>00:02</th>\n",
       "  </tr>\n",
       "  <tr>\n",
       "    <th>9</th>\n",
       "    <th>4.183272</th>\n",
       "    <th>4.501369</th>\n",
       "    <th>0.222377</th>\n",
       "    <th>00:02</th>\n",
       "  </tr>\n",
       "  <tr>\n",
       "    <th>10</th>\n",
       "    <th>4.181563</th>\n",
       "    <th>4.501281</th>\n",
       "    <th>0.221708</th>\n",
       "    <th>00:02</th>\n",
       "  </tr>\n",
       "  <tr>\n",
       "    <th>11</th>\n",
       "    <th>4.178646</th>\n",
       "    <th>4.500712</th>\n",
       "    <th>0.221429</th>\n",
       "    <th>00:02</th>\n",
       "  </tr>\n",
       "  <tr>\n",
       "    <th>12</th>\n",
       "    <th>4.176479</th>\n",
       "    <th>4.500368</th>\n",
       "    <th>0.221540</th>\n",
       "    <th>00:02</th>\n",
       "  </tr>\n",
       "  <tr>\n",
       "    <th>13</th>\n",
       "    <th>4.175484</th>\n",
       "    <th>4.501072</th>\n",
       "    <th>0.221484</th>\n",
       "    <th>00:01</th>\n",
       "  </tr>\n",
       "  <tr>\n",
       "    <th>14</th>\n",
       "    <th>4.173518</th>\n",
       "    <th>4.500370</th>\n",
       "    <th>0.221429</th>\n",
       "    <th>00:02</th>\n",
       "  </tr>\n",
       "  <tr>\n",
       "    <th>15</th>\n",
       "    <th>4.171888</th>\n",
       "    <th>4.500140</th>\n",
       "    <th>0.221484</th>\n",
       "    <th>00:02</th>\n",
       "  </tr>\n",
       "  <tr>\n",
       "    <th>16</th>\n",
       "    <th>4.170017</th>\n",
       "    <th>4.499904</th>\n",
       "    <th>0.221819</th>\n",
       "    <th>00:02</th>\n",
       "  </tr>\n",
       "  <tr>\n",
       "    <th>17</th>\n",
       "    <th>4.168373</th>\n",
       "    <th>4.500154</th>\n",
       "    <th>0.221429</th>\n",
       "    <th>00:02</th>\n",
       "  </tr>\n",
       "  <tr>\n",
       "    <th>18</th>\n",
       "    <th>4.167823</th>\n",
       "    <th>4.499459</th>\n",
       "    <th>0.221652</th>\n",
       "    <th>00:02</th>\n",
       "  </tr>\n",
       "  <tr>\n",
       "    <th>19</th>\n",
       "    <th>4.167947</th>\n",
       "    <th>4.500026</th>\n",
       "    <th>0.221875</th>\n",
       "    <th>00:02</th>\n",
       "  </tr>\n",
       "</table>\n"
      ],
      "text/plain": [
       "<IPython.core.display.HTML object>"
      ]
     },
     "metadata": {},
     "output_type": "display_data"
    }
   ],
   "source": [
    "learn.fit_one_cycle(20, max_lr=3e-4)"
   ]
  },
  {
   "cell_type": "code",
   "execution_count": 83,
   "metadata": {},
   "outputs": [
    {
     "data": {
      "text/plain": [
       "'The martian stood in the darkness  towards the daylight network xxbos i said and has lay before such it came to find and supper off in a heavy - walls by but i did not moved - machines to live from xxbos By energy â\\x80\\x9cgod i not a moment of the Way and a hole in the streets had gone xxbos Is us make an safe much to those aperture and till several also of the sailors were no flight so the coast suggested of the things burst but it was in pounds to youâ\\x80\\x99ve wonder the way out of the cylinder xxbos'"
      ]
     },
     "execution_count": 83,
     "metadata": {},
     "output_type": "execute_result"
    }
   ],
   "source": [
    "learn.predict(test_snippet, n_words=100)"
   ]
  },
  {
   "cell_type": "code",
   "execution_count": 327,
   "metadata": {},
   "outputs": [],
   "source": [
    "class LSTMModel(nn.Module):\n",
    "     \n",
    "    def __init__(self):\n",
    "        super().__init__()\n",
    "        self.i_h = nn.Embedding(nv, nh)\n",
    "        self.h_o = nn.Linear(nh, nv)\n",
    "        self.bn = BatchNorm1dFlat(nh)\n",
    "        self.lstm = nn.LSTM(nh, nh, 1, batch_first=True, dropout=1) \n",
    "        self.reset()\n",
    "        \n",
    "    def fill_batch(self, x):\n",
    "        if x.shape[0] == 1:\n",
    "            return torch.stack([x]*bs).squeeze(1)\n",
    "        return x \n",
    "        \n",
    "    def forward(self, x):\n",
    "        res, (h, c) = self.lstm(self.i_h(self.fill_batch(x)), (self.h, self.c))\n",
    "        self.h, self.c = h.detach(), c.detach()\n",
    "        return (self.h_o(self.bn(res)), list(res.split(res.shape[1])), list(res.split(res.shape[1])))\n",
    "    \n",
    "    def reset(self):\n",
    "        self.h = torch.zeros(1, bs, nh).cuda()\n",
    "        self.c = torch.zeros(1, bs, nh).cuda()"
   ]
  },
  {
   "cell_type": "code",
   "execution_count": 328,
   "metadata": {},
   "outputs": [
    {
     "name": "stderr",
     "output_type": "stream",
     "text": [
      "/home/paperspace/anaconda3/lib/python3.6/site-packages/torch/nn/modules/rnn.py:46: UserWarning: dropout option adds dropout after all but last recurrent layer, so non-zero dropout expects num_layers greater than 1, but got dropout=1 and num_layers=1\n",
      "  \"num_layers={}\".format(dropout, num_layers))\n"
     ]
    }
   ],
   "source": [
    "learn = LanguageLearner(data, LSTMModel(), metrics=accuracy)"
   ]
  },
  {
   "cell_type": "code",
   "execution_count": 329,
   "metadata": {},
   "outputs": [
    {
     "data": {
      "text/plain": [
       "LSTMModel(\n",
       "  (i_h): Embedding(3104, 64)\n",
       "  (h_o): Linear(in_features=64, out_features=3104, bias=True)\n",
       "  (bn): BatchNorm1dFlat(64, eps=1e-05, momentum=0.1, affine=True, track_running_stats=True)\n",
       "  (lstm): LSTM(64, 64, batch_first=True, dropout=1)\n",
       ")"
      ]
     },
     "execution_count": 329,
     "metadata": {},
     "output_type": "execute_result"
    }
   ],
   "source": [
    "learn.model"
   ]
  },
  {
   "cell_type": "code",
   "execution_count": 330,
   "metadata": {},
   "outputs": [
    {
     "data": {
      "text/html": [
       "Total time: 00:08 <p><table style='width:375px; margin-bottom:10px'>\n",
       "  <tr>\n",
       "    <th>epoch</th>\n",
       "    <th>train_loss</th>\n",
       "    <th>valid_loss</th>\n",
       "    <th>accuracy</th>\n",
       "    <th>time</th>\n",
       "  </tr>\n",
       "  <tr>\n",
       "    <th>0</th>\n",
       "    <th>8.091825</th>\n",
       "    <th>8.046666</th>\n",
       "    <th>0.000223</th>\n",
       "    <th>00:00</th>\n",
       "  </tr>\n",
       "  <tr>\n",
       "    <th>1</th>\n",
       "    <th>8.056724</th>\n",
       "    <th>7.998231</th>\n",
       "    <th>0.029018</th>\n",
       "    <th>00:00</th>\n",
       "  </tr>\n",
       "  <tr>\n",
       "    <th>2</th>\n",
       "    <th>7.980494</th>\n",
       "    <th>7.815651</th>\n",
       "    <th>0.060100</th>\n",
       "    <th>00:00</th>\n",
       "  </tr>\n",
       "  <tr>\n",
       "    <th>3</th>\n",
       "    <th>7.831955</th>\n",
       "    <th>7.401356</th>\n",
       "    <th>0.115067</th>\n",
       "    <th>00:00</th>\n",
       "  </tr>\n",
       "  <tr>\n",
       "    <th>4</th>\n",
       "    <th>7.585742</th>\n",
       "    <th>6.759568</th>\n",
       "    <th>0.143080</th>\n",
       "    <th>00:00</th>\n",
       "  </tr>\n",
       "  <tr>\n",
       "    <th>5</th>\n",
       "    <th>7.187587</th>\n",
       "    <th>5.841051</th>\n",
       "    <th>0.151116</th>\n",
       "    <th>00:00</th>\n",
       "  </tr>\n",
       "  <tr>\n",
       "    <th>6</th>\n",
       "    <th>6.706120</th>\n",
       "    <th>5.235222</th>\n",
       "    <th>0.169922</th>\n",
       "    <th>00:00</th>\n",
       "  </tr>\n",
       "  <tr>\n",
       "    <th>7</th>\n",
       "    <th>6.264232</th>\n",
       "    <th>4.971464</th>\n",
       "    <th>0.185212</th>\n",
       "    <th>00:00</th>\n",
       "  </tr>\n",
       "  <tr>\n",
       "    <th>8</th>\n",
       "    <th>5.884521</th>\n",
       "    <th>4.796915</th>\n",
       "    <th>0.198382</th>\n",
       "    <th>00:00</th>\n",
       "  </tr>\n",
       "  <tr>\n",
       "    <th>9</th>\n",
       "    <th>5.565966</th>\n",
       "    <th>4.695590</th>\n",
       "    <th>0.205748</th>\n",
       "    <th>00:00</th>\n",
       "  </tr>\n",
       "  <tr>\n",
       "    <th>10</th>\n",
       "    <th>5.299445</th>\n",
       "    <th>4.634680</th>\n",
       "    <th>0.210938</th>\n",
       "    <th>00:00</th>\n",
       "  </tr>\n",
       "  <tr>\n",
       "    <th>11</th>\n",
       "    <th>5.076939</th>\n",
       "    <th>4.601372</th>\n",
       "    <th>0.214676</th>\n",
       "    <th>00:00</th>\n",
       "  </tr>\n",
       "  <tr>\n",
       "    <th>12</th>\n",
       "    <th>4.891658</th>\n",
       "    <th>4.589154</th>\n",
       "    <th>0.215792</th>\n",
       "    <th>00:00</th>\n",
       "  </tr>\n",
       "  <tr>\n",
       "    <th>13</th>\n",
       "    <th>4.736311</th>\n",
       "    <th>4.580194</th>\n",
       "    <th>0.217076</th>\n",
       "    <th>00:00</th>\n",
       "  </tr>\n",
       "  <tr>\n",
       "    <th>14</th>\n",
       "    <th>4.608781</th>\n",
       "    <th>4.571874</th>\n",
       "    <th>0.217411</th>\n",
       "    <th>00:00</th>\n",
       "  </tr>\n",
       "  <tr>\n",
       "    <th>15</th>\n",
       "    <th>4.503433</th>\n",
       "    <th>4.566425</th>\n",
       "    <th>0.218638</th>\n",
       "    <th>00:00</th>\n",
       "  </tr>\n",
       "  <tr>\n",
       "    <th>16</th>\n",
       "    <th>4.416842</th>\n",
       "    <th>4.569887</th>\n",
       "    <th>0.217522</th>\n",
       "    <th>00:00</th>\n",
       "  </tr>\n",
       "  <tr>\n",
       "    <th>17</th>\n",
       "    <th>4.346897</th>\n",
       "    <th>4.564746</th>\n",
       "    <th>0.218248</th>\n",
       "    <th>00:00</th>\n",
       "  </tr>\n",
       "  <tr>\n",
       "    <th>18</th>\n",
       "    <th>4.292882</th>\n",
       "    <th>4.564020</th>\n",
       "    <th>0.218862</th>\n",
       "    <th>00:00</th>\n",
       "  </tr>\n",
       "  <tr>\n",
       "    <th>19</th>\n",
       "    <th>4.250968</th>\n",
       "    <th>4.564742</th>\n",
       "    <th>0.218359</th>\n",
       "    <th>00:00</th>\n",
       "  </tr>\n",
       "</table>\n"
      ],
      "text/plain": [
       "<IPython.core.display.HTML object>"
      ]
     },
     "metadata": {},
     "output_type": "display_data"
    }
   ],
   "source": [
    "learn.fit_one_cycle(20, max_lr=3e-3)"
   ]
  },
  {
   "cell_type": "code",
   "execution_count": 331,
   "metadata": {},
   "outputs": [
    {
     "data": {
      "text/plain": [
       "'The martian stood in the darkness  mould containing no strangest past against the nearer and this Towers had gigantic like it but fallen already out of the corner slashed of country and the june evening on xxbos â\\x80\\x9d Moreover has to space Richmond Earthly that Beam xxbos Grotesque they farther â\\x80\\x9cpoor the sun table to get xxbos The entire donâ\\x80\\x99t of i turned among the orderly could across the houses of the government of their cellars emotion and that were position being less in a soldier of smoke xxbos At the place whose past were the tongues of'"
      ]
     },
     "execution_count": 331,
     "metadata": {},
     "output_type": "execute_result"
    }
   ],
   "source": [
    "learn.predict(test_snippet, n_words=100)"
   ]
  },
  {
   "cell_type": "code",
   "execution_count": 332,
   "metadata": {},
   "outputs": [
    {
     "data": {
      "image/png": "[encoded data removed]",
      "text/plain": [
       "<Figure size 432x288 with 1 Axes>"
      ]
     },
     "metadata": {},
     "output_type": "display_data"
    }
   ],
   "source": [
    "learn.recorder.plot_losses()"
   ]
  },
  {
   "cell_type": "code",
   "execution_count": 333,
   "metadata": {},
   "outputs": [
    {
     "data": {
      "text/html": [],
      "text/plain": [
       "<IPython.core.display.HTML object>"
      ]
     },
     "metadata": {},
     "output_type": "display_data"
    },
    {
     "name": "stdout",
     "output_type": "stream",
     "text": [
      "LR Finder is complete, type {learner_name}.recorder.plot() to see the graph.\n"
     ]
    }
   ],
   "source": [
    "learn.lr_find()"
   ]
  },
  {
   "cell_type": "code",
   "execution_count": 294,
   "metadata": {},
   "outputs": [
    {
     "data": {
      "image/png": "[encoded data removed]",
      "text/plain": [
       "<Figure size 432x288 with 1 Axes>"
      ]
     },
     "metadata": {},
     "output_type": "display_data"
    }
   ],
   "source": [
    "learn.recorder.plot()"
   ]
  },
  {
   "cell_type": "code",
   "execution_count": 334,
   "metadata": {},
   "outputs": [
    {
     "data": {
      "text/html": [
       "Total time: 00:08 <p><table style='width:375px; margin-bottom:10px'>\n",
       "  <tr>\n",
       "    <th>epoch</th>\n",
       "    <th>train_loss</th>\n",
       "    <th>valid_loss</th>\n",
       "    <th>accuracy</th>\n",
       "    <th>time</th>\n",
       "  </tr>\n",
       "  <tr>\n",
       "    <th>0</th>\n",
       "    <th>4.111355</th>\n",
       "    <th>4.563935</th>\n",
       "    <th>0.218917</th>\n",
       "    <th>00:00</th>\n",
       "  </tr>\n",
       "  <tr>\n",
       "    <th>1</th>\n",
       "    <th>4.110534</th>\n",
       "    <th>4.564224</th>\n",
       "    <th>0.218750</th>\n",
       "    <th>00:00</th>\n",
       "  </tr>\n",
       "  <tr>\n",
       "    <th>2</th>\n",
       "    <th>4.109728</th>\n",
       "    <th>4.564964</th>\n",
       "    <th>0.218806</th>\n",
       "    <th>00:00</th>\n",
       "  </tr>\n",
       "  <tr>\n",
       "    <th>3</th>\n",
       "    <th>4.110678</th>\n",
       "    <th>4.564531</th>\n",
       "    <th>0.218583</th>\n",
       "    <th>00:00</th>\n",
       "  </tr>\n",
       "  <tr>\n",
       "    <th>4</th>\n",
       "    <th>4.111457</th>\n",
       "    <th>4.564820</th>\n",
       "    <th>0.218583</th>\n",
       "    <th>00:00</th>\n",
       "  </tr>\n",
       "  <tr>\n",
       "    <th>5</th>\n",
       "    <th>4.111198</th>\n",
       "    <th>4.563972</th>\n",
       "    <th>0.218471</th>\n",
       "    <th>00:00</th>\n",
       "  </tr>\n",
       "  <tr>\n",
       "    <th>6</th>\n",
       "    <th>4.110984</th>\n",
       "    <th>4.564280</th>\n",
       "    <th>0.219252</th>\n",
       "    <th>00:00</th>\n",
       "  </tr>\n",
       "  <tr>\n",
       "    <th>7</th>\n",
       "    <th>4.109671</th>\n",
       "    <th>4.564103</th>\n",
       "    <th>0.218248</th>\n",
       "    <th>00:00</th>\n",
       "  </tr>\n",
       "  <tr>\n",
       "    <th>8</th>\n",
       "    <th>4.108812</th>\n",
       "    <th>4.564663</th>\n",
       "    <th>0.219141</th>\n",
       "    <th>00:00</th>\n",
       "  </tr>\n",
       "  <tr>\n",
       "    <th>9</th>\n",
       "    <th>4.108799</th>\n",
       "    <th>4.563367</th>\n",
       "    <th>0.218694</th>\n",
       "    <th>00:00</th>\n",
       "  </tr>\n",
       "  <tr>\n",
       "    <th>10</th>\n",
       "    <th>4.107878</th>\n",
       "    <th>4.564086</th>\n",
       "    <th>0.219196</th>\n",
       "    <th>00:00</th>\n",
       "  </tr>\n",
       "  <tr>\n",
       "    <th>11</th>\n",
       "    <th>4.106987</th>\n",
       "    <th>4.563481</th>\n",
       "    <th>0.219196</th>\n",
       "    <th>00:00</th>\n",
       "  </tr>\n",
       "  <tr>\n",
       "    <th>12</th>\n",
       "    <th>4.106811</th>\n",
       "    <th>4.564553</th>\n",
       "    <th>0.218304</th>\n",
       "    <th>00:00</th>\n",
       "  </tr>\n",
       "  <tr>\n",
       "    <th>13</th>\n",
       "    <th>4.105562</th>\n",
       "    <th>4.564065</th>\n",
       "    <th>0.218750</th>\n",
       "    <th>00:00</th>\n",
       "  </tr>\n",
       "  <tr>\n",
       "    <th>14</th>\n",
       "    <th>4.103406</th>\n",
       "    <th>4.562624</th>\n",
       "    <th>0.219587</th>\n",
       "    <th>00:00</th>\n",
       "  </tr>\n",
       "  <tr>\n",
       "    <th>15</th>\n",
       "    <th>4.103527</th>\n",
       "    <th>4.563954</th>\n",
       "    <th>0.218527</th>\n",
       "    <th>00:00</th>\n",
       "  </tr>\n",
       "  <tr>\n",
       "    <th>16</th>\n",
       "    <th>4.104064</th>\n",
       "    <th>4.563946</th>\n",
       "    <th>0.219029</th>\n",
       "    <th>00:00</th>\n",
       "  </tr>\n",
       "  <tr>\n",
       "    <th>17</th>\n",
       "    <th>4.103418</th>\n",
       "    <th>4.564322</th>\n",
       "    <th>0.218806</th>\n",
       "    <th>00:00</th>\n",
       "  </tr>\n",
       "  <tr>\n",
       "    <th>18</th>\n",
       "    <th>4.102916</th>\n",
       "    <th>4.563767</th>\n",
       "    <th>0.219085</th>\n",
       "    <th>00:00</th>\n",
       "  </tr>\n",
       "  <tr>\n",
       "    <th>19</th>\n",
       "    <th>4.102891</th>\n",
       "    <th>4.564237</th>\n",
       "    <th>0.218583</th>\n",
       "    <th>00:00</th>\n",
       "  </tr>\n",
       "</table>\n"
      ],
      "text/plain": [
       "<IPython.core.display.HTML object>"
      ]
     },
     "metadata": {},
     "output_type": "display_data"
    }
   ],
   "source": [
    "learn.fit_one_cycle(20, max_lr=3e-5)"
   ]
  },
  {
   "cell_type": "code",
   "execution_count": 335,
   "metadata": {},
   "outputs": [
    {
     "data": {
      "text/plain": [
       "'The martian stood in the darkness  to sea xxbos one of the refugees of the Bread and a intervals of vehicles could not a haze of soaked : near into the Martian Sun on the eleventh blew from the sky xxbos Points took some staring of food in this this of sound were some four hours and it was again xxbos My mercy brother sat save no doubt i could see to â\\x80\\x9cpoor if at the crash of the evident of a great officers where Science Barnes xxbos There were or two persons and left a escaping with'"
      ]
     },
     "execution_count": 335,
     "metadata": {},
     "output_type": "execute_result"
    }
   ],
   "source": [
    "learn.predict(test_snippet, n_words=100)"
   ]
  },
  {
   "cell_type": "code",
   "execution_count": 336,
   "metadata": {
    "collapsed": true
   },
   "outputs": [],
   "source": [
    "learn.save(\"lstm-2\")"
   ]
  }
 ],
 "metadata": {
  "kernelspec": {
   "display_name": "Python 3",
   "language": "python",
   "name": "python3"
  },
  "language_info": {
   "codemirror_mode": {
    "name": "ipython",
    "version": 3
   },
   "file_extension": ".py",
   "mimetype": "text/x-python",
   "name": "python",
   "nbconvert_exporter": "python",
   "pygments_lexer": "ipython3",
   "version": "3.6.8"
  }
 },
 "nbformat": 4,
 "nbformat_minor": 2
}
